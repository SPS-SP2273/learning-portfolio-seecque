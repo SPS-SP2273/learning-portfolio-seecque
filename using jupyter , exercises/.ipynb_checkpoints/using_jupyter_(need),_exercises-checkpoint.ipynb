{
 "cells": [
  {
   "attachments": {},
   "cell_type": "markdown",
   "id": "123456",
   "metadata": {},
   "source": [
    "<div style=\"text-align:left;font-size:2em\"><span style=\"font-weight:bolder;font-size:1.25em\">SP2273 | Learning Portfolio</span><br><br><span style=\"font-weight:bold;color:darkred\">Using Jupyter (Need), Exercises</span></div>"
   ]
  },
  {
   "attachments": {},
   "cell_type": "markdown",
   "id": "7fc6b69e",
   "metadata": {},
   "source": [
    "# Week 1: Quadratic Equations"
   ]
  },
  {
   "attachments": {},
   "cell_type": "markdown",
   "id": "57d5c8ea",
   "metadata": {},
   "source": [
    "## Introduction"
   ]
  },
  {
   "cell_type": "markdown",
   "id": "b13e6dc3-1b38-4c0c-b041-248b23a0bcc1",
   "metadata": {},
   "source": [
    "\n",
    "![](https://upload.wikimedia.org/wikipedia/commons/thumb/f/f8/Polynomialdeg2.svg/600px-Polynomialdeg2.svg.png)\n",
    "\n",
    "(*Image from* [<u>*Wikipedia page on Quadratic Equation*</u>](https://en.wikipedia.org/wiki/Quadratic_equation))\n",
    "\n",
    "The general form of a quadratic equation is:\n",
    "\n",
    "$$\n",
    "ax^2+bx+c=0\n",
    "$$\n"
   ]
  },
  {
   "attachments": {},
   "cell_type": "markdown",
   "id": "96bbea3b",
   "metadata": {},
   "source": [
    "## Solutions"
   ]
  },
  {
   "cell_type": "markdown",
   "id": "d0c24016-c0bb-4ed2-875c-007b5aee78bc",
   "metadata": {},
   "source": [
    "Provided $a \\ne b$, we can use an elementary algebraic method called [<u>compeleting the square</u>](https://en.wikipedia.org/wiki/Completing_the_square) to show that a quadratic equation has the following solution:\n",
    "\n",
    "$$\n",
    "x = \\dfrac {-b \\pm \\sqrt{b^2-4ac}}{2a}\n",
    "$$"
   ]
  },
  {
   "attachments": {},
   "cell_type": "markdown",
   "id": "381118e8",
   "metadata": {},
   "source": [
    "## Discriminant"
   ]
  },
  {
   "cell_type": "markdown",
   "id": "7790f8ca-ba19-48e2-8616-6eba1a36b2c2",
   "metadata": {},
   "source": [
    "The quantity $\\Delta = b^2-4ac$ is called the **discriminant** of the equation and decides on the nature of its solutions. The table below shows the various possibilities.\n",
    "\n",
    "|**Discriminant**|**Roots**|\n",
    "|:---------------:|--------:|\n",
    "|$\\Delta = b^2 -4ac =0$| A single solution of $-b$/$(2a)$|\n",
    "|$\\Delta = b^2 -4ac \\gt 0$| Two distinct solutions|\n",
    "|$\\Delta = b^2 -4ac \\lt 0$| No real solutions; both are complex|"
   ]
  },
  {
   "cell_type": "markdown",
   "id": "35334177-c03f-45a6-b3c0-bb88b7933dcd",
   "metadata": {},
   "source": [
    "## Exercise 2 ☻\n",
    "\n",
    "**Use a Markdown cell to answer the following.** \n",
    "\n",
    "Qn: What is a Git repository?\n",
    "\n",
    "Ans:Git repository is a storage space where our project's files are stored. It allows us to keep track of all the changes made to these files over time. It's like Google Docs for our coding projects. \n",
    "\n",
    "Qn: Git keeps tracks of ____changes____ in the files in our repository.\n",
    "\n",
    "Qn: What is a commit?\n",
    "\n",
    "Ans: A commit is like a saved version of your project. When you make changes to your project files, a commit allows you to record those specific changes.\n",
    "\n",
    "Qn: What is a push?\n",
    "\n",
    "Ans: Push in GitHub is the process of uploading local repository changes to a remote repository. \n",
    "\n",
    "Qn: What is a pull?\n",
    "\n",
    "Ans: Pull in GitHub is the process of downloading changes from a remote repository to your local repository. \n",
    "\n",
    "Qn: What is the difference between GitHub and GitHub Desktop?\n",
    "\n",
    "Ans: GitHub is the web-based service and platform for hosting and collaborating on Git repositories, while GitHub Desktop is an application that helps us manage Git repositories on your local machine. "
   ]
  }
 ],
 "metadata": {
  "kernelspec": {
   "display_name": "Python 3 (ipykernel)",
   "language": "python",
   "name": "python3"
  },
  "language_info": {
   "codemirror_mode": {
    "name": "ipython",
    "version": 3
   },
   "file_extension": ".py",
   "mimetype": "text/x-python",
   "name": "python",
   "nbconvert_exporter": "python",
   "pygments_lexer": "ipython3",
   "version": "3.11.5"
  },
  "toc": {
   "base_numbering": 1,
   "nav_menu": {},
   "number_sections": true,
   "sideBar": true,
   "skip_h1_title": false,
   "title_cell": "Table of Contents",
   "title_sidebar": "Contents",
   "toc_cell": false,
   "toc_position": {},
   "toc_section_display": true,
   "toc_window_display": false
  },
  "vscode": {
   "interpreter": {
    "hash": "31f2aee4e71d21fbe5cf8b01ff0e069b9275f58929596ceb00d14d90e3e16cd6"
   }
  }
 },
 "nbformat": 4,
 "nbformat_minor": 5
}
