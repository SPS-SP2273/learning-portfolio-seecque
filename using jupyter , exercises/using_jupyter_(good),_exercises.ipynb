{
 "cells": [
  {
   "attachments": {},
   "cell_type": "markdown",
   "id": "123456",
   "metadata": {},
   "source": [
    "<div style=\"text-align:left;font-size:2em\"><span style=\"font-weight:bolder;font-size:1.25em\">SP2273 | Learning Portfolio</span><br><br><span style=\"font-weight:bold;color:darkred\">Using Jupyter (Good), Exercises</span></div>"
   ]
  },
  {
   "cell_type": "markdown",
   "id": "1096b66a-ef3e-40fe-a654-caabc151b26f",
   "metadata": {},
   "source": [
    "# Week 2: Using Jupyter Exercise (Good)"
   ]
  },
  {
   "cell_type": "markdown",
   "id": "a23ff229-b9b1-415c-8802-7be786be3ce8",
   "metadata": {},
   "source": [
    "**Exercise 1: Learning to interrupt** "
   ]
  },
  {
   "cell_type": "markdown",
   "id": "711040a6-5ec4-4518-ac9e-1009d8649e5d",
   "metadata": {},
   "source": [
    "**Exercise 2: Resetting and Restarting the Kernal** "
   ]
  },
  {
   "cell_type": "code",
   "execution_count": null,
   "id": "fe932395-ce22-4448-b0c7-7828900d4c66",
   "metadata": {},
   "outputs": [],
   "source": [
    "print(\"Hello World\")"
   ]
  },
  {
   "cell_type": "code",
   "execution_count": 1,
   "id": "468813fc-afaf-4fd5-9504-7aed49c7a572",
   "metadata": {},
   "outputs": [
    {
     "name": "stdout",
     "output_type": "stream",
     "text": [
      "Hello World\n"
     ]
    }
   ],
   "source": [
    "print(\"Hello World\")"
   ]
  },
  {
   "cell_type": "markdown",
   "id": "956eea40-d14d-4556-91c5-dd6f73873942",
   "metadata": {},
   "source": [
    "# Week 3: Fundamentals exercise (Good)"
   ]
  },
  {
   "cell_type": "markdown",
   "id": "45f00a09-adba-450d-b2f1-d5cd2b1ea607",
   "metadata": {},
   "source": [
    "## **Exercise 1 (What is your grade?)**"
   ]
  },
  {
   "cell_type": "code",
   "execution_count": 5,
   "id": "828d429c-a202-4aed-b4bb-42478d101b4a",
   "metadata": {},
   "outputs": [
    {
     "name": "stdin",
     "output_type": "stream",
     "text": [
      "Give me a number? 6\n"
     ]
    },
    {
     "name": "stdout",
     "output_type": "stream",
     "text": [
      "You entered 6\n"
     ]
    }
   ],
   "source": [
    "user_input = input('Give me a number?')\n",
    "print('You entered', user_input)"
   ]
  },
  {
   "cell_type": "code",
   "execution_count": 18,
   "id": "b433c01f-acc5-430f-8956-424bee87d2e0",
   "metadata": {},
   "outputs": [
    {
     "name": "stdin",
     "output_type": "stream",
     "text": [
      "Enter the student's score 90\n"
     ]
    },
    {
     "name": "stdout",
     "output_type": "stream",
     "text": [
      "A\n"
     ]
    }
   ],
   "source": [
    "student_score=int(input(\"Enter the student's score\"))\n",
    "\n",
    "if student_score>70:\n",
    "    print('A')\n",
    "elif 50<student_score<70:\n",
    "    print('B')\n",
    "elif 35<student_score<49:\n",
    "    print('C')\n",
    "else:\n",
    "    print('Fail')"
   ]
  }
 ],
 "metadata": {
  "kernelspec": {
   "display_name": "Python 3 (ipykernel)",
   "language": "python",
   "name": "python3"
  },
  "language_info": {
   "codemirror_mode": {
    "name": "ipython",
    "version": 3
   },
   "file_extension": ".py",
   "mimetype": "text/x-python",
   "name": "python",
   "nbconvert_exporter": "python",
   "pygments_lexer": "ipython3",
   "version": "3.11.5"
  },
  "toc": {
   "base_numbering": 1,
   "nav_menu": {},
   "number_sections": true,
   "sideBar": true,
   "skip_h1_title": false,
   "title_cell": "Table of Contents",
   "title_sidebar": "Contents",
   "toc_cell": false,
   "toc_position": {},
   "toc_section_display": true,
   "toc_window_display": false
  },
  "vscode": {
   "interpreter": {
    "hash": "31f2aee4e71d21fbe5cf8b01ff0e069b9275f58929596ceb00d14d90e3e16cd6"
   }
  }
 },
 "nbformat": 4,
 "nbformat_minor": 5
}
