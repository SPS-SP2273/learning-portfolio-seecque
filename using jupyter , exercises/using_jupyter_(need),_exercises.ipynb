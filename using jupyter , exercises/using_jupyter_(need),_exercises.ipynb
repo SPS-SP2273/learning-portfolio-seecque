{
 "cells": [
  {
   "attachments": {},
   "cell_type": "markdown",
   "id": "123456",
   "metadata": {},
   "source": [
    "<div style=\"text-align:left;font-size:2em\"><span style=\"font-weight:bolder;font-size:1.25em\">SP2273 | Learning Portfolio</span><br><br><span style=\"font-weight:bold;color:darkred\">Using Jupyter (Need), Exercises</span></div>"
   ]
  },
  {
   "attachments": {},
   "cell_type": "markdown",
   "id": "7fc6b69e",
   "metadata": {},
   "source": [
    "# Week 1: Quadratic Equations"
   ]
  },
  {
   "attachments": {},
   "cell_type": "markdown",
   "id": "57d5c8ea",
   "metadata": {},
   "source": [
    "## Introduction"
   ]
  },
  {
   "cell_type": "markdown",
   "id": "b13e6dc3-1b38-4c0c-b041-248b23a0bcc1",
   "metadata": {},
   "source": [
    "\n",
    "![](https://upload.wikimedia.org/wikipedia/commons/thumb/f/f8/Polynomialdeg2.svg/600px-Polynomialdeg2.svg.png)\n",
    "\n",
    "(*Image from* [<u>*Wikipedia page on Quadratic Equation*</u>](https://en.wikipedia.org/wiki/Quadratic_equation))\n",
    "\n",
    "The general form of a quadratic equation is:\n",
    "\n",
    "$$\n",
    "ax^2+bx+c=0\n",
    "$$\n"
   ]
  },
  {
   "attachments": {},
   "cell_type": "markdown",
   "id": "96bbea3b",
   "metadata": {},
   "source": [
    "## Solutions"
   ]
  },
  {
   "cell_type": "markdown",
   "id": "d0c24016-c0bb-4ed2-875c-007b5aee78bc",
   "metadata": {},
   "source": [
    "Provided $a \\ne b$, we can use an elementary algebraic method called [<u>compeleting the square</u>](https://en.wikipedia.org/wiki/Completing_the_square) to show that a quadratic equation has the following solution:\n",
    "\n",
    "$$\n",
    "x = \\dfrac {-b \\pm \\sqrt{b^2-4ac}}{2a}\n",
    "$$"
   ]
  },
  {
   "attachments": {},
   "cell_type": "markdown",
   "id": "381118e8",
   "metadata": {},
   "source": [
    "## Discriminant"
   ]
  },
  {
   "cell_type": "markdown",
   "id": "7790f8ca-ba19-48e2-8616-6eba1a36b2c2",
   "metadata": {},
   "source": [
    "The quantity $\\Delta = b^2-4ac$ is called the **discriminant** of the equation and decides on the nature of its solutions. The table below shows the various possibilities.\n",
    "\n",
    "|**Discriminant**|**Roots**|\n",
    "|:---------------:|--------:|\n",
    "|$\\Delta = b^2 -4ac =0$| A single solution of $-b$/$(2a)$|\n",
    "|$\\Delta = b^2 -4ac \\gt 0$| Two distinct solutions|\n",
    "|$\\Delta = b^2 -4ac \\lt 0$| No real solutions; both are complex|"
   ]
  },
  {
   "cell_type": "markdown",
   "id": "35334177-c03f-45a6-b3c0-bb88b7933dcd",
   "metadata": {},
   "source": [
    "## Exercise 2 ☻\n",
    "\n",
    "**Use a Markdown cell to answer the following.** \n",
    "\n",
    "Qn: What is a Git repository?\n",
    "\n",
    "Ans:Git repository is a storage space where our project's files are stored. It allows us to keep track of all the changes made to these files over time. It's like Google Docs for our coding projects. \n",
    "\n",
    "Qn: Git keeps tracks of ____changes____ in the files in our repository.\n",
    "\n",
    "Qn: What is a commit?\n",
    "\n",
    "Ans: A commit is like a saved version of your project. When you make changes to your project files, a commit allows you to record those specific changes.\n",
    "\n",
    "Qn: What is a push?\n",
    "\n",
    "Ans: Push in GitHub is the process of uploading local repository changes to a remote repository. \n",
    "\n",
    "Qn: What is a pull?\n",
    "\n",
    "Ans: Pull in GitHub is the process of downloading changes from a remote repository to your local repository. \n",
    "\n",
    "Qn: What is the difference between GitHub and GitHub Desktop?\n",
    "\n",
    "Ans: GitHub is the web-based service and platform for hosting and collaborating on Git repositories, while GitHub Desktop is an application that helps us manage Git repositories on your local machine. "
   ]
  },
  {
   "cell_type": "markdown",
   "id": "c7702b32-4cf1-49ed-ab19-c2296890f9b4",
   "metadata": {},
   "source": [
    "# Week 2: Fundamentals (Need)"
   ]
  },
  {
   "cell_type": "markdown",
   "id": "1a9bc41d-f51f-46f7-ab66-530b797b5222",
   "metadata": {},
   "source": [
    "## Exercise 1\n",
    "\n",
    "1. Variables: Used to store information to be referenced and manipulated in code.\n",
    "3. Control flow: If statements, for and while loops, break, continue, and pass statements.\n",
    "4. *Functions: Defined with the **def** keyword to create reusable blocks of code. Such examples include print( ) function*\n",
    "5.  Packages: NumPy and Math packages. *Collections of functions, classes, and variables defined in separate files, which can be imported into a script.*\n"
   ]
  },
  {
   "cell_type": "markdown",
   "id": "2e3146b6-94c1-479c-9497-f0a23957cba0",
   "metadata": {},
   "source": [
    "## Exercise 2 (Debug me) ☻\n",
    "\n",
    "Fix (debug) the following code to create a Pythagorean triple 3, 4, 5 (because $3^2 + 4^2 =5^2$ )."
   ]
  },
  {
   "cell_type": "code",
   "execution_count": 3,
   "id": "bf61f5d2-076e-4574-ae26-2b37f3be1bdb",
   "metadata": {},
   "outputs": [
    {
     "ename": "IndentationError",
     "evalue": "unindent does not match any outer indentation level (<tokenize>, line 3)",
     "output_type": "error",
     "traceback": [
      "\u001b[0;36m  File \u001b[0;32m<tokenize>:3\u001b[0;36m\u001b[0m\n\u001b[0;31m    Print(x, y, z)\u001b[0m\n\u001b[0m    ^\u001b[0m\n\u001b[0;31mIndentationError\u001b[0m\u001b[0;31m:\u001b[0m unindent does not match any outer indentation level\n"
     ]
    }
   ],
   "source": [
    "x, y = 3, 4\n",
    "        z = sqrt(x*2 + y**2)\n",
    "    Print(x, y, z)"
   ]
  },
  {
   "cell_type": "code",
   "execution_count": 4,
   "id": "fb83c8e4-9c73-47c0-8c0b-64bf5bb4e633",
   "metadata": {},
   "outputs": [],
   "source": [
    "import math"
   ]
  },
  {
   "cell_type": "code",
   "execution_count": 5,
   "id": "87ceeba3-0491-4952-babc-5f9530293095",
   "metadata": {},
   "outputs": [
    {
     "name": "stdout",
     "output_type": "stream",
     "text": [
      "3 4 5.0\n"
     ]
    }
   ],
   "source": [
    "#Assign values to variables x and y\n",
    "x='3'\n",
    "y='4'\n",
    "#Change values to integers class, and use '**' for power\n",
    "z=math.sqrt(int(x)**2 + int(y)**2)\n",
    "print (x,y,z)"
   ]
  },
  {
   "cell_type": "markdown",
   "id": "e3f50457-5c29-49b8-95bc-1934bc8aa1ef",
   "metadata": {},
   "source": [
    "## Exercise 3 (In your own words) ☻\n",
    "\n",
    "Using your own words, write a single sentence to describe what each of the following means or the role they serve in Python.\n",
    "\n",
    "Please use a Markdown table for this."
   ]
  },
  {
   "cell_type": "markdown",
   "id": "5b109afa-2708-4c2f-bafc-865d2a4fb2ec",
   "metadata": {},
   "source": [
    "|#|Term|Description|\n",
    "|:-|:--:|:---------|\n",
    "|1|Function|A set of instructions that we can call with a name.|\n",
    "|2|Arguments|Values we give for a function to use, insert into a function|\n",
    "|3|Comments|Sentence to tell us what the code is about, notes in the code|\n",
    "|4|Indentation|Spaces at the beginning of lines to show help with the code structure|\n",
    "|5|Packages|Modules of files of codes we can import to help with coding|\n",
    "|6|.|Used to connect parts of code, like telling which thing a function belongs to.|\n",
    "|7|:|Tells python or the interpreter what follows the code or function|\n",
    "|8|[]|Lists|\n",
    "|9|[[[]]]| Lists inside lists inside lists|\n",
    "|10|{}|Dictionaries| "
   ]
  },
  {
   "cell_type": "markdown",
   "id": "beae559f-dffc-4e8a-8aeb-cb69492e4510",
   "metadata": {},
   "source": [
    "## Exercise 4 (More than one way to divide) ☻\n",
    "\n",
    "Programming languages usually offer multiple options for dividing one number by another. Shown below are three such options. Either by observation (i.e., trial and error), Googling or discussing with a friend, figure out what each one does.\n",
    "I recommended the trial and error approach first so that you get a feel for how to use Python.\n",
    "Indicate your answer by writing a comment."
   ]
  },
  {
   "cell_type": "code",
   "execution_count": 8,
   "id": "a2fe82d4-b01b-4ea8-a204-4bf688e38a14",
   "metadata": {},
   "outputs": [
    {
     "data": {
      "text/plain": [
       "2.5"
      ]
     },
     "execution_count": 8,
     "metadata": {},
     "output_type": "execute_result"
    }
   ],
   "source": [
    "5/2 #5 divide by 2"
   ]
  },
  {
   "cell_type": "code",
   "execution_count": 9,
   "id": "593c1fec-1413-429b-87a2-be924738e1fa",
   "metadata": {},
   "outputs": [
    {
     "data": {
      "text/plain": [
       "2"
      ]
     },
     "execution_count": 9,
     "metadata": {},
     "output_type": "execute_result"
    }
   ],
   "source": [
    "5//2 #Floor division, meaning we will take the lower number."
   ]
  },
  {
   "cell_type": "code",
   "execution_count": 10,
   "id": "16bcf513-fb9c-42bd-91fe-c4b12770a733",
   "metadata": {},
   "outputs": [
    {
     "data": {
      "text/plain": [
       "1"
      ]
     },
     "execution_count": 10,
     "metadata": {},
     "output_type": "execute_result"
    }
   ],
   "source": [
    "5%2 #Modulus"
   ]
  },
  {
   "cell_type": "code",
   "execution_count": null,
   "id": "51053077-74a9-4023-a4b5-c701d7eeb7c6",
   "metadata": {},
   "outputs": [],
   "source": []
  }
 ],
 "metadata": {
  "kernelspec": {
   "display_name": "Python 3 (ipykernel)",
   "language": "python",
   "name": "python3"
  },
  "language_info": {
   "codemirror_mode": {
    "name": "ipython",
    "version": 3
   },
   "file_extension": ".py",
   "mimetype": "text/x-python",
   "name": "python",
   "nbconvert_exporter": "python",
   "pygments_lexer": "ipython3",
   "version": "3.11.5"
  },
  "toc": {
   "base_numbering": 1,
   "nav_menu": {},
   "number_sections": true,
   "sideBar": true,
   "skip_h1_title": false,
   "title_cell": "Table of Contents",
   "title_sidebar": "Contents",
   "toc_cell": false,
   "toc_position": {},
   "toc_section_display": true,
   "toc_window_display": false
  },
  "vscode": {
   "interpreter": {
    "hash": "31f2aee4e71d21fbe5cf8b01ff0e069b9275f58929596ceb00d14d90e3e16cd6"
   }
  }
 },
 "nbformat": 4,
 "nbformat_minor": 5
}
