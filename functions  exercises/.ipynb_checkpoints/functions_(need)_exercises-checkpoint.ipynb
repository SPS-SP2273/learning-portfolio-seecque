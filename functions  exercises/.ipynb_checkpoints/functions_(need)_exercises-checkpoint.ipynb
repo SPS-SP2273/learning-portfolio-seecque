{
 "cells": [
  {
   "attachments": {},
   "cell_type": "markdown",
   "id": "123456",
   "metadata": {},
   "source": [
    "<div style=\"text-align:left;font-size:2em\"><span style=\"font-weight:bolder;font-size:1.25em\">SP2273 | Learning Portfolio</span><br><br><span style=\"font-weight:bold;color:darkred\">Functions (Need) Exercises</span></div>"
   ]
  },
  {
   "cell_type": "markdown",
   "id": "18ec925d-7454-42c0-9ff7-2aceacb6d006",
   "metadata": {},
   "source": [
    "**Exercise 1 (Do you know why?)**"
   ]
  },
  {
   "cell_type": "code",
   "execution_count": 2,
   "id": "661bc8a0-927c-4b85-92c2-5a18009b501b",
   "metadata": {},
   "outputs": [],
   "source": [
    "def greeting(name):\n",
    "    if name == 'Batman':\n",
    "        return 'Hello Batman! So, nice to meet you!'\n",
    "    return f'Hello {name}!'"
   ]
  },
  {
   "cell_type": "markdown",
   "id": "8a3287ea-f013-4ed2-a101-f03000a21d8a",
   "metadata": {},
   "source": [
    "The code above works despite not having an else statement because, the function greeting is a conditional logic when only one condition leads to an early exit from the function (i.e return). If the condition (if name == 'Batman') is true, the function returns a specific greeting for Batman. If it's false, the function proceeds to return a generic greeting."
   ]
  },
  {
   "cell_type": "markdown",
   "id": "84081cf1-8cd2-4568-ab86-6ac5905a35aa",
   "metadata": {},
   "source": [
    "**Exercise 2 (Chubby or not)**\n",
    "____\n",
    "Write a Python function named `calculate_bmi`"
   ]
  },
  {
   "cell_type": "code",
   "execution_count": 56,
   "id": "3d2f7d76-8ca7-4c53-a717-1f1cf838d583",
   "metadata": {},
   "outputs": [
    {
     "name": "stdin",
     "output_type": "stream",
     "text": [
      "What is the weight? 80\n",
      "What is the height? 1.6\n"
     ]
    },
    {
     "name": "stdout",
     "output_type": "stream",
     "text": [
      "Your BMI is  31.25 and you are Obese\n"
     ]
    }
   ],
   "source": [
    "def get_weight():\n",
    "    weight=input('What is the weight?')\n",
    "    return int(weight)\n",
    "\n",
    "def get_height():\n",
    "    height=input('What is the height?')\n",
    "    return float(height)\n",
    "\n",
    "def find_bmi(weight, height):\n",
    "    bmi = weight / (height ** 2)\n",
    "    return bmi\n",
    "\n",
    "def bmi_category(bmi):\n",
    "    if bmi < 18.5:\n",
    "        return f'Your BMI is {bmi: .2f} and you are Underweight'\n",
    "    elif 18.5 < bmi < 25:\n",
    "        return f'Your BMI is {bmi: .2f} and you are Normal Weight'\n",
    "    elif 25 < bmi < 30:\n",
    "        return f'Your BMI is {bmi: .2f} and you are Overweight'\n",
    "    else:\n",
    "        return f'Your BMI is {bmi: .2f} and you are Obese'\n",
    "\n",
    "def calculate_bmi():\n",
    "    weight = get_weight()\n",
    "    height = get_height()\n",
    "    bmi = find_bmi(weight, height)\n",
    "    category = bmi_category(bmi)\n",
    "    print(category)\n",
    "\n",
    "calculate_bmi()"
   ]
  },
  {
   "cell_type": "code",
   "execution_count": null,
   "id": "830fd621-2c94-4c9c-b5b2-2f6524fb46fb",
   "metadata": {},
   "outputs": [],
   "source": []
  }
 ],
 "metadata": {
  "kernelspec": {
   "display_name": "Python 3 (ipykernel)",
   "language": "python",
   "name": "python3"
  },
  "language_info": {
   "codemirror_mode": {
    "name": "ipython",
    "version": 3
   },
   "file_extension": ".py",
   "mimetype": "text/x-python",
   "name": "python",
   "nbconvert_exporter": "python",
   "pygments_lexer": "ipython3",
   "version": "3.11.5"
  },
  "toc": {
   "base_numbering": 1,
   "nav_menu": {},
   "number_sections": true,
   "sideBar": true,
   "skip_h1_title": false,
   "title_cell": "Table of Contents",
   "title_sidebar": "Contents",
   "toc_cell": false,
   "toc_position": {},
   "toc_section_display": true,
   "toc_window_display": false
  },
  "vscode": {
   "interpreter": {
    "hash": "31f2aee4e71d21fbe5cf8b01ff0e069b9275f58929596ceb00d14d90e3e16cd6"
   }
  }
 },
 "nbformat": 4,
 "nbformat_minor": 5
}
