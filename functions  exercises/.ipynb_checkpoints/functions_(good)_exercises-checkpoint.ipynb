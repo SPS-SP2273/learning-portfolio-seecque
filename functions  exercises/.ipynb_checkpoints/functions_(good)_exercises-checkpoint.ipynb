{
 "cells": [
  {
   "attachments": {},
   "cell_type": "markdown",
   "id": "123456",
   "metadata": {},
   "source": [
    "<div style=\"text-align:left;font-size:2em\"><span style=\"font-weight:bolder;font-size:1.25em\">SP2273 | Learning Portfolio</span><br><br><span style=\"font-weight:bold;color:darkred\">Functions (Good) Exercises</span></div>"
   ]
  },
  {
   "cell_type": "markdown",
   "id": "9c3b7089-b91a-47e9-9d71-c89574337e5f",
   "metadata": {},
   "source": [
    "**Exercise 1(Celsius to Fahrenheit or Kelvin)**\n",
    "<br>Develop a function named `convert_celsius()` to convert temperatures from Celsius to either Fahrenheit or Kelvin."
   ]
  },
  {
   "cell_type": "code",
   "execution_count": 22,
   "id": "d1539d6c-90fe-4154-8516-25e310a1f874",
   "metadata": {},
   "outputs": [
    {
     "name": "stdin",
     "output_type": "stream",
     "text": [
      "What is the temperature in celsius?  80\n",
      "Enter the target scale ('fahrenheit' or 'kelvin'):  kelvin\n"
     ]
    },
    {
     "name": "stdout",
     "output_type": "stream",
     "text": [
      "The temperature in Fahrenheit is 176.00.\n"
     ]
    }
   ],
   "source": [
    "#Takes in 2 Arguments\n",
    "def convert_celsius(temperature_celsius, target_scale='Fahrenheit'):\n",
    "    if target_scale == 'Kelvin':\n",
    "        return int(temperature_celsius) + 273.15\n",
    "    else:\n",
    "        return int((temperature_celsius * (9/5))) + 32\n",
    "\n",
    "temp_celsius = float(input('What is the temperature in celsius? '))\n",
    "target_scale = input(\"Enter the target scale ('fahrenheit' or 'kelvin'): \")\n",
    "\n",
    "if target_scale not in ('Fahrenheit', 'Kelvin'):\n",
    "    target_scale = 'Fahrenheit'\n",
    "\n",
    "new_temp = convert_celsius(temp_celsius, target_scale)\n",
    "print(f\"The temperature in {target_scale} is {new_temp:.2f}.\")"
   ]
  },
  {
   "cell_type": "markdown",
   "id": "b843ac4e-dc71-4a5d-90ae-d8dbb181fdb4",
   "metadata": {},
   "source": [
    "**Exercise 2 (Fahrenheit to Celsius or Kelvin)**\n",
    "<br>Develop a function called `convert_fahrenheit()` for converting temperatures from Fahrenheit to either Celsius or Kelvin."
   ]
  },
  {
   "cell_type": "code",
   "execution_count": 17,
   "id": "de7d0530-9385-4159-9558-03979604a369",
   "metadata": {},
   "outputs": [
    {
     "name": "stdin",
     "output_type": "stream",
     "text": [
      "What is the temperature in Fahrenheit?  80\n",
      "What is the target scale ('celsius' or 'kelvin'):  kelvin\n"
     ]
    },
    {
     "name": "stdout",
     "output_type": "stream",
     "text": [
      "The temperature in Celsius is 26.67.\n"
     ]
    }
   ],
   "source": [
    "#Takes in 2 Arguments\n",
    "def convert_fahrenheit(temperature_fahrenheit, target_scale='Celsius'):\n",
    "    if target_scale == 'Kelvin':\n",
    "        return (temperature_fahrenheit - 32) * (5/9) + 273.15\n",
    "    else: \n",
    "        return (temperature_fahrenheit - 32) * (5/9)\n",
    "\n",
    "temp_fahrenheit = float(input('What is the temperature in Fahrenheit? '))\n",
    "target_scale = input(\"What is the target scale ('celsius' or 'kelvin'): \")\n",
    "\n",
    "if target_scale not in ('Celsius', 'Kelvin'):\n",
    "    target_scale = 'Celsius'\n",
    "\n",
    "new_temp = convert_fahrenheit(temp_fahrenheit, target_scale)\n",
    "print(f\"The temperature in {target_scale} is {new_temp:.2f}.\")\n"
   ]
  },
  {
   "cell_type": "markdown",
   "id": "2ffd88e3-04df-4b87-9f96-22e57c1f026a",
   "metadata": {},
   "source": [
    "**Exercise 3 (General Temperature Conversion)**"
   ]
  },
  {
   "cell_type": "markdown",
   "id": "a2dbe917-5b03-4964-963f-bc8643eb3184",
   "metadata": {},
   "source": [
    "Implement a function named `convert_temperature()` to perform general temperature conversions."
   ]
  },
  {
   "cell_type": "code",
   "execution_count": 21,
   "id": "eae46250-6f97-4813-bf7a-933ca5a2a3d2",
   "metadata": {},
   "outputs": [
    {
     "name": "stdin",
     "output_type": "stream",
     "text": [
      "What is the temperature? 90\n",
      "What is the current scale? celsius\n",
      "What is the target scale? kelvin\n"
     ]
    },
    {
     "name": "stdout",
     "output_type": "stream",
     "text": [
      "The temperature in kelvin is 363.15!\n"
     ]
    }
   ],
   "source": [
    "#Take in 3 arguments\n",
    "def convert_temperature(temperature, original_scale, target_scale):\n",
    "    if source_scale == 'celsius':\n",
    "        if target_scale == 'fahrenheit':\n",
    "            return (temperature * 9/5) + 32\n",
    "        elif target_scale == 'kelvin':\n",
    "            return temperature + 273.15\n",
    "\n",
    "    elif original_scale == 'fahrenheit':\n",
    "        if target_scale == 'celsius':\n",
    "            return (temperature - 32) * 5/9\n",
    "        elif target_scale == 'kelvin':\n",
    "            return (temperature - 32) * 5/9 + 273.15\n",
    "\n",
    "    elif original_scale == 'kelvin':\n",
    "        if target_scale == 'celsius':\n",
    "            return temperature - 273.15\n",
    "        elif target_scale == 'fahrenheit':\n",
    "            return (temperature - 273.15) * 9/5 + 32\n",
    "\n",
    "    return temperature\n",
    "\n",
    "temperature = float(input('What is the temperature?'))\n",
    "source_scale = input('What is the current scale?')\n",
    "target_scale = input(\"What is the target scale?\")\n",
    "\n",
    "converted_temperature = convert_temperature(temperature, source_scale, target_scale)\n",
    "print(f\"The temperature in {target_scale} is {converted_temperature:.2f}!\")\n"
   ]
  },
  {
   "cell_type": "code",
   "execution_count": null,
   "id": "4c91b5af-7a7b-4521-aba9-2f8bf1d2c451",
   "metadata": {},
   "outputs": [],
   "source": []
  }
 ],
 "metadata": {
  "kernelspec": {
   "display_name": "Python 3 (ipykernel)",
   "language": "python",
   "name": "python3"
  },
  "language_info": {
   "codemirror_mode": {
    "name": "ipython",
    "version": 3
   },
   "file_extension": ".py",
   "mimetype": "text/x-python",
   "name": "python",
   "nbconvert_exporter": "python",
   "pygments_lexer": "ipython3",
   "version": "3.11.5"
  },
  "toc": {
   "base_numbering": 1,
   "nav_menu": {},
   "number_sections": true,
   "sideBar": true,
   "skip_h1_title": false,
   "title_cell": "Table of Contents",
   "title_sidebar": "Contents",
   "toc_cell": false,
   "toc_position": {},
   "toc_section_display": true,
   "toc_window_display": false
  },
  "vscode": {
   "interpreter": {
    "hash": "31f2aee4e71d21fbe5cf8b01ff0e069b9275f58929596ceb00d14d90e3e16cd6"
   }
  }
 },
 "nbformat": 4,
 "nbformat_minor": 5
}
