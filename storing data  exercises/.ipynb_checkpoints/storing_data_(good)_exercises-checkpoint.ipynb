{
 "cells": [
  {
   "attachments": {},
   "cell_type": "markdown",
   "id": "123456",
   "metadata": {},
   "source": [
    "<div style=\"text-align:left;font-size:2em\"><span style=\"font-weight:bolder;font-size:1.25em\">SP2273 | Learning Portfolio</span><br><br><span style=\"font-weight:bold;color:darkred\">Storing Data (Good) Exercises</span></div>"
   ]
  },
  {
   "cell_type": "markdown",
   "id": "514f1150-f70a-4c99-82da-e178e1e10a8b",
   "metadata": {},
   "source": [
    "|Term|Brief Description|\n",
    "|:--:|:----------------|\n",
    "|Subsetting|Select a subset of data in a list or array|\n",
    "|Indexing|Labelling/retrieving data from a list or array|\n",
    "|Slicing|*a feature that allows us to access parts of lists/tuples/arrays and is done by specifying a range*|\n",
    "|Masking|*selecting or manipulating elements based on a condition e.g. True and False*| "
   ]
  },
  {
   "cell_type": "code",
   "execution_count": 7,
   "id": "86a09f05-cc81-4cd8-a51e-630213fcf56e",
   "metadata": {},
   "outputs": [
    {
     "name": "stdout",
     "output_type": "stream",
     "text": [
      "['A', 'C', 'E', 'G', 'I']\n"
     ]
    }
   ],
   "source": [
    "import numpy as np\n",
    "np_array_2d = np.array([[1, \"A\"], [3, \"C\"], [2, \"B\"], [4, \"D\"],\n",
    "                        [5, \"E\"], [7, \"G\"], [6, \"F\"], [8, \"H\"],\n",
    "                        [10, \"J\"], [9, \"I\"]])\n",
    "first_elements=np_array_2d[:,0]\n",
    "first_elements_array=np.array(first_elements)\n",
    "first_elements_array\n",
    "first_elements_int=first_elements_array.astype(int)\n",
    "first_elements_int\n",
    "\n",
    "odd_number=first_elements_int[first_elements_int%2 !=0]\n",
    "odd_number_array=np.array(odd_number)\n",
    "odd_number_array\n",
    "\n",
    "odd_number_mask=first_elements_int%2!=0\n",
    "filtered=np_array_2d[odd_number_mask]\n",
    "second_elements_of_odd=filtered[:,1]\n",
    "second_elements_of_odd_array=np.array(second_elements_of_odd)\n",
    "#second_elements_of_odd_array\n",
    "second_elements_of_odd_list = second_elements_of_odd_array.tolist()\n",
    "print(second_elements_of_odd_list)"
   ]
  },
  {
   "cell_type": "code",
   "execution_count": null,
   "id": "7ac0255e-599c-4388-90d5-cc4fef34e1cf",
   "metadata": {},
   "outputs": [],
   "source": []
  }
 ],
 "metadata": {
  "kernelspec": {
   "display_name": "Python 3 (ipykernel)",
   "language": "python",
   "name": "python3"
  },
  "language_info": {
   "codemirror_mode": {
    "name": "ipython",
    "version": 3
   },
   "file_extension": ".py",
   "mimetype": "text/x-python",
   "name": "python",
   "nbconvert_exporter": "python",
   "pygments_lexer": "ipython3",
   "version": "3.11.5"
  },
  "toc": {
   "base_numbering": 1,
   "nav_menu": {},
   "number_sections": true,
   "sideBar": true,
   "skip_h1_title": false,
   "title_cell": "Table of Contents",
   "title_sidebar": "Contents",
   "toc_cell": false,
   "toc_position": {},
   "toc_section_display": true,
   "toc_window_display": false
  },
  "vscode": {
   "interpreter": {
    "hash": "31f2aee4e71d21fbe5cf8b01ff0e069b9275f58929596ceb00d14d90e3e16cd6"
   }
  }
 },
 "nbformat": 4,
 "nbformat_minor": 5
}
