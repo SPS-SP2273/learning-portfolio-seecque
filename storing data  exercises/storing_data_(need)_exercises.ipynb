{
 "cells": [
  {
   "cell_type": "markdown",
   "id": "1576e930-3f33-4286-919d-5b09674f46d3",
   "metadata": {},
   "source": [
    "<div style=\"text-align:left;font-size:2em\"><span style=\"font-weight:bolder;font-size:1.25em\">SP2273 | Learning Portfolio</span><br><br><span style=\"font-weight:bold;color:darkred\">Storing Data(Need), Exercises</span></div>"
   ]
  },
  {
   "cell_type": "markdown",
   "id": "2561be03-42c3-4f24-bf77-6a2ef9c9744a",
   "metadata": {},
   "source": [
    "## Exercise 1 (Total Recall)"
   ]
  },
  {
   "cell_type": "markdown",
   "id": "8fc5b175-b6e6-4300-ad52-2558a9daf153",
   "metadata": {},
   "source": [
    "1. Two similarities between lists and arrays\n",
    "   - Both lists and arrays store elements in a specific order, meaning the position of each element is fixed.\n",
    "   - *To access data from lists (and arrays), we need to use an index corresponding to the data’s position. Python is a zero-indexed language, meaning it starts counting at 0.*\n",
    "2. Two differences between lists and arrays\n",
    "   - Lists can only store more than 1 kind of data type. \n",
    "   - *adding lists causes them to grow while adding arrays is an element-wise operation*\n",
    "3. What is a dictionary?\n",
    "   - A dictionary holds data and attributes a value to a key, we can access the value by calling the key"
   ]
  },
  {
   "cell_type": "markdown",
   "id": "6f87196d-6ff7-459b-9486-9e074469802b",
   "metadata": {},
   "source": [
    "## Exercise 2 (Indexing)"
   ]
  },
  {
   "cell_type": "markdown",
   "id": "ff05046c-6d33-48e5-978d-0befe5fa6a2a",
   "metadata": {},
   "source": [
    "Modify the code to print out all elements with an odd number."
   ]
  },
  {
   "cell_type": "code",
   "execution_count": 12,
   "id": "f6ceaac2-3919-4e9d-bc7d-8e50b8d01778",
   "metadata": {},
   "outputs": [
    {
     "name": "stdout",
     "output_type": "stream",
     "text": [
      "a1\n",
      "c3\n",
      "e5\n",
      "g7\n",
      "i9\n",
      "a1\n",
      "c3\n",
      "e5\n",
      "g7\n",
      "i9\n"
     ]
    }
   ],
   "source": [
    "py_list = [\"a1\", \"b2\", \"c3\", \"d4\", \"e5\", \"f6\", \"g7\", \"h8\", \"i9\", \"j10\"]\n",
    "print(py_list[0])    # Prints 'a1'\n",
    "print(py_list[2])    # Prints 'c3'\n",
    "print(py_list[4])    # Prints 'e5'\n",
    "print(py_list[6])    # Prints 'g7'\n",
    "print(py_list[8])    # Prints 'i9'\n",
    "\n",
    "#another way?\n",
    "for element in py_list:\n",
    "    number=int(element[1:])\n",
    "    if number % 2== 1:\n",
    "        print(element)"
   ]
  },
  {
   "cell_type": "markdown",
   "id": "b8339960-d1f6-499c-9a94-35103e92bb2f",
   "metadata": {},
   "source": [
    "## Exercise 3 (Indexing again)"
   ]
  },
  {
   "cell_type": "markdown",
   "id": "4f5f7a18-a38d-4d52-b8c2-47dcecf996aa",
   "metadata": {},
   "source": [
    "With the following list;\n",
    "1. Access and print the element at index 4 using foward indexing.\n",
    "2. Access and print the element at index 4 from the endof the list using reverse indexing. "
   ]
  },
  {
   "cell_type": "code",
   "execution_count": 3,
   "id": "43c30f67-3019-4997-af55-e04f9dd0962f",
   "metadata": {},
   "outputs": [],
   "source": [
    "elements = ['Hydrogen',\n",
    "            'Helium', 'Lithium',\n",
    "            'Beryllium', 'Boron', 'Carbon',\n",
    "            'Nitrogen', 'Oxygen',\n",
    "            'Fluorine',\n",
    "            'Neon']"
   ]
  },
  {
   "cell_type": "code",
   "execution_count": 14,
   "id": "a76c91d3-68ca-4e64-b2b2-3ae5acdec3ce",
   "metadata": {},
   "outputs": [
    {
     "name": "stdout",
     "output_type": "stream",
     "text": [
      "Boron\n"
     ]
    }
   ],
   "source": [
    "print(elements[4])"
   ]
  },
  {
   "cell_type": "code",
   "execution_count": 15,
   "id": "5ace7ebe-a502-4098-9596-3c0671cce9cc",
   "metadata": {},
   "outputs": [
    {
     "data": {
      "text/plain": [
       "10"
      ]
     },
     "execution_count": 15,
     "metadata": {},
     "output_type": "execute_result"
    }
   ],
   "source": [
    "len(elements)"
   ]
  },
  {
   "cell_type": "code",
   "execution_count": 9,
   "id": "1eb05f8f-afcd-405c-ac36-b21cb78fe5ee",
   "metadata": {},
   "outputs": [
    {
     "name": "stdout",
     "output_type": "stream",
     "text": [
      "Boron\n"
     ]
    }
   ],
   "source": [
    "print(elements[-6])"
   ]
  },
  {
   "cell_type": "markdown",
   "id": "cad7dbec-a6e7-4ea4-b3f7-ee4de2b5d280",
   "metadata": {},
   "source": [
    "## Exercise 4 (How many ones)"
   ]
  },
  {
   "cell_type": "markdown",
   "id": "3d57e9e4-391d-4180-b0f6-6c4af2162aa2",
   "metadata": {},
   "source": [
    "Using the concepts learnt in this chapter, determine the number of '1's in the following list:"
   ]
  },
  {
   "cell_type": "code",
   "execution_count": 19,
   "id": "2cf464cc-358a-4aa4-bada-e2cb89a08a25",
   "metadata": {},
   "outputs": [],
   "source": [
    "numbers=[45, 60, 1, 30, 96, 1, 96, 57, 16, 1,\n",
    "        99, 62, 86, 43, 42, 60, 59, 1, 1, 35,\n",
    "        83, 47, 34, 28, 68, 23, 22, 92, 1, 79,\n",
    "        1, 29, 94, 72, 46, 47, 1, 74, 32, 20,\n",
    "        8, 37, 35, 1, 89, 29, 86, 19, 43, 61]                  "
   ]
  },
  {
   "cell_type": "code",
   "execution_count": 10,
   "id": "31757fdd-e031-443c-a6ee-bbd4cabad2f6",
   "metadata": {},
   "outputs": [
    {
     "ename": "NameError",
     "evalue": "name 'numbers' is not defined",
     "output_type": "error",
     "traceback": [
      "\u001b[0;31m---------------------------------------------------------------------------\u001b[0m",
      "\u001b[0;31mNameError\u001b[0m                                 Traceback (most recent call last)",
      "Cell \u001b[0;32mIn[10], line 2\u001b[0m\n\u001b[1;32m      1\u001b[0m number_ones\u001b[38;5;241m=\u001b[39m[]\n\u001b[0;32m----> 2\u001b[0m \u001b[38;5;28;01mfor\u001b[39;00m number \u001b[38;5;129;01min\u001b[39;00m \u001b[43mnumbers\u001b[49m:\n\u001b[1;32m      3\u001b[0m     \u001b[38;5;28;01mif\u001b[39;00m number\u001b[38;5;241m==\u001b[39m\u001b[38;5;241m1\u001b[39m:\n\u001b[1;32m      4\u001b[0m         number_ones\u001b[38;5;241m.\u001b[39mappend(number)\n",
      "\u001b[0;31mNameError\u001b[0m: name 'numbers' is not defined"
     ]
    }
   ],
   "source": [
    "number_ones=[]\n",
    "for number in numbers:\n",
    "    if number==1:\n",
    "        number_ones.append(number)\n",
    "\n",
    "print(sum(number_ones))"
   ]
  },
  {
   "cell_type": "code",
   "execution_count": 17,
   "id": "b9b27f33-cc31-4f02-ac1d-2c338ffac2b1",
   "metadata": {},
   "outputs": [
    {
     "name": "stdout",
     "output_type": "stream",
     "text": [
      "False\n",
      "False\n",
      "True\n",
      "False\n",
      "False\n",
      "True\n",
      "False\n",
      "False\n",
      "False\n",
      "True\n",
      "False\n",
      "False\n",
      "False\n",
      "False\n",
      "False\n",
      "False\n",
      "False\n",
      "True\n",
      "True\n",
      "False\n",
      "False\n",
      "False\n",
      "False\n",
      "False\n",
      "False\n",
      "False\n",
      "False\n",
      "False\n",
      "True\n",
      "False\n",
      "True\n",
      "False\n",
      "False\n",
      "False\n",
      "False\n",
      "False\n",
      "True\n",
      "False\n",
      "False\n",
      "False\n",
      "False\n",
      "False\n",
      "False\n",
      "True\n",
      "False\n",
      "False\n",
      "False\n",
      "False\n",
      "False\n",
      "False\n"
     ]
    }
   ],
   "source": [
    "true= '1'\n",
    "false=not '1'\n",
    "\n",
    "for number in np_array_numbers:\n",
    "    if number==1:\n",
    "        print('True')\n",
    "    else:\n",
    "        print('False')"
   ]
  },
  {
   "cell_type": "code",
   "execution_count": 1,
   "id": "24f53734-0a31-4196-817a-44c56ec19d1b",
   "metadata": {},
   "outputs": [],
   "source": [
    "numbers=[45, 60, 1, 30, 96, 1, 96, 57, 16, 1,\n",
    "        99, 62, 86, 43, 42, 60, 59, 1, 1, 35,\n",
    "        83, 47, 34, 28, 68, 23, 22, 92, 1, 79,\n",
    "        1, 29, 94, 72, 46, 47, 1, 74, 32, 20,\n",
    "        8, 37, 35, 1, 89, 29, 86, 19, 43, 61]  "
   ]
  },
  {
   "cell_type": "code",
   "execution_count": 2,
   "id": "3bb3d903-3682-4ea4-be65-7ca94375c03a",
   "metadata": {},
   "outputs": [],
   "source": [
    "import numpy as np"
   ]
  },
  {
   "cell_type": "code",
   "execution_count": 18,
   "id": "3698f2aa-6bc3-4ba8-9960-c6ced4b996a2",
   "metadata": {},
   "outputs": [
    {
     "name": "stdout",
     "output_type": "stream",
     "text": [
      "9\n"
     ]
    }
   ],
   "source": [
    "np_array_numbers=np.array(numbers)\n",
    "\n",
    "ones = (np_array_numbers == 1)\n",
    "number_ones = ones.sum()\n",
    "print(number_ones)"
   ]
  },
  {
   "cell_type": "code",
   "execution_count": null,
   "id": "9525f7a1-1982-417b-abb5-1d416237d6b2",
   "metadata": {},
   "outputs": [],
   "source": []
  }
 ],
 "metadata": {
  "kernelspec": {
   "display_name": "Python 3 (ipykernel)",
   "language": "python",
   "name": "python3"
  },
  "language_info": {
   "codemirror_mode": {
    "name": "ipython",
    "version": 3
   },
   "file_extension": ".py",
   "mimetype": "text/x-python",
   "name": "python",
   "nbconvert_exporter": "python",
   "pygments_lexer": "ipython3",
   "version": "3.11.5"
  }
 },
 "nbformat": 4,
 "nbformat_minor": 5
}
