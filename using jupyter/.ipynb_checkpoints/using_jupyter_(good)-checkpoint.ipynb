{
 "cells": [
  {
   "attachments": {},
   "cell_type": "markdown",
   "id": "123456",
   "metadata": {},
   "source": [
    "<div style=\"text-align:left;font-size:2em\"><span style=\"font-weight:bolder;font-size:1.25em\">SP2273 | Learning Portfolio</span><br><br><span style=\"font-weight:bold;color:darkred\">Using Jupyter (Good)</span></div>"
   ]
  },
  {
   "cell_type": "markdown",
   "id": "c5bc53d1-f3f6-4ea2-a04a-a57a44db405f",
   "metadata": {},
   "source": [
    "# <span style='color:red'> Week 1:</span>"
   ]
  },
  {
   "attachments": {},
   "cell_type": "markdown",
   "id": "965d4265",
   "metadata": {},
   "source": [
    "## Keyboard Shortcuts"
   ]
  },
  {
   "cell_type": "markdown",
   "id": "d3c1d838-a3cb-4308-956c-0f99c94db8f7",
   "metadata": {},
   "source": [
    "**For MacOS**\n",
    "|Action|  Shortcut|\n",
    "| :--- | :-- |\n",
    "|Run Cell  | <mark style=\"background-color: lightgrey\"> <span style=\"color:purple\"> CMD + ENTER </mark>    |\n",
    "|Run cell and move to the next   |<mark style=\"background-color: lightgrey\"> <span style=\"color:purple\">  SHIFT + ENTER  | \n",
    "|Convert cell to code cell   | <mark style=\"background-color: lightgrey\"> <span style=\"color:purple\"> ESC + Y  | \n",
    "|Convert Cell to Markdown Cell| <mark style=\"background-color: lightgrey\"> <span style=\"color:purple\"> ESC + M |\n",
    "|Create New Cell | <mark style=\"background-color: lightgrey\"> <span style=\"color:purple\"> ESC + A (ABOVE)|\n",
    "|| <mark style=\"background-color: lightgrey\"> <span style=\"color:purple\"> ESC + B (BELOW)|\n",
    "|Copy Cells|<mark style=\"background-color: lightgrey\"> <span style=\"color:purple\"> ESC + C |\n",
    "|Paste Cells|<mark style=\"background-color: lightgrey\"> <span style=\"color:purple\"> ESC + V|\n",
    "|Merge Cells| <mark style=\"background-color: lightgrey\"> <span style=\"color:purple\"> SHFIT + M|\n",
    "|Delete Cells|<mark style=\"background-color: lightgrey\"> <span style=\"color:purple\"> ESC + D + D|\n",
    "|Show Shortcuts| <mark style=\"background-color: lightgrey\"> <span style=\"color:purple\"> ESC + H| \n",
    "\n",
    "Many shortcut commands use the escape button(<mark style=\"background-color: lightgrey\"> <span style=\"color:purple\">ESC</span></mark>). This is because typing <mark style=\"background-color: lightgrey\"> <span style=\"color:purple\">ESC</span></mark> puts Jupyter into command mode, ready for a command, not code or text.\n"
   ]
  },
  {
   "attachments": {},
   "cell_type": "markdown",
   "id": "7bf703fe",
   "metadata": {},
   "source": [
    "## Things to note\n",
    "\n",
    "- You can select one or more cells using SHIFT and the up and down arrow keys.\n",
    "- Be careful with the delete shortcut; it can be ruthless.\n",
    "- You can view (and set) shortcuts for Jupyter Notebooks by typing ESC + H."
   ]
  },
  {
   "attachments": {},
   "cell_type": "markdown",
   "id": "790a65bc",
   "metadata": {},
   "source": [
    "## Shell commands\n",
    "\n",
    "You can run ‘terminal’ commands <u> (called shell commands) </u> from Jupyter without switching to the terminal. The only thing you need to do is to add a ! in front of the command.\n",
    "\n",
    "To test out this feature, run the following:"
   ]
  },
  {
   "cell_type": "markdown",
   "id": "892cc2a9-3393-4715-a801-86b22a42270f",
   "metadata": {},
   "source": [
    "- This will **p**rint the current **w**orking **d**irectory."
   ]
  },
  {
   "cell_type": "code",
   "execution_count": 3,
   "id": "bdad4921-8367-49c3-9969-f0e63aafd051",
   "metadata": {},
   "outputs": [
    {
     "name": "stdout",
     "output_type": "stream",
     "text": [
      "/Users/bradentan/Desktop/NUS/NUS Main/Y2S2/SP2273/learning-portfolio-tchinqi/using jupyter\n"
     ]
    }
   ],
   "source": [
    "! pwd"
   ]
  },
  {
   "cell_type": "markdown",
   "id": "c4beda37-2217-4394-a5f4-ed3354b7e2c2",
   "metadata": {},
   "source": [
    "- This will show you a list of all the files in your folder."
   ]
  },
  {
   "cell_type": "code",
   "execution_count": 5,
   "id": "a03b4ad6-5aa7-45d2-92e0-70c5406ec454",
   "metadata": {},
   "outputs": [
    {
     "name": "stdout",
     "output_type": "stream",
     "text": [
      "using-jupyter_(need).ipynb using_jupyter_(good).ipynb\n"
     ]
    }
   ],
   "source": [
    "! ls"
   ]
  },
  {
   "cell_type": "markdown",
   "id": "eb7addfc-207a-42af-92b8-f69467da014b",
   "metadata": {},
   "source": [
    "## Install Notebook 7"
   ]
  },
  {
   "cell_type": "markdown",
   "id": "f8ff7dd6-1b60-44e7-a763-a653a057b52b",
   "metadata": {},
   "source": [
    "To ensure that all of you benefit from the latest updates and ensure uniformity, I would like you to use Jupyter Notebook version 7. For this, please follow these steps:"
   ]
  },
  {
   "cell_type": "markdown",
   "id": "8cbe62dc-5737-4017-9d77-911bd6ac055a",
   "metadata": {},
   "source": [
    "1. Remove the extensions to avoid possible version conflicts. "
   ]
  },
  {
   "cell_type": "code",
   "execution_count": 1,
   "id": "bb7b89e1-2ef2-4dbf-b701-b8c5b570cbef",
   "metadata": {},
   "outputs": [
    {
     "name": "stdout",
     "output_type": "stream",
     "text": [
      "\n",
      "PackagesNotFoundError: The following packages are missing from the target environment:\n",
      "  - jupyter_contrib_nbextensions\n",
      "\n",
      "\n",
      "\n",
      "Note: you may need to restart the kernel to use updated packages.\n"
     ]
    }
   ],
   "source": [
    "conda remove jupyter_contrib_nbextensions"
   ]
  },
  {
   "cell_type": "markdown",
   "id": "b41436b0-e2d0-44d2-b0c5-5b7f70d6a4b4",
   "metadata": {},
   "source": [
    "## Install Notebook Version 7"
   ]
  },
  {
   "cell_type": "code",
   "execution_count": 2,
   "id": "8bb8ca05-6131-47e5-939d-d5bc3595b36c",
   "metadata": {},
   "outputs": [
    {
     "name": "stdout",
     "output_type": "stream",
     "text": [
      "Retrieving notices: ...working... done\n",
      "Channels:\n",
      " - conda-forge\n",
      " - defaults\n",
      "Platform: osx-64\n",
      "Collecting package metadata (repodata.json): / ^C\n",
      "failed\n",
      "\n",
      "CondaError: KeyboardInterrupt\n",
      "\n",
      "\n",
      "Note: you may need to restart the kernel to use updated packages.\n"
     ]
    }
   ],
   "source": [
    "conda install -c conda-forge notebook=7.0.6 -y"
   ]
  },
  {
   "attachments": {},
   "cell_type": "markdown",
   "id": "3a3e74f6",
   "metadata": {},
   "source": [
    "## Shell Magic"
   ]
  },
  {
   "cell_type": "markdown",
   "id": "4b13f9d4-d563-4349-b18a-c23293afb75b",
   "metadata": {},
   "source": [
    "One of the most useful goodies that come with Jupyter are the <span style=\"color: orange \"> magic commands </span>. For example, try the following:"
   ]
  },
  {
   "cell_type": "code",
   "execution_count": 1,
   "id": "682111ec-17d8-4565-a5a6-8e6e6d50bb12",
   "metadata": {},
   "outputs": [
    {
     "name": "stdout",
     "output_type": "stream",
     "text": [
      "15.3 ns ± 0.233 ns per loop (mean ± std. dev. of 7 runs, 100,000,000 loops each)\n"
     ]
    }
   ],
   "source": [
    "%timeit x=10"
   ]
  },
  {
   "cell_type": "markdown",
   "id": "99f0beaf-bd98-483c-bb0f-7814cf17b644",
   "metadata": {},
   "source": [
    "This will run for a while and then tell you statistics on how long the command takes to execute. The above is called **line magic** because it works (i.e., does the timing in this case) for only a single line. If you want to apply it to a whole cell, we will use the **cell magic** command (<mark style=\"background-color: lightgrey\"> <span style=\"color:purple\">%%timeit</span></mark>)"
   ]
  },
  {
   "cell_type": "code",
   "execution_count": 2,
   "id": "302a7208-8ad8-49c5-b0b9-54957f7397f0",
   "metadata": {},
   "outputs": [
    {
     "name": "stdout",
     "output_type": "stream",
     "text": [
      "22.7 ns ± 0.187 ns per loop (mean ± std. dev. of 7 runs, 10,000,000 loops each)\n"
     ]
    }
   ],
   "source": [
    "%%timeit \n",
    "x=10\n",
    "y=10\n",
    "z=10"
   ]
  },
  {
   "cell_type": "markdown",
   "id": "696292d9-2d5e-4f89-b903-111c2764b6c0",
   "metadata": {},
   "source": [
    "You will only need the <mark style=\"background-color: lightgrey\"> <span style = \"color: purple\"> timeit</span></mark> in 73. However, there is more magic to be found. Use <mark style=\"background-color: lightgrey\"> <span style = \"color: purple\">% lsmagic</span> </mark>  to discover what else is available."
   ]
  },
  {
   "attachments": {},
   "cell_type": "markdown",
   "id": "458d6359",
   "metadata": {},
   "source": [
    "## The Kernel"
   ]
  },
  {
   "cell_type": "markdown",
   "id": "87dd4bd9-53e1-455c-989c-f351025ce628",
   "metadata": {},
   "source": [
    "There is more going on with Jupyter Notebooks than just Python. All the behind-the-scenes work of running a Jupyter Notebook is done by a sub-routine called the <span style =\"color: orange\">Kernel</span>.\n",
    "\n",
    "We can interrupt, restart, or shut down the **``kernel``** using the Kernel button in the toolbar. As you start coding with Python, you **will** need to do these because Jupyter sometimes misbehaves, and you can make blunders that require a reset."
   ]
  },
  {
   "cell_type": "markdown",
   "id": "b78eb4b8-d6f4-4654-b57f-9710dd104fd8",
   "metadata": {},
   "source": [
    "# <span style='color:red'>Week 2 - Fundamentals (Good)</span>"
   ]
  },
  {
   "cell_type": "markdown",
   "id": "978cde28-707d-4d6d-9834-c0f7e29b7fb9",
   "metadata": {},
   "source": [
    "## What to expect in this chapter"
   ]
  },
  {
   "cell_type": "markdown",
   "id": "4dcc03d8-2612-4544-97d5-b76149403354",
   "metadata": {},
   "source": [
    "In the previous chapter, we learned some essential basics of Python. In this chapter, we are introduced to different data types and how to combine variables with English."
   ]
  },
  {
   "cell_type": "markdown",
   "id": "1e351982-1714-41b0-a454-8163c2e6e1df",
   "metadata": {},
   "source": [
    "## There is more to <span style='color:purple'>if</span>"
   ]
  },
  {
   "cell_type": "markdown",
   "id": "54ad1bd6-9f84-4a86-8f12-837c12947868",
   "metadata": {},
   "source": [
    "There are situations when we need more branches in an <span style='color:purple'>if</span> statement. Python has the <span style='color:purple'>elif</span> (else if) statement for such cases. Here is how it works:"
   ]
  },
  {
   "cell_type": "code",
   "execution_count": 1,
   "id": "e3839ef8-35d9-48c6-aebb-f99df61ad26f",
   "metadata": {},
   "outputs": [
    {
     "name": "stdout",
     "output_type": "stream",
     "text": [
      "Hello Batman!\n"
     ]
    }
   ],
   "source": [
    "name = 'Batman'\n",
    "if name == 'Batman':\n",
    "    print('Hello Batman!')\n",
    "elif name =='Robin':\n",
    "    print('Hello Sidekick!')\n",
    "else:\n",
    "    print(\"Hello everyone else'\")"
   ]
  },
  {
   "cell_type": "markdown",
   "id": "11614788-10f5-4a27-8b74-74604cb01561",
   "metadata": {},
   "source": [
    "## Asking Questions"
   ]
  },
  {
   "cell_type": "markdown",
   "id": "816e2272-61e7-4a3b-a88f-4deded828f30",
   "metadata": {},
   "source": [
    "To use <span style='color:purple'>if</span> to make decisions, we should be able to ask questions. \n",
    "<br>Here is an example of how we can do this:"
   ]
  },
  {
   "cell_type": "markdown",
   "id": "ea9e9566-f47f-4b2a-a556-f0e9f13fb666",
   "metadata": {},
   "source": [
    "Asking some questions about the following 2 lists:"
   ]
  },
  {
   "cell_type": "code",
   "execution_count": 2,
   "id": "0073d710-1779-43f9-a7cd-4488e07facc4",
   "metadata": {},
   "outputs": [],
   "source": [
    "fruits=['apple', 'banana', 'pineapple', 'jackfruit']\n",
    "vegetables=['celery', 'potato', 'broccoli', 'kale']"
   ]
  },
  {
   "cell_type": "code",
   "execution_count": 3,
   "id": "1f916e57-7806-4302-a556-0bc1b9e5d5ba",
   "metadata": {},
   "outputs": [
    {
     "data": {
      "text/plain": [
       "True"
      ]
     },
     "execution_count": 3,
     "metadata": {},
     "output_type": "execute_result"
    }
   ],
   "source": [
    "'apple' in fruits"
   ]
  },
  {
   "cell_type": "code",
   "execution_count": 4,
   "id": "68619852-917d-46f2-bb86-8da34e7cd045",
   "metadata": {},
   "outputs": [
    {
     "data": {
      "text/plain": [
       "True"
      ]
     },
     "execution_count": 4,
     "metadata": {},
     "output_type": "execute_result"
    }
   ],
   "source": [
    "'celery' in vegetables"
   ]
  },
  {
   "cell_type": "code",
   "execution_count": 5,
   "id": "e56e4981-02d8-4ca6-8018-d3af36cc95a6",
   "metadata": {},
   "outputs": [
    {
     "data": {
      "text/plain": [
       "False"
      ]
     },
     "execution_count": 5,
     "metadata": {},
     "output_type": "execute_result"
    }
   ],
   "source": [
    "'watermelon'in fruits"
   ]
  },
  {
   "cell_type": "code",
   "execution_count": 6,
   "id": "ef65dfbe-068f-46a1-af10-3790b85f4a4a",
   "metadata": {},
   "outputs": [
    {
     "data": {
      "text/plain": [
       "False"
      ]
     },
     "execution_count": 6,
     "metadata": {},
     "output_type": "execute_result"
    }
   ],
   "source": [
    "('apple'in fruits) and ('cauliflower' in vegetables)"
   ]
  },
  {
   "cell_type": "code",
   "execution_count": 7,
   "id": "b25374b5-9422-483b-866b-58dc6d7cffaa",
   "metadata": {},
   "outputs": [
    {
     "data": {
      "text/plain": [
       "True"
      ]
     },
     "execution_count": 7,
     "metadata": {},
     "output_type": "execute_result"
    }
   ],
   "source": [
    "('apple'in fruits) or ('cauliflower' in vegetables)"
   ]
  },
  {
   "cell_type": "code",
   "execution_count": 9,
   "id": "f9c77efe-52d2-4641-b983-16aff9296865",
   "metadata": {},
   "outputs": [
    {
     "data": {
      "text/plain": [
       "True"
      ]
     },
     "execution_count": 9,
     "metadata": {},
     "output_type": "execute_result"
    }
   ],
   "source": [
    "'app' in 'apple'"
   ]
  },
  {
   "cell_type": "markdown",
   "id": "f57de249-3770-46ee-b7ff-b83dfb1a3590",
   "metadata": {},
   "source": [
    "<span style='color:red'> *Note `not` `in` `and` `or` are some python keywords in asking questions. </span>\n",
    "However, Python can compare `'apples'` and `'oranges'`. "
   ]
  },
  {
   "cell_type": "code",
   "execution_count": 10,
   "id": "3b85512b-acac-4545-ad26-7e1b2c48943c",
   "metadata": {},
   "outputs": [
    {
     "data": {
      "text/plain": [
       "False"
      ]
     },
     "execution_count": 10,
     "metadata": {},
     "output_type": "execute_result"
    }
   ],
   "source": [
    "'apples'>'oranges'"
   ]
  },
  {
   "cell_type": "markdown",
   "id": "e0e6fcc6-9c4c-491a-a84a-2461460ffb25",
   "metadata": {},
   "source": [
    "False is the output because English letters are internally represented as numbers. \n",
    "<br> For example, `'a'` is 97 and `'o'` is 111. (Refer to data types for clarity)"
   ]
  },
  {
   "cell_type": "markdown",
   "id": "61220ff8-d350-4c87-a943-ce6c44915cca",
   "metadata": {},
   "source": [
    "## Asking Math questions"
   ]
  },
  {
   "cell_type": "markdown",
   "id": "374edd7f-6800-490a-8782-54601638bfbe",
   "metadata": {},
   "source": [
    "- The following will be useful when asking mathematical questions"
   ]
  },
  {
   "cell_type": "markdown",
   "id": "d40a68f1-dc00-4140-ab51-520f0fa96f98",
   "metadata": {},
   "source": [
    "|Question/Condition|Math Symbol|Python Symbols|\n",
    "|:----------------:|:---------:|:------------:|\n",
    "|Equals?|=|==|\n",
    "|Not equal|≠|!=|\n",
    "|Less than|<|<|\n",
    "|Greater than|>|>|\n",
    "|Less than or equal?|≤|<=|\n",
    "|Greater than or equal?|≥|>=|"
   ]
  },
  {
   "cell_type": "markdown",
   "id": "bf714714-dbf5-4e1c-be63-9b66f948aa72",
   "metadata": {},
   "source": [
    "Python also accepts all the following syntax:"
   ]
  },
  {
   "cell_type": "code",
   "execution_count": 23,
   "id": "baab9214-ce79-45c5-8683-42be6c546d22",
   "metadata": {},
   "outputs": [
    {
     "name": "stdin",
     "output_type": "stream",
     "text": [
      "What is the number? 6\n"
     ]
    },
    {
     "name": "stdout",
     "output_type": "stream",
     "text": [
      "True\n"
     ]
    }
   ],
   "source": [
    "x = int(input('What is the number?'))\n",
    "\n",
    "if x > 5 and x < 15:\n",
    "    print('True')\n",
    "else:\n",
    "    print('False')\n",
    "\n",
    "#(x > 5) and (x < 15) and 5 < x < 15 is also acceptable"
   ]
  },
  {
   "cell_type": "markdown",
   "id": "ec861a35-f590-4d18-9f31-a021d416d9aa",
   "metadata": {},
   "source": [
    "## Looking for Help"
   ]
  },
  {
   "cell_type": "markdown",
   "id": "666bda48-2f43-47d4-99b7-294027fc2109",
   "metadata": {},
   "source": [
    "We can get information about Python functions from within Python."
   ]
  },
  {
   "cell_type": "code",
   "execution_count": 24,
   "id": "49affd1b-007a-4d24-9251-cce27d1d6a32",
   "metadata": {},
   "outputs": [
    {
     "name": "stdout",
     "output_type": "stream",
     "text": [
      "Help on built-in function print in module builtins:\n",
      "\n",
      "print(*args, sep=' ', end='\\n', file=None, flush=False)\n",
      "    Prints the values to a stream, or to sys.stdout by default.\n",
      "    \n",
      "    sep\n",
      "      string inserted between values, default a space.\n",
      "    end\n",
      "      string appended after the last value, default a newline.\n",
      "    file\n",
      "      a file-like object (stream); defaults to the current sys.stdout.\n",
      "    flush\n",
      "      whether to forcibly flush the stream.\n",
      "\n"
     ]
    }
   ],
   "source": [
    "help(print)"
   ]
  },
  {
   "cell_type": "markdown",
   "id": "82a1ba94-804d-4e91-a905-899ccf23bb13",
   "metadata": {},
   "source": [
    "## Python stores information in different formats or types"
   ]
  },
  {
   "cell_type": "markdown",
   "id": "ddd66c32-9558-4e42-84e8-7dfa12f2eff6",
   "metadata": {},
   "source": [
    "For efficiency, computers store information in different ways. For example, here are *four* ways we can store the number `1.234`.\n",
    "<br>We are also using the function `type( )` to ask how Python how it's storing the information. "
   ]
  },
  {
   "cell_type": "markdown",
   "id": "b6cd0043-3099-4825-8760-c9008a3121c0",
   "metadata": {},
   "source": [
    "<u>Example 1:</u>\n",
    "<br>`int()` drops the decimal portion "
   ]
  },
  {
   "cell_type": "code",
   "execution_count": 25,
   "id": "f7b878c5-be57-4f2e-8761-6db465df6694",
   "metadata": {},
   "outputs": [
    {
     "name": "stdout",
     "output_type": "stream",
     "text": [
      "1 <class 'int'>\n"
     ]
    }
   ],
   "source": [
    "x = int(1.234)\n",
    "print(x, type(x))"
   ]
  },
  {
   "cell_type": "markdown",
   "id": "3bb458b1-c603-43f1-86b2-1636158402bd",
   "metadata": {},
   "source": [
    "<u> Example 2:</u>\n",
    "<br>`str()`stores the variable as an english word"
   ]
  },
  {
   "cell_type": "code",
   "execution_count": 27,
   "id": "fea56d85-5d81-44da-8f32-6a717f7f0ad0",
   "metadata": {},
   "outputs": [
    {
     "name": "stdout",
     "output_type": "stream",
     "text": [
      "1.234 <class 'str'>\n"
     ]
    }
   ],
   "source": [
    "x=str(1.234)\n",
    "print(x, type(x))"
   ]
  },
  {
   "cell_type": "markdown",
   "id": "e3504805-c906-41a9-86b2-3bfa89f75cbd",
   "metadata": {},
   "source": [
    "<u>Example 3</u>\n",
    "<br>`float()` stores the variable as a decimal number"
   ]
  },
  {
   "cell_type": "code",
   "execution_count": 28,
   "id": "4a2dc5e3-d1ff-49fa-8573-99a97f74f34c",
   "metadata": {},
   "outputs": [
    {
     "name": "stdout",
     "output_type": "stream",
     "text": [
      "1.234 <class 'float'>\n"
     ]
    }
   ],
   "source": [
    "x = float(1.234)\n",
    "print(x, type(x))"
   ]
  },
  {
   "cell_type": "markdown",
   "id": "fcd83384-e10c-402b-8881-9e35832a774a",
   "metadata": {},
   "source": [
    "<u>Example 4</u>\n",
    "<br>`complex()` will include an imaginary part of the number"
   ]
  },
  {
   "cell_type": "code",
   "execution_count": 30,
   "id": "05ee31ec-5150-4bbb-b0f6-2bb44803bd04",
   "metadata": {},
   "outputs": [
    {
     "name": "stdout",
     "output_type": "stream",
     "text": [
      "(1.234+0j) <class 'complex'>\n"
     ]
    }
   ],
   "source": [
    "x=complex(1.234)\n",
    "print(x, type(x))"
   ]
  },
  {
   "cell_type": "markdown",
   "id": "2ad1d2e6-e13e-48e2-b174-1dc3a8c9c3cc",
   "metadata": {},
   "source": [
    "*<span style='color:red'>There are many types of data, click [here](https://realpython.com/python-data-types/) for more details.*</span>"
   ]
  },
  {
   "cell_type": "code",
   "execution_count": 31,
   "id": "e400a54d-0994-4e44-8705-49ee9aec0065",
   "metadata": {},
   "outputs": [
    {
     "name": "stdout",
     "output_type": "stream",
     "text": [
      "1.234 <class 'str'>\n"
     ]
    }
   ],
   "source": [
    "x = '1.234' #x is a string\n",
    "print(x, type(x))"
   ]
  },
  {
   "cell_type": "code",
   "execution_count": 32,
   "id": "9f6fbfe6-9498-4dee-b022-6f11064e0254",
   "metadata": {},
   "outputs": [
    {
     "name": "stdout",
     "output_type": "stream",
     "text": [
      "1.234 <class 'float'>\n"
     ]
    }
   ],
   "source": [
    "x=float(x)\n",
    "print(x, type(x))"
   ]
  },
  {
   "cell_type": "markdown",
   "id": "91ad8b02-23e7-4512-8b75-3493010d4e72",
   "metadata": {},
   "source": [
    "*This is called typecasting, where we cast `x` to the type `float`*"
   ]
  },
  {
   "cell_type": "markdown",
   "id": "a4f04816-0cc6-4d1d-b88e-8985549a2df9",
   "metadata": {},
   "source": [
    "## Never compare floats directly"
   ]
  },
  {
   "cell_type": "markdown",
   "id": "e0b702ad-9356-41c8-8895-4bca636a6959",
   "metadata": {},
   "source": [
    "### The problem"
   ]
  },
  {
   "cell_type": "markdown",
   "id": "877b12f7-e02c-467b-b156-57a5aef9c07a",
   "metadata": {},
   "source": [
    "Floating point numbers cannot be exactly stored in a computer. This leads to errors called <span style='color:orange'>roundoff errors</span>. "
   ]
  },
  {
   "cell_type": "code",
   "execution_count": 34,
   "id": "e68cd4be-90df-4e7a-a339-e9b23ce5e00a",
   "metadata": {},
   "outputs": [
    {
     "ename": "SyntaxError",
     "evalue": "invalid syntax (846483916.py, line 1)",
     "output_type": "error",
     "traceback": [
      "\u001b[0;36m  Cell \u001b[0;32mIn[34], line 1\u001b[0;36m\u001b[0m\n\u001b[0;31m    0.1 x 3 with 0.3\u001b[0m\n\u001b[0m        ^\u001b[0m\n\u001b[0;31mSyntaxError\u001b[0m\u001b[0;31m:\u001b[0m invalid syntax\n"
     ]
    }
   ],
   "source": [
    "0.1 x 3 with 0.3"
   ]
  },
  {
   "cell_type": "code",
   "execution_count": 35,
   "id": "b69b3833-e994-48a0-995a-bea02ffaf242",
   "metadata": {},
   "outputs": [
    {
     "data": {
      "text/plain": [
       "False"
      ]
     },
     "execution_count": 35,
     "metadata": {},
     "output_type": "execute_result"
    }
   ],
   "source": [
    "a = 0.1 \n",
    "a3=0.3\n",
    "a *3 == a3"
   ]
  },
  {
   "cell_type": "code",
   "execution_count": 38,
   "id": "bbb662f3-da43-46c2-9a7c-3ccb7f61ca2e",
   "metadata": {},
   "outputs": [
    {
     "data": {
      "text/plain": [
       "'0.29999999999999999'"
      ]
     },
     "execution_count": 38,
     "metadata": {},
     "output_type": "execute_result"
    }
   ],
   "source": [
    "f'{0.3:.17f}'"
   ]
  },
  {
   "cell_type": "markdown",
   "id": "204af03b-a75c-4294-9e5a-d70012d6a67c",
   "metadata": {},
   "source": [
    "## A solution\n",
    "_________"
   ]
  },
  {
   "cell_type": "markdown",
   "id": "96732d0b-8ade-406c-83e5-52d5687681fb",
   "metadata": {},
   "source": [
    "To get around these types of issues, we should check if the variable is close to the expected values instead of checking for equality"
   ]
  },
  {
   "cell_type": "code",
   "execution_count": 40,
   "id": "73c149fe-451b-40bf-bb1b-e5e1c39c6fa5",
   "metadata": {},
   "outputs": [
    {
     "data": {
      "text/plain": [
       "True"
      ]
     },
     "execution_count": 40,
     "metadata": {},
     "output_type": "execute_result"
    }
   ],
   "source": [
    "eps=1E-10\n",
    "abs(a*3-a3)<eps"
   ]
  },
  {
   "cell_type": "code",
   "execution_count": 42,
   "id": "c8c784d4-1907-4826-a1fe-04b70a7c7210",
   "metadata": {},
   "outputs": [],
   "source": [
    "import numpy"
   ]
  },
  {
   "cell_type": "code",
   "execution_count": 44,
   "id": "61d587d7-d24f-46b1-aab3-721109adf565",
   "metadata": {},
   "outputs": [],
   "source": [
    "import numpy as np"
   ]
  },
  {
   "cell_type": "code",
   "execution_count": 45,
   "id": "808499ce-e156-4402-adb0-66be90685dce",
   "metadata": {},
   "outputs": [
    {
     "data": {
      "text/plain": [
       "True"
      ]
     },
     "execution_count": 45,
     "metadata": {},
     "output_type": "execute_result"
    }
   ],
   "source": [
    "np.isclose(a*3, a3)"
   ]
  },
  {
   "cell_type": "markdown",
   "id": "a6a44c6c-01d2-49e2-8d20-5f3267e892aa",
   "metadata": {},
   "source": [
    "## Combining English and Variables\n",
    "__________"
   ]
  },
  {
   "cell_type": "markdown",
   "id": "5decaea1-8612-49fe-8174-f55fdba57bf6",
   "metadata": {},
   "source": [
    "Combining text and variables is easy with the newer versions of Python. Here are a few examples:"
   ]
  },
  {
   "cell_type": "code",
   "execution_count": 50,
   "id": "7dc1a415-df9f-4656-a129-c6ccaa840320",
   "metadata": {},
   "outputs": [
    {
     "name": "stdout",
     "output_type": "stream",
     "text": [
      "Hello Batman\n"
     ]
    }
   ],
   "source": [
    "#Example 1:\n",
    "name='Batman'\n",
    "print(f'Hello {name}')"
   ]
  },
  {
   "cell_type": "code",
   "execution_count": 54,
   "id": "6156d82d-0f9b-4a2a-918c-c107e6957c8e",
   "metadata": {},
   "outputs": [
    {
     "name": "stdout",
     "output_type": "stream",
     "text": [
      "Hello BATMAN!\n"
     ]
    }
   ],
   "source": [
    "#Example 2:\n",
    "name='Batman'\n",
    "print(f\"Hello {name.upper()}!\")"
   ]
  },
  {
   "cell_type": "code",
   "execution_count": 56,
   "id": "b38152fb-37d6-4717-8900-b2a008096a4a",
   "metadata": {},
   "outputs": [
    {
     "name": "stdout",
     "output_type": "stream",
     "text": [
      "The value of 10 squared is 100\n"
     ]
    }
   ],
   "source": [
    "#Example 3:\n",
    "x=10\n",
    "print(f\"The value of {x} squared is {x**2}\")"
   ]
  },
  {
   "cell_type": "markdown",
   "id": "cdab4c47-ef29-441c-ab98-96b0944fddb6",
   "metadata": {},
   "source": [
    "Note the `f` and the `{ }` in the above command. This is called **f-string** or **string** interpolation. \n",
    "<br> Here are more examples of what we can do with  *f-strings*"
   ]
  },
  {
   "cell_type": "code",
   "execution_count": 58,
   "id": "9150d09d-9cdd-44f5-ad0c-8843a3c3a2df",
   "metadata": {},
   "outputs": [
    {
     "name": "stdout",
     "output_type": "stream",
     "text": [
      "Bruce Wayne is Batman.\n"
     ]
    }
   ],
   "source": [
    "#Example 1: Using f-strings to format text (strings)\n",
    "text='Bruce Wayne is Batman.'\n",
    "print(f'{text}')"
   ]
  },
  {
   "cell_type": "code",
   "execution_count": 61,
   "id": "2f8aeb81-1ecd-4d46-ba20-d25054cb36be",
   "metadata": {},
   "outputs": [
    {
     "name": "stdout",
     "output_type": "stream",
     "text": [
      "        Bruce Wayne is Batman.\n"
     ]
    }
   ],
   "source": [
    "print(f'{text:>30}') \n",
    "#A block of 30 characters;\n",
    "#Aligned right"
   ]
  },
  {
   "cell_type": "code",
   "execution_count": 63,
   "id": "442b749d-95c4-4df7-bb8f-6a02d5de49a5",
   "metadata": {},
   "outputs": [
    {
     "name": "stdout",
     "output_type": "stream",
     "text": [
      "Bruce Wayne is Batman.        \n"
     ]
    }
   ],
   "source": [
    "print(f'{text:<30}')\n",
    "#A block of 30 characters \n",
    "#Aligned left"
   ]
  },
  {
   "cell_type": "code",
   "execution_count": 65,
   "id": "2add797a-0efa-458c-9671-de2208ff3c75",
   "metadata": {},
   "outputs": [
    {
     "name": "stdout",
     "output_type": "stream",
     "text": [
      "The cube of pi to 6 decimal places is 31.006277\n"
     ]
    }
   ],
   "source": [
    "#Example 2: Using f-string to format numbers \n",
    "print(f'The cube of pi to 6 decimal places is {np.pi**3:.6f}')\n",
    "#print (string) and using NumPy to calculate pi to the power of 3 rounded off to 6 decimal places"
   ]
  },
  {
   "cell_type": "markdown",
   "id": "c9dfcb83-93d7-40ab-88a8-896824497ecb",
   "metadata": {},
   "source": [
    "The `e` in `.6e` is used to tell the f-string to output the number in scientific notation. "
   ]
  },
  {
   "cell_type": "markdown",
   "id": "937b1f90-a60f-4517-9dd5-50f772b961ac",
   "metadata": {},
   "source": [
    "## Structure of f-strings\n",
    "____________"
   ]
  },
  {
   "cell_type": "markdown",
   "id": "21aaa733-2f0e-4da9-892c-8f36e5d40ab1",
   "metadata": {},
   "source": [
    "f-string formatting has the structure {X:>0Y.ZW}. Here is more information about the letters `x`, `y`>`0`,`Z`and`W`."
   ]
  },
  {
   "cell_type": "markdown",
   "id": "f7778ca1-156c-4a6d-9997-dce442d18949",
   "metadata": {},
   "source": [
    "|Letter|Action|Possible Options|\n",
    "|:----:|:----:|:--------------|\n",
    "|`X`|Variable to format|Can be a number of string|\n",
    "|`>`|Alignment|`<` (Left Justified)\n",
    "|||`>` (Right Justified)|\n",
    "|||`^` (Centre Justified)|\n",
    "|`0`|Use 0's to pad the spaces|You can use other characters like a space|\n",
    "|`Y`|Total number of characters||\n",
    "|`Z`|Number of decimal places||\n",
    "|`W`|Specifies the type of variable|`f` (float)|\n",
    "|||`d` (integer)|\n",
    "|||`s` (string)|\n",
    "|||`g` (Asks Python to figure it out|"
   ]
  },
  {
   "cell_type": "markdown",
   "id": "c8c132ed-5fb3-4401-aa7e-1de2c712d89f",
   "metadata": {},
   "source": [
    "## Escape Sequences"
   ]
  },
  {
   "cell_type": "markdown",
   "id": "93811eba-e947-4b54-ae26-d14c49638f04",
   "metadata": {},
   "source": [
    "This is a good point to highlight <span style='color:orange'>escape sequences</span>. It refers to special characters we sometimes need when writing english. "
   ]
  },
  {
   "cell_type": "code",
   "execution_count": 68,
   "id": "da63fdb9-4b3d-4bf6-a778-48c2679c031c",
   "metadata": {},
   "outputs": [
    {
     "name": "stdout",
     "output_type": "stream",
     "text": [
      "Line 1\n",
      "\tLine 2\n",
      "\t\tLine 3\n"
     ]
    }
   ],
   "source": [
    "#Example: Breaking a line and adding a tab\n",
    "print('Line 1\\n\\tLine 2\\n\\t\\tLine 3')"
   ]
  },
  {
   "cell_type": "markdown",
   "id": "3efca81a-923a-47e4-a1b4-a0852966a81c",
   "metadata": {},
   "source": [
    "The `\\n` is the command to breakline and `\\t` represents a tab. These characters are not visible but they are there. \n",
    "<br> Here are all the useful escape sequences in a table:"
   ]
  },
  {
   "cell_type": "markdown",
   "id": "003f4e78-f536-4add-9b5e-8d601da4438e",
   "metadata": {},
   "source": [
    "|Escape Sequence|Meaning|\n",
    "|:-------------:|:------|\n",
    "|`\\'`|Single Quote|\n",
    "|`\\\\`|Backslash|\n",
    "|`\\n`|Newline|\n",
    "|`\\t`|Horizontal Tab|"
   ]
  },
  {
   "cell_type": "markdown",
   "id": "93006ffc-1e5b-45c1-b0f7-905bff174d98",
   "metadata": {},
   "source": [
    "Here are more examples:"
   ]
  },
  {
   "cell_type": "code",
   "execution_count": 70,
   "id": "de4d0683-e1df-4d91-98a4-46d4a4d71e34",
   "metadata": {},
   "outputs": [
    {
     "name": "stdout",
     "output_type": "stream",
     "text": [
      "You're twenty years old\n",
      "You're twenty years old\n"
     ]
    }
   ],
   "source": [
    "#Example 1: Escape version '\\'\n",
    "print(\"You're twenty years old\")\n",
    "print('You\\'re twenty years old')"
   ]
  },
  {
   "cell_type": "code",
   "execution_count": 71,
   "id": "29fdd48c-60f4-4466-a6a4-dc08f39b6b03",
   "metadata": {},
   "outputs": [
    {
     "name": "stdout",
     "output_type": "stream",
     "text": [
      "A\\B\\C\n"
     ]
    }
   ],
   "source": [
    "#Example 2: If you want to print \\ you need to escape it. \n",
    "print('A\\\\B\\\\C')"
   ]
  },
  {
   "cell_type": "code",
   "execution_count": 72,
   "id": "1a3a5e19-78a1-4c3c-b2f3-ad222ccb8765",
   "metadata": {},
   "outputs": [
    {
     "name": "stdout",
     "output_type": "stream",
     "text": [
      "A\\B\\C\n"
     ]
    }
   ],
   "source": [
    "print('A\\B\\C')"
   ]
  },
  {
   "cell_type": "code",
   "execution_count": 73,
   "id": "5d0c5974-b344-4d5a-b771-0976f5f44f6a",
   "metadata": {},
   "outputs": [
    {
     "name": "stdout",
     "output_type": "stream",
     "text": [
      "A\n",
      "B\n",
      "C\n"
     ]
    }
   ],
   "source": [
    "#Example 3: Linebreaks\n",
    "print('A\\nB\\nC')"
   ]
  },
  {
   "cell_type": "code",
   "execution_count": 75,
   "id": "a282d7cf-cb9d-4b7f-aaf8-6c5272f9d3ea",
   "metadata": {},
   "outputs": [
    {
     "name": "stdout",
     "output_type": "stream",
     "text": [
      "A\tB\tC\n"
     ]
    }
   ],
   "source": [
    "#Example 4: Horizontal Tabs\n",
    "print('A\\tB\\tC')"
   ]
  },
  {
   "cell_type": "markdown",
   "id": "62f0183b-c044-40d4-9ae7-ab291940f4be",
   "metadata": {},
   "source": [
    "## Computers Read `=` from Right to Left! "
   ]
  },
  {
   "cell_type": "markdown",
   "id": "2c78d1c8-6241-4b2b-bece-3c96dced4391",
   "metadata": {},
   "source": [
    "The way computers use `=` is quirky"
   ]
  },
  {
   "cell_type": "code",
   "execution_count": 77,
   "id": "c6f4c0c9-329f-4da4-a8cf-41343848aa05",
   "metadata": {},
   "outputs": [],
   "source": [
    "#Consider this code:\n",
    "x = 40 \n",
    "y = 40 + 2"
   ]
  },
  {
   "cell_type": "code",
   "execution_count": 78,
   "id": "4dc93582-aab4-4a65-80a2-d07911a3060f",
   "metadata": {},
   "outputs": [
    {
     "name": "stdout",
     "output_type": "stream",
     "text": [
      "42\n"
     ]
    }
   ],
   "source": [
    "y=40\n",
    "y=y+2 \n",
    "print(y)"
   ]
  },
  {
   "cell_type": "code",
   "execution_count": 79,
   "id": "ad34f10c-0c51-4f04-8682-2c14fec23c68",
   "metadata": {},
   "outputs": [
    {
     "name": "stdout",
     "output_type": "stream",
     "text": [
      "10\n",
      "10\n"
     ]
    }
   ],
   "source": [
    "x = y = 10 \n",
    "print(x) \n",
    "print(y)"
   ]
  },
  {
   "cell_type": "markdown",
   "id": "aac76b48-74b5-4292-a2de-4f98d8e7379e",
   "metadata": {},
   "source": [
    "## Shorter and Cleaner Code"
   ]
  },
  {
   "cell_type": "markdown",
   "id": "fc73773e-e482-42f4-ab2c-c7088d374693",
   "metadata": {},
   "source": [
    "Shorthand syntax related to the previous point that will make our code neater. (Don't want to use but must still understand it)"
   ]
  },
  {
   "cell_type": "code",
   "execution_count": 81,
   "id": "d0373a51-b911-4617-ab2c-5f7326bb19dc",
   "metadata": {},
   "outputs": [
    {
     "data": {
      "text/plain": [
       "42"
      ]
     },
     "execution_count": 81,
     "metadata": {},
     "output_type": "execute_result"
    }
   ],
   "source": [
    "#Version 1:\n",
    "y = 40\n",
    "y= 40 + 2\n",
    "y"
   ]
  },
  {
   "cell_type": "code",
   "execution_count": 84,
   "id": "b90671d1-ef30-4e6f-947f-0cb39a33f670",
   "metadata": {},
   "outputs": [
    {
     "data": {
      "text/plain": [
       "42"
      ]
     },
     "execution_count": 84,
     "metadata": {},
     "output_type": "execute_result"
    }
   ],
   "source": [
    "#Version 2:\n",
    "y=40 \n",
    "y+=2 \n",
    "y"
   ]
  },
  {
   "cell_type": "markdown",
   "id": "dae8fff5-e9ba-4126-ac5a-beb76efd2e88",
   "metadata": {},
   "source": [
    "<span style='color:pink'>In the above case, y+=2 is the same as y=y+2</span> \n",
    "<br>Here is a table of shorthand notations:"
   ]
  },
  {
   "cell_type": "markdown",
   "id": "9cfc163a-d454-43be-ac81-786dd75187a7",
   "metadata": {},
   "source": [
    "||Long Form|Shorthand|\n",
    "|:-:|:---------:|:-------|\n",
    "|Addition|`y=y+2`|`y+=2`|\n",
    "|Subtraction|`y=y-2`|`y=-=2`|\n",
    "|Multiplication|`y=y*2`|`y*=2`|\n",
    "|Division|`y=y/2`|`y/=2`|"
   ]
  },
  {
   "cell_type": "markdown",
   "id": "7dbebc4d-4628-4ac4-b3ab-0b41ab05fb86",
   "metadata": {},
   "source": [
    "## Python can be a prima-donna"
   ]
  },
  {
   "cell_type": "markdown",
   "id": "bfe7bc00-99dc-4ad7-8c63-7c808fbbf159",
   "metadata": {},
   "source": [
    "- When we do something python doesn't like or understand. it will return a long error message. \n",
    "- Fixing coding errors is called <span style='color:orange'>debugging<span>\n",
    "- Practice debugging! "
   ]
  },
  {
   "cell_type": "markdown",
   "id": "39af54d5-e0b7-46d4-8d07-53d0d7db1621",
   "metadata": {},
   "source": [
    "## Best practices for Scientific Computing"
   ]
  },
  {
   "cell_type": "markdown",
   "id": "5d668b54-bc19-49f3-82c6-f0b87763f67a",
   "metadata": {},
   "source": [
    "<u>There are some practices we should always bear in mind.</u> "
   ]
  },
  {
   "cell_type": "markdown",
   "id": "a179eef3-1794-4f86-b0e5-560671fe20c0",
   "metadata": {},
   "source": [
    "- Write programs for people, not computers\n",
    "- Optimise software only after it works correctly\n",
    "- Document design and purpose, not mechanics\n",
    "- Collaborate"
   ]
  },
  {
   "cell_type": "markdown",
   "id": "eb1ae67f-e11f-418e-ac8a-a618a715d9ad",
   "metadata": {},
   "source": [
    "## Looking for Help"
   ]
  },
  {
   "cell_type": "code",
   "execution_count": 2,
   "id": "aa9bb1c5-593e-483c-ab3e-9c63c767401d",
   "metadata": {},
   "outputs": [
    {
     "name": "stdout",
     "output_type": "stream",
     "text": [
      "Help on built-in function print in module builtins:\n",
      "\n",
      "print(*args, sep=' ', end='\\n', file=None, flush=False)\n",
      "    Prints the values to a stream, or to sys.stdout by default.\n",
      "    \n",
      "    sep\n",
      "      string inserted between values, default a space.\n",
      "    end\n",
      "      string appended after the last value, default a newline.\n",
      "    file\n",
      "      a file-like object (stream); defaults to the current sys.stdout.\n",
      "    flush\n",
      "      whether to forcibly flush the stream.\n",
      "\n"
     ]
    }
   ],
   "source": [
    "# Not recommended for novice learners\n",
    "help(print)"
   ]
  },
  {
   "cell_type": "code",
   "execution_count": null,
   "id": "f8f54524-ee78-4142-bdc5-e3a45713adfe",
   "metadata": {},
   "outputs": [],
   "source": []
  }
 ],
 "metadata": {
  "kernelspec": {
   "display_name": "Python 3 (ipykernel)",
   "language": "python",
   "name": "python3"
  },
  "language_info": {
   "codemirror_mode": {
    "name": "ipython",
    "version": 3
   },
   "file_extension": ".py",
   "mimetype": "text/x-python",
   "name": "python",
   "nbconvert_exporter": "python",
   "pygments_lexer": "ipython3",
   "version": "3.11.5"
  },
  "toc": {
   "base_numbering": 1,
   "nav_menu": {},
   "number_sections": true,
   "sideBar": true,
   "skip_h1_title": false,
   "title_cell": "Table of Contents",
   "title_sidebar": "Contents",
   "toc_cell": false,
   "toc_position": {},
   "toc_section_display": true,
   "toc_window_display": false
  },
  "vscode": {
   "interpreter": {
    "hash": "31f2aee4e71d21fbe5cf8b01ff0e069b9275f58929596ceb00d14d90e3e16cd6"
   }
  }
 },
 "nbformat": 4,
 "nbformat_minor": 5
}
