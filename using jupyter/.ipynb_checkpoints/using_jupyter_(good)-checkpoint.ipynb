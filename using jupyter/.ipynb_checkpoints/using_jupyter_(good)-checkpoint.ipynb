{
 "cells": [
  {
   "attachments": {},
   "cell_type": "markdown",
   "id": "123456",
   "metadata": {},
   "source": [
    "<div style=\"text-align:left;font-size:2em\"><span style=\"font-weight:bolder;font-size:1.25em\">SP2273 | Learning Portfolio</span><br><br><span style=\"font-weight:bold;color:darkred\">Using Jupyter (Good)</span></div>"
   ]
  },
  {
   "attachments": {},
   "cell_type": "markdown",
   "id": "965d4265",
   "metadata": {},
   "source": [
    "# Keyboard Shortcuts"
   ]
  },
  {
   "cell_type": "markdown",
   "id": "d3c1d838-a3cb-4308-956c-0f99c94db8f7",
   "metadata": {},
   "source": [
    "**For MacOS**\n",
    "|Action|  Shortcut|\n",
    "| :--- | :-- |\n",
    "|Run Cell  | <mark style=\"background-color: lightgrey\"> <span style=\"color:purple\"> CMD + ENTER </mark>    |\n",
    "|Run cell and move to the next   |<mark style=\"background-color: lightgrey\"> <span style=\"color:purple\">  SHIFT + ENTER  | \n",
    "|Convert cell to code cell   | <mark style=\"background-color: lightgrey\"> <span style=\"color:purple\"> ESC + Y  | \n",
    "|Convert Cell to Markdown Cell| <mark style=\"background-color: lightgrey\"> <span style=\"color:purple\"> ESC + M |\n",
    "|Create New Cell | <mark style=\"background-color: lightgrey\"> <span style=\"color:purple\"> ESC + A (ABOVE)|\n",
    "|| <mark style=\"background-color: lightgrey\"> <span style=\"color:purple\"> ESC + B (BELOW)|\n",
    "|Copy Cells|<mark style=\"background-color: lightgrey\"> <span style=\"color:purple\"> ESC + C |\n",
    "|Paste Cells|<mark style=\"background-color: lightgrey\"> <span style=\"color:purple\"> ESC + V|\n",
    "|Merge Cells| <mark style=\"background-color: lightgrey\"> <span style=\"color:purple\"> SHFIT + M|\n",
    "|Delete Cells|<mark style=\"background-color: lightgrey\"> <span style=\"color:purple\"> ESC + D + D|\n",
    "|Show Shortcuts| <mark style=\"background-color: lightgrey\"> <span style=\"color:purple\"> ESC + H| \n",
    "\n",
    "Many shortcut commands use the escape button(<mark style=\"background-color: lightgrey\"> <span style=\"color:purple\">ESC</span></mark>). This is because typing <mark style=\"background-color: lightgrey\"> <span style=\"color:purple\">ESC</span></mark> puts Jupyter into command mode, ready for a command, not code or text.\n"
   ]
  },
  {
   "attachments": {},
   "cell_type": "markdown",
   "id": "7bf703fe",
   "metadata": {},
   "source": [
    "## Things to note\n",
    "\n",
    "- You can select one or more cells using SHIFT and the up and down arrow keys.\n",
    "- Be careful with the delete shortcut; it can be ruthless.\n",
    "- You can view (and set) shortcuts for Jupyter Notebooks by typing ESC + H."
   ]
  },
  {
   "attachments": {},
   "cell_type": "markdown",
   "id": "790a65bc",
   "metadata": {},
   "source": [
    "## Shell commands\n",
    "\n",
    "You can run ‘terminal’ commands <u> (called shell commands) </u> from Jupyter without switching to the terminal. The only thing you need to do is to add a ! in front of the command.\n",
    "\n",
    "To test out this feature, run the following:"
   ]
  },
  {
   "cell_type": "markdown",
   "id": "892cc2a9-3393-4715-a801-86b22a42270f",
   "metadata": {},
   "source": [
    "- This will **p**rint the current **w**orking **d**irectory."
   ]
  },
  {
   "cell_type": "code",
   "execution_count": 3,
   "id": "bdad4921-8367-49c3-9969-f0e63aafd051",
   "metadata": {},
   "outputs": [
    {
     "name": "stdout",
     "output_type": "stream",
     "text": [
      "/Users/bradentan/Desktop/NUS/NUS Main/Y2S2/SP2273/learning-portfolio-tchinqi/using jupyter\n"
     ]
    }
   ],
   "source": [
    "! pwd"
   ]
  },
  {
   "cell_type": "markdown",
   "id": "c4beda37-2217-4394-a5f4-ed3354b7e2c2",
   "metadata": {},
   "source": [
    "- This will show you a list of all the files in your folder."
   ]
  },
  {
   "cell_type": "code",
   "execution_count": 5,
   "id": "a03b4ad6-5aa7-45d2-92e0-70c5406ec454",
   "metadata": {},
   "outputs": [
    {
     "name": "stdout",
     "output_type": "stream",
     "text": [
      "using-jupyter_(need).ipynb using_jupyter_(good).ipynb\n"
     ]
    }
   ],
   "source": [
    "! ls"
   ]
  },
  {
   "cell_type": "markdown",
   "id": "eb7addfc-207a-42af-92b8-f69467da014b",
   "metadata": {},
   "source": [
    "## Install Notebook 7"
   ]
  },
  {
   "cell_type": "markdown",
   "id": "f8ff7dd6-1b60-44e7-a763-a653a057b52b",
   "metadata": {},
   "source": [
    "To ensure that all of you benefit from the latest updates and ensure uniformity, I would like you to use Jupyter Notebook version 7. For this, please follow these steps:"
   ]
  },
  {
   "cell_type": "markdown",
   "id": "8cbe62dc-5737-4017-9d77-911bd6ac055a",
   "metadata": {},
   "source": [
    "1. Remove the extensions to avoid possible version conflicts. "
   ]
  },
  {
   "cell_type": "code",
   "execution_count": 1,
   "id": "bb7b89e1-2ef2-4dbf-b701-b8c5b570cbef",
   "metadata": {},
   "outputs": [
    {
     "name": "stdout",
     "output_type": "stream",
     "text": [
      "\n",
      "PackagesNotFoundError: The following packages are missing from the target environment:\n",
      "  - jupyter_contrib_nbextensions\n",
      "\n",
      "\n",
      "\n",
      "Note: you may need to restart the kernel to use updated packages.\n"
     ]
    }
   ],
   "source": [
    "conda remove jupyter_contrib_nbextensions"
   ]
  },
  {
   "cell_type": "markdown",
   "id": "b41436b0-e2d0-44d2-b0c5-5b7f70d6a4b4",
   "metadata": {},
   "source": [
    "## Install Notebook Version 7"
   ]
  },
  {
   "cell_type": "code",
   "execution_count": 2,
   "id": "8bb8ca05-6131-47e5-939d-d5bc3595b36c",
   "metadata": {},
   "outputs": [
    {
     "name": "stdout",
     "output_type": "stream",
     "text": [
      "Retrieving notices: ...working... done\n",
      "Channels:\n",
      " - conda-forge\n",
      " - defaults\n",
      "Platform: osx-64\n",
      "Collecting package metadata (repodata.json): / ^C\n",
      "failed\n",
      "\n",
      "CondaError: KeyboardInterrupt\n",
      "\n",
      "\n",
      "Note: you may need to restart the kernel to use updated packages.\n"
     ]
    }
   ],
   "source": [
    "conda install -c conda-forge notebook=7.0.6 -y"
   ]
  },
  {
   "attachments": {},
   "cell_type": "markdown",
   "id": "3a3e74f6",
   "metadata": {},
   "source": [
    "## Shell Magic"
   ]
  },
  {
   "cell_type": "markdown",
   "id": "4b13f9d4-d563-4349-b18a-c23293afb75b",
   "metadata": {},
   "source": [
    "One of the most useful goodies that come with Jupyter are the <span style=\"color: orange \"> magic commands </span>. For example, try the following:"
   ]
  },
  {
   "cell_type": "code",
   "execution_count": 1,
   "id": "682111ec-17d8-4565-a5a6-8e6e6d50bb12",
   "metadata": {},
   "outputs": [
    {
     "name": "stdout",
     "output_type": "stream",
     "text": [
      "15.3 ns ± 0.233 ns per loop (mean ± std. dev. of 7 runs, 100,000,000 loops each)\n"
     ]
    }
   ],
   "source": [
    "%timeit x=10"
   ]
  },
  {
   "cell_type": "markdown",
   "id": "99f0beaf-bd98-483c-bb0f-7814cf17b644",
   "metadata": {},
   "source": [
    "This will run for a while and then tell you statistics on how long the command takes to execute. The above is called **line magic** because it works (i.e., does the timing in this case) for only a single line. If you want to apply it to a whole cell, we will use the **cell magic** command (<mark style=\"background-color: lightgrey\"> <span style=\"color:purple\">%%timeit</span></mark>)"
   ]
  },
  {
   "cell_type": "code",
   "execution_count": 2,
   "id": "302a7208-8ad8-49c5-b0b9-54957f7397f0",
   "metadata": {},
   "outputs": [
    {
     "name": "stdout",
     "output_type": "stream",
     "text": [
      "22.7 ns ± 0.187 ns per loop (mean ± std. dev. of 7 runs, 10,000,000 loops each)\n"
     ]
    }
   ],
   "source": [
    "%%timeit \n",
    "x=10\n",
    "y=10\n",
    "z=10"
   ]
  },
  {
   "cell_type": "markdown",
   "id": "696292d9-2d5e-4f89-b903-111c2764b6c0",
   "metadata": {},
   "source": [
    "You will only need the <mark style=\"background-color: lightgrey\"> <span style = \"color: purple\"> timeit</span></mark> in 73. However, there is more magic to be found. Use <mark style=\"background-color: lightgrey\"> <span style = \"color: purple\">% lsmagic</span> </mark>  to discover what else is available."
   ]
  },
  {
   "attachments": {},
   "cell_type": "markdown",
   "id": "458d6359",
   "metadata": {},
   "source": [
    "## The Kernel"
   ]
  },
  {
   "cell_type": "markdown",
   "id": "87dd4bd9-53e1-455c-989c-f351025ce628",
   "metadata": {},
   "source": [
    "There is more going on with Jupyter Notebooks than just Python. All the behind-the-scenes work of running a Jupyter Notebook is done by a sub-routine called the <span style =\"color: orange\">Kernel</span>.\n",
    "\n",
    "We can interrupt, restart, or shut down the **``kernel``** using the Kernel button in the toolbar. As you start coding with Python, you **will** need to do these because Jupyter sometimes misbehaves, and you can make blunders that require a reset."
   ]
  },
  {
   "attachments": {},
   "cell_type": "markdown",
   "id": "9ff95a92",
   "metadata": {},
   "source": [
    "## EXERCISE (GOOD)"
   ]
  },
  {
   "cell_type": "markdown",
   "id": "1d0baebe-7f83-4a49-b0f1-861a505cac48",
   "metadata": {},
   "source": [
    "**Exercise 1: Learning to interrupt** "
   ]
  },
  {
   "cell_type": "code",
   "execution_count": null,
   "id": "eeed21b8-8b06-44a2-ae77-e911060923a1",
   "metadata": {},
   "outputs": [],
   "source": [
    "while True:\n",
    "    print('*', end='')"
   ]
  },
  {
   "cell_type": "markdown",
   "id": "e1a02fee-c06c-414f-9956-522bb12d2427",
   "metadata": {},
   "source": [
    "**Exercise 2: Resetting and Restarting the Kernal** "
   ]
  },
  {
   "cell_type": "code",
   "execution_count": 2,
   "id": "dc2e5013-9a22-4c49-9a89-91dcb7ecb5f5",
   "metadata": {},
   "outputs": [
    {
     "name": "stdout",
     "output_type": "stream",
     "text": [
      "Hello World\n"
     ]
    }
   ],
   "source": [
    "print(\"Hello World\")"
   ]
  }
 ],
 "metadata": {
  "kernelspec": {
   "display_name": "Python 3 (ipykernel)",
   "language": "python",
   "name": "python3"
  },
  "language_info": {
   "codemirror_mode": {
    "name": "ipython",
    "version": 3
   },
   "file_extension": ".py",
   "mimetype": "text/x-python",
   "name": "python",
   "nbconvert_exporter": "python",
   "pygments_lexer": "ipython3",
   "version": "3.11.5"
  },
  "toc": {
   "base_numbering": 1,
   "nav_menu": {},
   "number_sections": true,
   "sideBar": true,
   "skip_h1_title": false,
   "title_cell": "Table of Contents",
   "title_sidebar": "Contents",
   "toc_cell": false,
   "toc_position": {},
   "toc_section_display": true,
   "toc_window_display": false
  },
  "vscode": {
   "interpreter": {
    "hash": "31f2aee4e71d21fbe5cf8b01ff0e069b9275f58929596ceb00d14d90e3e16cd6"
   }
  }
 },
 "nbformat": 4,
 "nbformat_minor": 5
}
