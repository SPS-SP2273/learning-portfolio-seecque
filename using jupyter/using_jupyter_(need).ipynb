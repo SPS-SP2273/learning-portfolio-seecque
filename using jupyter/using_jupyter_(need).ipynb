{
 "cells": [
  {
   "cell_type": "markdown",
   "id": "a50d92d0-8a76-4020-8e76-b31de1dc35be",
   "metadata": {},
   "source": [
    "<div style=\"text-align:left;font-size:2em\"><span style=\"font-weight:bolder;font-size:1.25em\">SP2273 | Learning Portfolio</span><br><br><span style=\"font-weight:bold;color:darkred\">Using Jupyter (Need)</span></div>"
   ]
  },
  {
   "cell_type": "markdown",
   "id": "a9605f70-c42a-40db-92a7-4615d0bd9871",
   "metadata": {},
   "source": [
    "## **What to expect in this chapter**"
   ]
  },
  {
   "cell_type": "markdown",
   "id": "c3932ad8-61e7-4e86-84da-5d2abc32cea1",
   "metadata": {},
   "source": [
    "Jupyter is an interactive environment that allows you to have a (sort of) conversation with Python. We learnt about feature like Markdown, allowing us to ‘add value’ to your code.\n",
    "\n",
    "Incidentally, Jupyter works so that you can ask it to do something, and it immediately shows you the result. In fact, the older name for Jupyter Notebooks was ‘IPython notebooks’, meaning ‘**interactive** Python notebooks’."
   ]
  },
  {
   "cell_type": "markdown",
   "id": "48f5e9e2-8a03-4e3f-87fe-1f74c9695716",
   "metadata": {},
   "source": [
    "## **Getting Ready**"
   ]
  },
  {
   "cell_type": "markdown",
   "id": "46d692d2-5735-4f93-a5d7-0633d4fefc92",
   "metadata": {},
   "source": [
    "1. Use the terminal to navigate to the folder <span style='color:purple'>Using Jupyter </span> in your Learning Portfolio.\n",
    "\n",
    "2. Start Jupyter notebooks through the terminal. Please refer to the previous chapter if you have forgotten how to do this.\n",
    "\n",
    "3. Use the button ``New`` to create a new <span style='color:purple'> Python 3 (ipykernel) </span> notebook.\n",
    "\n",
    "4. Click the <span style='color:purple'> Untitled </span> at the top (next to the Jupiter logo) and rename the file to <span style='color:purple'> using-jupyter_need </span>.\n",
    "\n"
   ]
  },
  {
   "cell_type": "markdown",
   "id": "aaaeb788-4af6-47c3-9815-66717fed4e96",
   "metadata": {},
   "source": [
    "## **Getting Started with Jupyter**"
   ]
  },
  {
   "cell_type": "markdown",
   "id": "1618d76c-52f0-417f-a03d-037d6e872c84",
   "metadata": {},
   "source": [
    "## **It is all about running cells**\n",
    "_________________"
   ]
  },
  {
   "cell_type": "markdown",
   "id": "3a2a93df-8000-439f-8a7e-c827d5af02dc",
   "metadata": {},
   "source": [
    "The basic unit of a Jupyter Notebook is a **cell**. A cell can either accept Python code or text in a format called <span style='color:orange'>Markdown</span>.\n",
    "\n",
    "A cell ready to accept Python is called a **code cell**, while one ready for Markdown is called a **Markdown cell**. To ‘get things done’, we **Run** a cell by using the Run button or the keyboard shortcut <span style='color:purple'>CTRL + ENTER (or CMD + ENTER)</span>."
   ]
  },
  {
   "cell_type": "markdown",
   "id": "24bc4e9a-d291-4e67-9f29-0dcb6111809e",
   "metadata": {},
   "source": [
    "![](https://problemsolvingwithpython.com/02-Jupyter-Notebooks/images/run_cell.png)"
   ]
  },
  {
   "cell_type": "markdown",
   "id": "2fef833c-89d7-453c-88c1-2f36d9fb78d0",
   "metadata": {},
   "source": [
    "Running a code cell invokes Python while running a Markdown cell **renders** your Markdown text. "
   ]
  },
  {
   "cell_type": "markdown",
   "id": "d9ac93a5-394f-4d93-9d8e-2fc6bfe2d650",
   "metadata": {},
   "source": [
    "## **A traditional start**"
   ]
  },
  {
   "cell_type": "markdown",
   "id": "7cfed9ee-9ef6-42ef-99e6-3c33530cb33a",
   "metadata": {},
   "source": [
    "Printing <span style='color:purple'>Hello World!</span>\n",
    "\n",
    "1. Select a cell and convert it into a code cell.\n",
    "   <br> All new cells are, by default, code cells.\n",
    "   <br>![](https://problemsolvingwithpython.com/02-Jupyter-Notebooks/images/code_cell.png)\n",
    "\n",
    "2. Type the following and run the command (this passes the instruction to Python) by pressing the run button or using the keyboard shortcut <span style='color:purple'> CTRL + ENTER</span>(or <span style='color:purple'>CMD + ENTER</span>). "
   ]
  },
  {
   "cell_type": "code",
   "execution_count": 2,
   "id": "a19e0afe-e92f-418b-94a4-995d709d6f4d",
   "metadata": {},
   "outputs": [
    {
     "name": "stdout",
     "output_type": "stream",
     "text": [
      "Hello World! :)\n"
     ]
    }
   ],
   "source": [
    "print('Hello World! :)')"
   ]
  },
  {
   "cell_type": "markdown",
   "id": "001e5a50-d53b-41df-a4c4-c1fa2e51785a",
   "metadata": {},
   "source": [
    "We should see the words <span style='color:purple'>Hello World! :)</span> as the output.\n",
    "The number before your code cell changes too, this is to keep track of the history of the commands we have issued. Helps keep track of which input corresponds to which output."
   ]
  },
  {
   "cell_type": "markdown",
   "id": "4ebb0c5a-7f9d-4e55-b3f1-0da1253a4205",
   "metadata": {},
   "source": [
    "# **All about Markdown**"
   ]
  },
  {
   "cell_type": "markdown",
   "id": "b598db7b-19b9-4876-8248-29fb19fd5f96",
   "metadata": {},
   "source": [
    "Markdown is a minimalist ‘language’ that helps you to format your writing. Despite being lightweight, it is very powerful and gives fantastic results. This helps us focus on the content."
   ]
  },
  {
   "cell_type": "markdown",
   "id": "371ca685-ec83-46fa-98e7-70a29a49e19b",
   "metadata": {},
   "source": [
    "## **Rendering Markdown cells**\n",
    "_____"
   ]
  },
  {
   "cell_type": "markdown",
   "id": "9babc7c7-e47b-4ed0-98e3-2226e42e3850",
   "metadata": {},
   "source": [
    "To render your text:\n",
    "\n",
    "1. Select a cell and convert it to a Markdown cell (If you like, you can use the keyboard shortcut ESC + M),\n",
    "2. Input your text and\n",
    "3. Run.\n",
    " \n",
    "<br>To start, copy and paste the following (from the Guide<sup>1</sup>) and run the cell.\n",
    "\n",
    "<span style='color:purple'>`The ships hung in the sky in much the same way that bricks don’t`</span>.\n",
    "\n",
    "We should see the text rendered.\n",
    "\n"
   ]
  },
  {
   "cell_type": "markdown",
   "id": "d5fca1d8-5a89-4c00-a2a1-468f8369b4fb",
   "metadata": {},
   "source": [
    "## **Some Basic Syntax**"
   ]
  },
  {
   "cell_type": "markdown",
   "id": "6a7a0040-18e3-4953-b636-60f67359dad8",
   "metadata": {},
   "source": [
    "Here is a table for some basic Markdown syntax to modify how some text is rendered\n",
    "\n",
    "|**Style**|**Syntax**|\n",
    "|:--------|:---------:|\n",
    "|Bold|`** **` or `__ __`|\n",
    "|Italic|`* *` or `_ _`|\n",
    "|All bold and italic|`*** ***`|\n",
    "|Subscript|`<sub> </sub>`|\n",
    "|Superscript|`<sup> </sup>`|"
   ]
  },
  {
   "cell_type": "markdown",
   "id": "dd1184ff-c424-4881-85dc-5a86a85251ac",
   "metadata": {},
   "source": [
    "Let’s use it to modify our previous text as follows. (By the way, no more copying and pasting!)\n",
    "\n",
    "`The ships *hung in the sky* in much the same way that **bricks don’t.**<sup>1</sup><sub>QUOTE</sub>`\n",
    "\n",
    "This will be rendered as:\n",
    "\n",
    "The ships *hung in the sky* in much the same way that **bricks don’t.**<sup>1</sup><sub>QUOTE</sub>"
   ]
  },
  {
   "cell_type": "markdown",
   "id": "728cb1bb-04f6-41f0-8893-bf9375bb5266",
   "metadata": {},
   "source": [
    "## **Headings**\n",
    "________"
   ]
  },
  {
   "cell_type": "markdown",
   "id": "84a930cd-81c9-45db-b1fe-9b6f39ee761f",
   "metadata": {},
   "source": [
    "Markdown uses `#` for headings as follows.\n",
    "\n",
    "<text># The largest heading</text>\n",
    "\n",
    "<text>## The second-largest heading</text>\n",
    "\n",
    "<text>### The third-largest heading</text>\n",
    "\n",
    "<text>#### The smallest heading </text>\n",
    "\n",
    "# The largest heading\n",
    "\n",
    "## The second-largest heading\n",
    "\n",
    "### The third-largest heading\n",
    "\n",
    "#### The smallest heading\n",
    "<br>"
   ]
  },
  {
   "cell_type": "markdown",
   "id": "bb9dd892-b58b-480d-842b-af1835dce17b",
   "metadata": {},
   "source": [
    "## **Displaying Code**\n",
    "________"
   ]
  },
  {
   "cell_type": "markdown",
   "id": "12554724-df8f-4f29-807e-5f3e8dbc1661",
   "metadata": {},
   "source": [
    "If we want to mention code inline, we can enclose it between two backticks ``(`)``, like ``print('Hello World')``. This will be rendered as ``print('Hello World!')``."
   ]
  },
  {
   "cell_type": "raw",
   "id": "03d59f4c-33c0-43d8-b3ba-16c31d6827c8",
   "metadata": {},
   "source": [
    "You can also have a block of code by using the following syntax.\n",
    "\n",
    "```python\n",
    "print('Hello World!')\n",
    "```"
   ]
  },
  {
   "cell_type": "markdown",
   "id": "cae607c1-de1a-4113-872a-d6c0ebc012c3",
   "metadata": {},
   "source": [
    "This will be rendered as:\n",
    "\n",
    "```python\n",
    "print('Hello World!')\n",
    "```"
   ]
  },
  {
   "cell_type": "markdown",
   "id": "44c49b51-a16a-487b-9cfd-d94f622ec843",
   "metadata": {},
   "source": [
    "## **Links**\n",
    "\n",
    "__________"
   ]
  },
  {
   "cell_type": "markdown",
   "id": "d51837a2-27ca-4cf0-b2e9-7af96297fb33",
   "metadata": {},
   "source": [
    "Creating links with Markdown is trivial. You just enclose the display text in [ ] followed by the link-address in ( ) like\n",
    "\n",
    "<text>[SP2273 Website](https://sps.nus.edu.sg/sp2273)</text>\n",
    "\n",
    "*Things won’t work if you don’t include the https:// part. So, be careful.*"
   ]
  },
  {
   "cell_type": "markdown",
   "id": "24da36fb-1f34-4d39-8129-113b852f4df6",
   "metadata": {},
   "source": [
    "## **Images**\n",
    "\n",
    "__________"
   ]
  },
  {
   "cell_type": "markdown",
   "id": "80cd9822-628c-42e4-b16b-023b3d9d69b8",
   "metadata": {},
   "source": [
    "Markdown also lets you easily include images from your computer or the web. \n",
    "\n",
    "We can get the link to any image by right-clicking and copying the image address).\n",
    "\n",
    "The syntax is:\n",
    "\n",
    "``![](hyperlink)``\n",
    "\n",
    "\n",
    "For example:\n",
    "\n",
    "`![](https://nus.edu.sg/images/default-source/base/logo.png)`\n",
    "\n",
    "This will give you:\n",
    "\n",
    "![](https://nus.edu.sg/images/default-source/base/logo.png)\n",
    "\n",
    "<span style='color:red'>We can also include images on your computer. Just put the filename instead of the address. We will need to give enough information (full or relative path, see chapter os) for Jupyter to be able to find the file.</span>"
   ]
  },
  {
   "cell_type": "markdown",
   "id": "0810bd63-01e1-4ae1-b440-7670923f1bed",
   "metadata": {},
   "source": [
    "## **Tables**\n",
    "__________"
   ]
  },
  {
   "cell_type": "raw",
   "id": "7e2108dd-61cc-4a94-a9e6-621bd41d840d",
   "metadata": {},
   "source": [
    "Markdown following syntax to create tables:\n",
    "\n",
    "| A    |  B   |    C |\n",
    "| :--- | :--: | ---: |\n",
    "| a1   |  b1  |   c1 |\n",
    "| a2   |  b2  |   c2 |\n",
    "| a3   |  b3  |   c3 |\n",
    "\n",
    "Which will be rendered as:"
   ]
  },
  {
   "cell_type": "markdown",
   "id": "3906c324-e96f-4b41-a6e0-9535502e74cd",
   "metadata": {},
   "source": [
    "\n",
    "| A    |  B   |    C |\n",
    "| :--- | :--: | ---: |\n",
    "| a1   |  b1  |   c1 |\n",
    "| a2   |  b2  |   c2 |\n",
    "| a3   |  b3  |   c3 |"
   ]
  },
  {
   "cell_type": "markdown",
   "id": "be68d01f-4f65-41a0-889c-b3c48d23c62c",
   "metadata": {},
   "source": [
    "## **Lists**\n",
    "\n",
    "__________"
   ]
  },
  {
   "cell_type": "markdown",
   "id": "0e56e518-9d6f-40df-83b1-aadec52ba016",
   "metadata": {},
   "source": [
    "We can have numbered or unnumbered lists in Markdown. Below are a few examples."
   ]
  },
  {
   "cell_type": "markdown",
   "id": "876c4f86-d1cb-4b52-b01e-12e290d80916",
   "metadata": {},
   "source": [
    "*Numbered*:\n",
    "<br>`1. Master Yoda`\n",
    "<br>`1. Luke Skywalker`\n",
    "<br>`1. Anakin Skywalker`\n",
    "\n",
    "1. Master Yoda\n",
    "1. Luke Skywalker\n",
    "1. Anakin Skywalker"
   ]
  },
  {
   "cell_type": "markdown",
   "id": "eb7f7704-6838-4b77-8ad8-ea7edd56cf67",
   "metadata": {},
   "source": [
    "*Unnumbered*:\n",
    "<br>`- Master Yoda`\n",
    "<br>`- Luke Skywalker`\n",
    "<br>`- Anakin Skywalker`\n",
    "\n",
    "- Master Yoda\n",
    "- Luke Skywalker\n",
    "- Anakin Skywalker"
   ]
  },
  {
   "cell_type": "raw",
   "id": "71418afb-e1dd-40a3-947f-d657df426474",
   "metadata": {},
   "source": [
    "Numbered-numbered:\n",
    "1. Master Yoda\n",
    "   1. Was a Jedi\n",
    "   1. Was a bit green\n",
    "1. Luke Skywalker\n",
    "   1. Was a Jedi\n",
    "   1. Is Anakin's son.\n",
    "1. Anakin Skywalker\n",
    "   1. Was a Jedi then became a baddie\n",
    "   1. Is famous for saying 'Luke, I am your father'"
   ]
  },
  {
   "cell_type": "markdown",
   "id": "7747e2bf-9c6b-42bc-8464-bd04a333ee76",
   "metadata": {},
   "source": [
    "1. Master Yoda\n",
    "   1. Was a Jedi\n",
    "   1. Was a bit green\n",
    "1. Luke Skywalker\n",
    "   1. Was a Jedi\n",
    "   1. Is Anakin's son.\n",
    "1. Anakin Skywalker\n",
    "   1. Was a Jedi then became a baddie\n",
    "   1. Is famous for saying 'Luke, I am your father'"
   ]
  },
  {
   "cell_type": "raw",
   "id": "0ae3766f-3929-4447-ad4f-0e515351bb62",
   "metadata": {},
   "source": [
    "1. Master Yoda\n",
    "   - Was a Jedi\n",
    "   - Was a bit green\n",
    "1. Luke Skywalker\n",
    "   - Was a Jedi\n",
    "   - Is Anakin's son.\n",
    "1. Anakin Skywalker\n",
    "   - Was a Jedi then, became a baddie\n",
    "   - Is famous for saying, _'Luke, I am your father'_."
   ]
  },
  {
   "cell_type": "markdown",
   "id": "a6eb107a-7441-43da-a50f-dc229dae61d8",
   "metadata": {},
   "source": [
    "1. Master Yoda\n",
    "   - Was a Jedi\n",
    "   - Was a bit green\n",
    "1. Luke Skywalker\n",
    "   - Was a Jedi\n",
    "   - Is Anakin's son.\n",
    "1. Anakin Skywalker\n",
    "   - Was a Jedi then, became a baddie\n",
    "   - Is famous for saying, _'Luke, I am your father'_."
   ]
  },
  {
   "cell_type": "markdown",
   "id": "bae5ca99-4203-465f-89b3-83ee824a8011",
   "metadata": {},
   "source": [
    "## **Equations**\n",
    "________"
   ]
  },
  {
   "cell_type": "markdown",
   "id": "467f90df-1bf4-4350-81e7-b524ae00a522",
   "metadata": {},
   "source": [
    "Markdown can produce phenomenal math equations4.\n",
    "\n",
    "If you want to have inline math use two `$` signs like `$\\sqrt{b^2-4ac}$`, which will be rendered as \n",
    "\n",
    "$\\sqrt{b^2-4ac}$\n",
    "\n",
    "If you want a math block, you can use the following:"
   ]
  },
  {
   "cell_type": "raw",
   "id": "bc6e5c26-ef58-4eb6-b183-e870f4e096ea",
   "metadata": {},
   "source": [
    "$$\n",
    "x = \\dfrac{-b \\pm \\sqrt{b^2-4ac}}{2a}\n",
    "$$"
   ]
  },
  {
   "cell_type": "markdown",
   "id": "0556ae31-bb88-4747-887e-261fd2e61387",
   "metadata": {},
   "source": [
    "$$\n",
    "x = \\dfrac{-b \\pm \\sqrt{b^2-4ac}}{2a}\n",
    "$$"
   ]
  },
  {
   "cell_type": "markdown",
   "id": "1e19218a-e249-4f92-b249-01181d5683b5",
   "metadata": {},
   "source": [
    "Some helpful math commands we can use: \n",
    "*For more information we can refer to the [<u>mathematical documentation at Overleaf](https://www.overleaf.com/learn/latex/Mathematical_expressions</u>)*"
   ]
  },
  {
   "cell_type": "markdown",
   "id": "d16f95bb-52da-4bb0-9fce-c1bef6388baa",
   "metadata": {},
   "source": [
    "| |Input|Rendered|\n",
    "|:--|:--:|:------:|\n",
    "Fraction|`$\\dfrac{y}{x}$`|$\\dfrac{y}{x}$|\n",
    "|Subscript|`$x_{a}$`|$x_{a}$|\n",
    "|Power|`$x^{(y+z)}$`|$x^{(y+z)}$|\n",
    "|Squareroot|`$\\sqrt{a+b+c}$`|$\\sqrt{a+b+c}$|\n",
    "|Sum|`$\\sum_{n=1}^{n=\\infty} x_n$`|$\\sum_{n=1}^{n=\\infty} x_n$|\n",
    "|Integral|`$\\int_{x=1}^{x=\\infty} f(x)dx$`|$\\int_{x=1}^{x=\\infty} f(x)dx$|\n",
    "|Not equal|`a \\ne b`|a \\ne b|\n",
    "|Less than|`$a \\lt b$`|$a \\lt b$|\n",
    "|Less than or equal to|`$a \\leq b$`|$a \\leq b$|\n",
    "|Greater than|`$a \\gt b$`|$a \\gt b$|\n",
    "|Greater than or equal to|`$a \\geq b$`|$a \\geq b$|\n",
    "|Greek letters|`$\\alpha, \\beta, \\gamma, \\pi, \\lambda$`|$\\alpha, \\beta, \\gamma, \\pi, \\lambda$|"
   ]
  }
 ],
 "metadata": {
  "kernelspec": {
   "display_name": "Python 3 (ipykernel)",
   "language": "python",
   "name": "python3"
  },
  "language_info": {
   "codemirror_mode": {
    "name": "ipython",
    "version": 3
   },
   "file_extension": ".py",
   "mimetype": "text/x-python",
   "name": "python",
   "nbconvert_exporter": "python",
   "pygments_lexer": "ipython3",
   "version": "3.11.5"
  }
 },
 "nbformat": 4,
 "nbformat_minor": 5
}
