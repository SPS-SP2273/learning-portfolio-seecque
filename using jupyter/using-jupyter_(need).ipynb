{
 "cells": [
  {
   "attachments": {},
   "cell_type": "markdown",
   "id": "a2c83ca3-4843-4e21-9ce6-5625b7e6edc2",
   "metadata": {},
   "source": [
    "# **Quadratic Equation**\n",
    "\n",
    "## **Introduction**\n",
    "\n",
    "![](https://upload.wikimedia.org/wikipedia/commons/thumb/f/f8/Polynomialdeg2.svg/600px-Polynomialdeg2.svg.png)\n",
    "\n",
    "(*Image from* [<u>*Wikipedia page on Quadratic Equation*</u>](https://en.wikipedia.org/wiki/Quadratic_equation))\n",
    "\n",
    "The general form of a quadratic equation is:\n",
    "\n",
    "$$\n",
    "ax^2+bx+c=0\n",
    "$$\n",
    "\n",
    "### **Solutions**\n",
    "\n",
    "Provided $a \\ne b$, we can use an elementary algebraic method called [<u>compeleting the square</u>](https://en.wikipedia.org/wiki/Completing_the_square) to show that a quadratic equation has the following solution:\n",
    "\n",
    "$$\n",
    "x = \\dfrac {-b \\pm \\sqrt{b^2-4ac}}{2a}\n",
    "$$\n",
    "\n",
    "### **Discriminant** \n",
    "\n",
    "The quantity $\\Delta = b^2-4ac$ is called the **discriminant** of the equation and decides on the nature of its solutions. The table below shows the various possibilities.\n",
    "\n",
    "|**Discriminant**|**Roots**|\n",
    "|:---------------:|--------:|\n",
    "|$\\Delta = b^2 -4ac =0$| A single solution of $-b$/$(2a)$|\n",
    "|$\\Delta = b^2 -4ac \\gt 0$| Two distinct solutions|\n",
    "|$\\Delta = b^2 -4ac \\lt 0$| No real solutions; both are complex|"
   ]
  },
  {
   "cell_type": "markdown",
   "id": "1b9db84b-8ed5-48fb-b52c-93526007efbc",
   "metadata": {},
   "source": [
    "**Use a Markdown cell to answer the following.** \n",
    "\n",
    "Qn: What is a Git repository?\n",
    "\n",
    "Ans:Git repository is a storage space where our project's files are stored. It allows us to keep track of all the changes made to these files over time. It's like Google Docs for our coding projects. \n",
    "\n",
    "Qn: Git keeps tracks of ____changes____ in the files in our repository.\n",
    "\n",
    "Qn: What is a commit?\n",
    "\n",
    "Ans: A commit is like a saved version of your project. When you make changes to your project files, a commit allows you to record those specific changes.\n",
    "\n",
    "Qn: What is a push?\n",
    "\n",
    "Ans: Push in GitHub is the process of uploading local repository changes to a remote repository. \n",
    "\n",
    "Qn: What is a pull?\n",
    "\n",
    "Ans: Pull in GitHub is the process of downloading changes from a remote repository to your local repository. \n",
    "\n",
    "Qn: What is the difference between GitHub and GitHub Desktop?\n",
    "\n",
    "Ans: GitHub is the web-based service and platform for hosting and collaborating on Git repositories, while GitHub Desktop is an application that helps us manage Git repositories on your local machine. "
   ]
  },
  {
   "cell_type": "code",
   "execution_count": null,
   "id": "5996bb34-dddb-427e-b71c-565c3eb09a24",
   "metadata": {},
   "outputs": [],
   "source": []
  }
 ],
 "metadata": {
  "kernelspec": {
   "display_name": "Python 3 (ipykernel)",
   "language": "python",
   "name": "python3"
  },
  "language_info": {
   "codemirror_mode": {
    "name": "ipython",
    "version": 3
   },
   "file_extension": ".py",
   "mimetype": "text/x-python",
   "name": "python",
   "nbconvert_exporter": "python",
   "pygments_lexer": "ipython3",
   "version": "3.11.5"
  }
 },
 "nbformat": 4,
 "nbformat_minor": 5
}
