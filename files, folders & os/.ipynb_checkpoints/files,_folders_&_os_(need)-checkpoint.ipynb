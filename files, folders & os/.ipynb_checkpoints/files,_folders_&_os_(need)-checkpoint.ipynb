{
 "cells": [
  {
   "attachments": {},
   "cell_type": "markdown",
   "id": "123456",
   "metadata": {},
   "source": [
    "<div style=\"text-align:left;font-size:2em\"><span style=\"font-weight:bolder;font-size:1.25em\">SP2273 | Learning Portfolio</span><br><br><span style=\"font-weight:bold;color:darkred\">Files, Folders & OS (Need)</span></div>"
   ]
  },
  {
   "attachments": {},
   "cell_type": "markdown",
   "id": "a3fb85b4",
   "metadata": {},
   "source": [
    "# What to expect in this chapter"
   ]
  },
  {
   "cell_type": "markdown",
   "id": "444b5ad8-a820-48fe-9bd1-3329b2ac8c06",
   "metadata": {},
   "source": [
    "We must always interact with our operating system (OS) to get anything done. We have to interact with our OS to create, modify, move, copy and delete files and directories (folders). <br>Here we learn how to execute these necessary actions ith some Python modules (e.g. `glob`, `shutil`). "
   ]
  },
  {
   "attachments": {},
   "cell_type": "markdown",
   "id": "882fc49b",
   "metadata": {},
   "source": [
    "# 1 Important concepts"
   ]
  },
  {
   "cell_type": "markdown",
   "id": "9ee1716e-506f-426f-b5af-87c5e3381719",
   "metadata": {},
   "source": [
    "- folders and directory refers to the same thing, they are used interchangeably in this section"
   ]
  },
  {
   "attachments": {},
   "cell_type": "markdown",
   "id": "12256396",
   "metadata": {},
   "source": [
    "## 1.1 Path"
   ]
  },
  {
   "cell_type": "markdown",
   "id": "ddf4b2b4-3dbf-40bf-a4c0-ca7973390c90",
   "metadata": {},
   "source": [
    "<span style='color:orange'>path</span>. The path is simply a way to specify a location on our computer, it is like an address. By following the path, it will take us to our folder. \n",
    "<br> For example, we can specify our path absolutely or relatively. Here is an absolute path on the `Desktop` for a MacOS machine."
   ]
  },
  {
   "cell_type": "code",
   "execution_count": 1,
   "id": "fcd23785-c153-4deb-8bb4-703e5866d91e",
   "metadata": {},
   "outputs": [
    {
     "ename": "NameError",
     "evalue": "name 'Users' is not defined",
     "output_type": "error",
     "traceback": [
      "\u001b[0;31m---------------------------------------------------------------------------\u001b[0m",
      "\u001b[0;31mNameError\u001b[0m                                 Traceback (most recent call last)",
      "Cell \u001b[0;32mIn[1], line 1\u001b[0m\n\u001b[0;32m----> 1\u001b[0m \u001b[43mUsers\u001b[49m\u001b[38;5;241m/\u001b[39mbradentan\u001b[38;5;241m/\u001b[39mDesktop()\n",
      "\u001b[0;31mNameError\u001b[0m: name 'Users' is not defined"
     ]
    }
   ],
   "source": [
    "/Users/bradentan/Desktop"
   ]
  },
  {
   "attachments": {},
   "cell_type": "markdown",
   "id": "ef8c9b40",
   "metadata": {},
   "source": [
    "## 1.2 More about relative paths"
   ]
  },
  {
   "cell_type": "markdown",
   "id": "ca7241f2-bcd6-4280-8dc0-20f76735d1e5",
   "metadata": {},
   "source": [
    "When dealing with relative paths, it will be helpful to know `.` and `..` notation. "
   ]
  },
  {
   "cell_type": "markdown",
   "id": "a2054970-fb5f-43aa-935e-c48b07a61b14",
   "metadata": {},
   "source": [
    "|Notation|Meaning|\n",
    "|:------:|:------|\n",
    "|`.`|'this folder'|\n",
    "|`..`|'one folder above'|"
   ]
  },
  {
   "cell_type": "markdown",
   "id": "7c45871c-1b38-4505-b6a2-a977a297a51d",
   "metadata": {},
   "source": [
    "Hence:\n",
    "- `.\\data-files\\data-01.txt` means the file `data-01.txt` in the folder `data-files` in the **current** folder <br>\n",
    "- `..\\data-files\\data-01.txt` means the file `data-01.txt` in the folder `data-files` located in the folder **above**"
   ]
  },
  {
   "attachments": {},
   "cell_type": "markdown",
   "id": "7d5ddc53",
   "metadata": {},
   "source": [
    "### macOS or Linux"
   ]
  },
  {
   "cell_type": "markdown",
   "id": "46abfbfe-8e1c-446d-8686-ec6719f8134d",
   "metadata": {},
   "source": [
    "MacOS and Linux allows us to use `~` to refer to our home directory. For example we can simple access our Desktop using the command: <br>\n",
    "`~\\Desktop\\data-01.txt`"
   ]
  },
  {
   "attachments": {},
   "cell_type": "markdown",
   "id": "6c6d7183",
   "metadata": {},
   "source": [
    "## 1.3 Path separator"
   ]
  },
  {
   "cell_type": "markdown",
   "id": "5dbb3e15-e884-49df-a3dd-03c8d24372b1",
   "metadata": {},
   "source": [
    "Today's major Oss (Windows, macOS, Linux) offer similar graphical environments. However one of the most striking differences between Windows and MacOS (or Linux) is the <span style='color:orange'>path separator</span>. "
   ]
  },
  {
   "cell_type": "markdown",
   "id": "40e87a18-defb-496f-89a8-5a40ac772272",
   "metadata": {},
   "source": [
    "Windows `\\` as thr path separator while macOS or (Linux) uses `/`. So, the absolute path to a file on the Desktop on each of the systems will look like this:\n",
    "\n",
    "|OS|Path|\n",
    "|:-|:---|\n",
    "|Windows|`C:\\\\Users\\bradentan\\Desktop\\data-01.txt`|\n",
    "|MacOS|`/Users/bradentan/Desktop/data-01.txt`|"
   ]
  },
  {
   "attachments": {},
   "cell_type": "markdown",
   "id": "9969be17",
   "metadata": {},
   "source": [
    "## 1.4 Text files vs. Binary files"
   ]
  },
  {
   "cell_type": "markdown",
   "id": "2889cce1-5b14-4f29-a648-6a7cdb915857",
   "metadata": {},
   "source": [
    "We can think of the files on our computer as either <span style='color:orange'>text files</span> or <span style='color: orange'>binary files</span>.<br>\n",
    "Text files are simple and can be opened, their contents examined by almost any software (e.g. Notepad, TextEdit, Jupiter) <br>Examples of text file formats are `.txt`, `.msd`, or `.csv`.\n",
    "___\n",
    "Binary files in contrast require some processing to make sense of what they contain. For example, if we look at the raw data in a `.png` file, you will see gibberish. Additionally, some binary files will only run on specific OSs. \n",
    "<br> For example, the `Excel.app` on a Mac will not run Windows, nor will the `Excel.exe` file run on macOS (or Linux). "
   ]
  },
  {
   "attachments": {},
   "cell_type": "markdown",
   "id": "06851c59",
   "metadata": {},
   "source": [
    "## 1.5 Extensions"
   ]
  },
  {
   "cell_type": "markdown",
   "id": "61a21698-59dd-4e71-aa12-dda1322d2399",
   "metadata": {},
   "source": [
    "Files are usually nameed to an end with an <span style='color:orange'>extension</span> separated from the name by a `.` like `name.extension`. <br> This `extension` lets the OS know what software or app to use to extract the details in a file. <br>\n",
    "For example, `.xlsx` means use Excel or `.pptx` means use PowerPoint. "
   ]
  },
  {
   "attachments": {},
   "cell_type": "markdown",
   "id": "1defa07a",
   "metadata": {},
   "source": [
    "# 2 Opening and closing files"
   ]
  },
  {
   "cell_type": "markdown",
   "id": "8c602905-88bc-44c4-9242-07eb4a080519",
   "metadata": {},
   "source": [
    "We can open a file for reading and writing with an advanced but better way by using the `with` statement (called a <span style='color:orange'>context manager</span>). "
   ]
  },
  {
   "attachments": {},
   "cell_type": "markdown",
   "id": "bb60a034",
   "metadata": {},
   "source": [
    "## 2.1 Reading data"
   ]
  },
  {
   "cell_type": "code",
   "execution_count": null,
   "id": "3e985303-629b-4717-9c56-65de860567cf",
   "metadata": {},
   "outputs": [],
   "source": [
    "#This is whaty we would typically do to read a text file:\n",
    "with open ('spectrum-01.txt', 'r') as file:\n",
    "    file_content=file.read()\n",
    "print(file_content)"
   ]
  },
  {
   "attachments": {},
   "cell_type": "markdown",
   "id": "a4a5d6cf",
   "metadata": {},
   "source": [
    "## 2.2 Writing data"
   ]
  },
  {
   "cell_type": "code",
   "execution_count": 6,
   "id": "51efa2e2-7304-4d05-ae9a-a21e690bbe10",
   "metadata": {},
   "outputs": [],
   "source": [
    "text = 'Far out in the uncharted backwaters of the unfashionable end of the western spiral arm of the Galaxy lies a small unregarded yellow sun.\\nOrbiting this at a distance of roughly ninety-two million miles is an utterly insignificant little blue green planet whose ape-descended life forms are so amazingly primitive that they still think digital watches are a pretty neat idea.'"
   ]
  },
  {
   "cell_type": "markdown",
   "id": "2960e302-37c6-4db8-bd6d-abf73441b7df",
   "metadata": {},
   "source": [
    "*Here we use 2 writing methods so that we know how it works "
   ]
  },
  {
   "attachments": {},
   "cell_type": "markdown",
   "id": "2ddc2ba6",
   "metadata": {},
   "source": [
    "### Writing to a file in one go"
   ]
  },
  {
   "cell_type": "code",
   "execution_count": 8,
   "id": "52849f67",
   "metadata": {},
   "outputs": [],
   "source": [
    "with open('my-text-once.txt', 'w') as file:\n",
    "    file.write(text)"
   ]
  },
  {
   "cell_type": "markdown",
   "id": "1a7e704d-3c74-4518-b6a9-d7b23b2f83ff",
   "metadata": {},
   "source": [
    "We now have a `my-text-once.txt` file in our directory. This is in the same folder that this notebook is in. `w` indicates that we have opened the file for writing. "
   ]
  },
  {
   "attachments": {},
   "cell_type": "markdown",
   "id": "5455ed15",
   "metadata": {},
   "source": [
    "### Writing to a file, line by line"
   ]
  },
  {
   "cell_type": "markdown",
   "id": "cfd003da-a34d-483e-a068-ca57a7518f2c",
   "metadata": {},
   "source": [
    "Writing a line at a time is useful when dealing with data generated on the fly. <br>\n",
    "Since we don't have the data now, we will split the lines of the previous text."
   ]
  },
  {
   "cell_type": "code",
   "execution_count": 9,
   "id": "7c39f53a-235e-4187-b04e-d1e0fe6565ac",
   "metadata": {},
   "outputs": [],
   "source": [
    "with open('my-text-lines.txt', 'w')as file:\n",
    "    for line in text.splitlines():\n",
    "        file.writelines(line)"
   ]
  },
  {
   "cell_type": "markdown",
   "id": "c2234c6d-69d6-4ac7-8173-198b932560d6",
   "metadata": {},
   "source": [
    "Writing a file is a very slow operation, so it will slow things down if we do it in a loop. "
   ]
  },
  {
   "attachments": {},
   "cell_type": "markdown",
   "id": "b37c8d86",
   "metadata": {},
   "source": [
    "# 3 Some useful packages"
   ]
  },
  {
   "cell_type": "markdown",
   "id": "7a6bc009-91fe-4d0b-8ca5-d12b616701f2",
   "metadata": {},
   "source": [
    "Here are some packages to programmatically create, copy and delete files and folders.\n",
    "|Package|Primarily used for|\n",
    "|:------|:-----------------|\n",
    "|`os`|To `talk` to the OS to create, modify, delete folders and write OS-agnostic code|\n",
    "|`glob`|To search for files|\n",
    "|`shutil`|To copy files|"
   ]
  },
  {
   "cell_type": "markdown",
   "id": "e29a61bc-4c35-4bca-b818-85fe983b67ba",
   "metadata": {},
   "source": [
    "`shutil` offers some functions that `os` does not. For example `shutil.copy()`. \n",
    "<br>These packages are already part of the standard Python library. So we do not have to install them. "
   ]
  },
  {
   "cell_type": "code",
   "execution_count": 10,
   "id": "04c5ddb0-6b6f-41ca-bf86-aea389524b6b",
   "metadata": {},
   "outputs": [],
   "source": [
    "#Let's import the packages first\n",
    "import os \n",
    "import glob \n",
    "import shutil"
   ]
  },
  {
   "attachments": {},
   "cell_type": "markdown",
   "id": "df310fed",
   "metadata": {},
   "source": [
    "# 4 OS safe paths"
   ]
  },
  {
   "cell_type": "markdown",
   "id": "0c61318f-dc63-41be-b806-65e1f6bd4d17",
   "metadata": {},
   "source": [
    "Consider a file `data-01.txt` in the sub-directory sg-data of the directory all-data. <br>\n",
    "`all-data`--> `sg-data` --> `data-01.txt` <br>\n",
    "If we want access to `data-01.txt` we have to:"
   ]
  },
  {
   "cell_type": "code",
   "execution_count": 11,
   "id": "c638b35d-a687-4b9d-bab5-8815d70ba505",
   "metadata": {},
   "outputs": [
    {
     "name": "stdout",
     "output_type": "stream",
     "text": [
      "./all-data/sg-data/data-01.txt\n"
     ]
    }
   ],
   "source": [
    "path=os.path.join('.', 'all-data', 'sg-data', 'data-01.txt')\n",
    "print(path)"
   ]
  },
  {
   "cell_type": "markdown",
   "id": "b0e97d06-48b7-4bc9-a554-1e4a6e84c225",
   "metadata": {},
   "source": [
    "So using `os.path.join()` will adjust our path, with either `/` or `\\` as necessary! "
   ]
  },
  {
   "attachments": {},
   "cell_type": "markdown",
   "id": "d99ca88e",
   "metadata": {},
   "source": [
    "# 5 Folders"
   ]
  },
  {
   "attachments": {},
   "cell_type": "markdown",
   "id": "2feb0ab2",
   "metadata": {},
   "source": [
    "## 5.1 Creating folders"
   ]
  },
  {
   "cell_type": "markdown",
   "id": "d89362e5-345b-4679-ad02-41fa207e772f",
   "metadata": {},
   "source": [
    "We can create a folder programatically using `os.mkdir()`. This is very useful because we can write a tiny bit of code to organise our data!"
   ]
  },
  {
   "cell_type": "code",
   "execution_count": 16,
   "id": "bfad2e12-0ce1-4f2e-80c4-8883a36fa510",
   "metadata": {},
   "outputs": [
    {
     "ename": "FileExistsError",
     "evalue": "[Errno 17] File exists: 'people'",
     "output_type": "error",
     "traceback": [
      "\u001b[0;31m---------------------------------------------------------------------------\u001b[0m",
      "\u001b[0;31mFileExistsError\u001b[0m                           Traceback (most recent call last)",
      "Cell \u001b[0;32mIn[16], line 2\u001b[0m\n\u001b[1;32m      1\u001b[0m \u001b[38;5;66;03m#Example: We can store information about people\u001b[39;00m\n\u001b[0;32m----> 2\u001b[0m \u001b[43mos\u001b[49m\u001b[38;5;241;43m.\u001b[39;49m\u001b[43mmkdir\u001b[49m\u001b[43m(\u001b[49m\u001b[38;5;124;43m'\u001b[39;49m\u001b[38;5;124;43mpeople\u001b[39;49m\u001b[38;5;124;43m'\u001b[39;49m\u001b[43m)\u001b[49m\n\u001b[1;32m      3\u001b[0m \u001b[38;5;28;01mfor\u001b[39;00m person \u001b[38;5;129;01min\u001b[39;00m [\u001b[38;5;124m'\u001b[39m\u001b[38;5;124mJohn\u001b[39m\u001b[38;5;124m'\u001b[39m, \u001b[38;5;124m'\u001b[39m\u001b[38;5;124mPaul\u001b[39m\u001b[38;5;124m'\u001b[39m, \u001b[38;5;124m'\u001b[39m\u001b[38;5;124mRingo\u001b[39m\u001b[38;5;124m'\u001b[39m]:\n\u001b[1;32m      4\u001b[0m     path\u001b[38;5;241m=\u001b[39mos\u001b[38;5;241m.\u001b[39mpath\u001b[38;5;241m.\u001b[39mjoin(\u001b[38;5;124m'\u001b[39m\u001b[38;5;124mpeople\u001b[39m\u001b[38;5;124m'\u001b[39m, person)\n",
      "\u001b[0;31mFileExistsError\u001b[0m: [Errno 17] File exists: 'people'"
     ]
    }
   ],
   "source": [
    "#Example: We can store information about people\n",
    "os.mkdir('people')\n",
    "for person in ['John', 'Paul', 'Ringo']:\n",
    "    path=os.path.join('people', person)\n",
    "    print(f'creating{path}')\n",
    "    os.mkdir(path)"
   ]
  },
  {
   "attachments": {},
   "cell_type": "markdown",
   "id": "d0720327",
   "metadata": {},
   "source": [
    "## 5.2 Checking for existence"
   ]
  },
  {
   "cell_type": "markdown",
   "id": "8e1dbc1c-c17b-4466-b63b-32b6cd9d1693",
   "metadata": {},
   "source": [
    "As seen above, python will complain if we try to run the code twice, saying that the file already exists. Hence when we create new resources, it is a good idea to check if they already exists! \n",
    "<br>\n",
    "There are 2 ways to do this, use: `try-except` with the `FileExistsError` or use `os.path.exists()`. "
   ]
  },
  {
   "attachments": {},
   "cell_type": "markdown",
   "id": "5e2edf78",
   "metadata": {},
   "source": [
    "### Using try-except"
   ]
  },
  {
   "cell_type": "code",
   "execution_count": 17,
   "id": "bb734ec4",
   "metadata": {},
   "outputs": [
    {
     "name": "stdout",
     "output_type": "stream",
     "text": [
      "people/John already exists; skipping creation.\n",
      "people/Paul already exists; skipping creation.\n",
      "people/Ringo already exists; skipping creation.\n"
     ]
    }
   ],
   "source": [
    "for person in ['John', 'Paul', 'Ringo']:\n",
    "    path=os.path.join('people', person)\n",
    "    try: \n",
    "        os.mkdir(path)\n",
    "        print(f'creating {path}')\n",
    "    except FileExistsError:\n",
    "        print(f'{path} already exists; skipping creation.')"
   ]
  },
  {
   "attachments": {},
   "cell_type": "markdown",
   "id": "ea62db41",
   "metadata": {},
   "source": [
    "### Using os.path.exists()"
   ]
  },
  {
   "cell_type": "code",
   "execution_count": 19,
   "id": "a9432f03",
   "metadata": {},
   "outputs": [
    {
     "name": "stdout",
     "output_type": "stream",
     "text": [
      "people/John already exists, skipping creation.\n",
      "people/Paul already exists, skipping creation.\n",
      "people/Ringo already exists, skipping creation.\n"
     ]
    }
   ],
   "source": [
    "for person in ['John', 'Paul', 'Ringo']:\n",
    "    path=os.path.join('people', person)\n",
    "    if os.path.exists(path):\n",
    "        print(f'{path} already exists, skipping creation.')\n",
    "    else:\n",
    "        os.mkdir(path)\n",
    "        print(f'creating {path}!')"
   ]
  },
  {
   "attachments": {},
   "cell_type": "markdown",
   "id": "3767d6f4",
   "metadata": {},
   "source": [
    "## 5.3 Copying files"
   ]
  },
  {
   "cell_type": "markdown",
   "id": "f64c5a68-2355-4e0e-a88c-124369af833f",
   "metadata": {},
   "source": [
    "Here is how to copy files programatically. \n",
    "1. There should be a copy of the 73 logo (`sp2273_logo.png`) in the current folder.\n",
    "2. We will then copy this into the folders created for 'John', 'Paul', and 'Ringo'."
   ]
  },
  {
   "cell_type": "code",
   "execution_count": 22,
   "id": "75e3f0da-dd95-421e-92ff-3e63944e9f2c",
   "metadata": {},
   "outputs": [
    {
     "name": "stdout",
     "output_type": "stream",
     "text": [
      "Copied file to people/John\n",
      "Copied file to people/Paul\n",
      "Copied file to people/Ringo\n"
     ]
    }
   ],
   "source": [
    "for person in ['John', 'Paul', 'Ringo']:\n",
    "    path_to_destination = os.path.join('people', person)\n",
    "    shutil.copy('sp2273_logo.png', path_to_destination)\n",
    "    print(f'Copied file to {path_to_destination}')"
   ]
  },
  {
   "cell_type": "markdown",
   "id": "36f71ea4-259f-4db9-aab1-9de36815615c",
   "metadata": {},
   "source": [
    "Let's say we want the images in a sub-folder called `imgs` in each person's directory. I can do this first by creating the folders `imgs` and then moving the logo file into that folder. "
   ]
  },
  {
   "cell_type": "code",
   "execution_count": 23,
   "id": "2a900e7b-2248-4613-aeb3-9106544c2d05",
   "metadata": {},
   "outputs": [
    {
     "name": "stdout",
     "output_type": "stream",
     "text": [
      "Moved logo to people/John/imgs/sp2273_logo.png\n",
      "Moved logo to people/Paul/imgs/sp2273_logo.png\n",
      "Moved logo to people/Ringo/imgs/sp2273_logo.png\n"
     ]
    }
   ],
   "source": [
    "for person in ['John', 'Paul', 'Ringo']:\n",
    "    # Create folder 'imgs'\n",
    "    path_to_imgs = os.path.join('people', person, 'imgs')\n",
    "    if not os.path.exists(path_to_imgs):\n",
    "        os.mkdir(path_to_imgs)\n",
    "\n",
    "    # Move logo file\n",
    "    current_path_of_logo = os.path.join('people', person, 'sp2273_logo.png')\n",
    "    new_path_of_logo = os.path.join('people', person, 'imgs', 'sp2273_logo.png')\n",
    "\n",
    "    shutil.move(current_path_of_logo, new_path_of_logo)\n",
    "    print(f'Moved logo to {new_path_of_logo}')"
   ]
  },
  {
   "cell_type": "markdown",
   "id": "23f46930-2495-4832-a1f8-e71bc241e40c",
   "metadata": {},
   "source": [
    "<span style='color:red'>**FYI**</span>: We can also do this really fast using the terminal and its loops strcture "
   ]
  },
  {
   "attachments": {},
   "cell_type": "markdown",
   "id": "dde5f000",
   "metadata": {},
   "source": [
    "# 6 Listing and looking for files"
   ]
  },
  {
   "cell_type": "markdown",
   "id": "88657d9a-629b-4f8d-8021-c771796d1dbe",
   "metadata": {},
   "source": [
    "If we want to know what files are in a folder, then `glob` is really useful for this."
   ]
  },
  {
   "cell_type": "code",
   "execution_count": 24,
   "id": "4111f7f6-bcb7-4243-a74c-c4c7bb86f0a2",
   "metadata": {},
   "outputs": [
    {
     "data": {
      "text/plain": [
       "['my-text-once.txt',\n",
       " 'files,_folders_&_os_(need).ipynb',\n",
       " 'sp2273_logo.png',\n",
       " 'people',\n",
       " 'my-text-lines.txt']"
      ]
     },
     "execution_count": 24,
     "metadata": {},
     "output_type": "execute_result"
    }
   ],
   "source": [
    "#Example 1: If we want all the files in the current directory \n",
    "\n",
    "glob.glob('*')"
   ]
  },
  {
   "cell_type": "markdown",
   "id": "a41b8bb2-1640-4ef0-89ef-ee2f39faca64",
   "metadata": {},
   "source": [
    "`*` is called a <span style='color:orange'>wildcard</span> and is read as 'anything'. So in this case, we are asking `glob` to give us anything in the folder."
   ]
  },
  {
   "cell_type": "code",
   "execution_count": 25,
   "id": "58d28892-91f2-445f-9424-4817bbb7caf6",
   "metadata": {},
   "outputs": [
    {
     "data": {
      "text/plain": [
       "['people']"
      ]
     },
     "execution_count": 25,
     "metadata": {},
     "output_type": "execute_result"
    }
   ],
   "source": [
    "#Example 2: Refining our search to ask glob to give us files that matches a pattern\n",
    "glob.glob('peo*')"
   ]
  },
  {
   "cell_type": "markdown",
   "id": "d4f7a07b-177f-4a58-a02c-0bdf76a1ff8e",
   "metadata": {},
   "source": [
    "In this case, we refined our search and ask `glob` to give only those files that matches the pattern `peo` and then followed by `*` so aynthing. "
   ]
  },
  {
   "cell_type": "code",
   "execution_count": 29,
   "id": "9572c3f1-154c-4754-bfb2-59d7dab522d2",
   "metadata": {},
   "outputs": [
    {
     "data": {
      "text/plain": [
       "['people/Paul', 'people/John', 'people/Ringo']"
      ]
     },
     "execution_count": 29,
     "metadata": {},
     "output_type": "execute_result"
    }
   ],
   "source": [
    "#Example 3: Using glob to get information of files in folder\n",
    "glob.glob('peo*/*')"
   ]
  },
  {
   "cell_type": "markdown",
   "id": "30540cdb-b4c9-47c8-bf49-e6634cc5af36",
   "metadata": {},
   "source": [
    "The pattern specifies /*, which means it looks for any files or directories inside those matching directories. It does not match files or directories in the root or starting path directly but only those within directories that start with \"peo\"."
   ]
  },
  {
   "cell_type": "code",
   "execution_count": 30,
   "id": "e52b0f78-6e43-4b64-94ce-ac0ed9b49b04",
   "metadata": {},
   "outputs": [
    {
     "data": {
      "text/plain": [
       "['people/',\n",
       " 'people/Paul',\n",
       " 'people/Paul/imgs',\n",
       " 'people/Paul/imgs/sp2273_logo.png',\n",
       " 'people/John',\n",
       " 'people/John/imgs',\n",
       " 'people/John/imgs/sp2273_logo.png',\n",
       " 'people/Ringo',\n",
       " 'people/Ringo/imgs',\n",
       " 'people/Ringo/imgs/sp2273_logo.png']"
      ]
     },
     "execution_count": 30,
     "metadata": {},
     "output_type": "execute_result"
    }
   ],
   "source": [
    "#Example 4: Using glob to see the detailed structure\n",
    "glob.glob('people/**', recursive=True)"
   ]
  },
  {
   "cell_type": "markdown",
   "id": "eb7f0709-e0c9-42ab-88c1-51b13992b07c",
   "metadata": {},
   "source": [
    "In this case, we need to tell `glob` to search recursively (dig through all sub-file directories) by putting `recursive=True`. \n",
    "<br>\n",
    "Two wildcards `**` to say all sub-directories`. "
   ]
  },
  {
   "cell_type": "code",
   "execution_count": 31,
   "id": "2ba863e4-49fd-405f-bdd5-5aa701949832",
   "metadata": {},
   "outputs": [
    {
     "data": {
      "text/plain": [
       "['people/Paul/imgs/sp2273_logo.png',\n",
       " 'people/John/imgs/sp2273_logo.png',\n",
       " 'people/Ringo/imgs/sp2273_logo.png']"
      ]
     },
     "execution_count": 31,
     "metadata": {},
     "output_type": "execute_result"
    }
   ],
   "source": [
    "#Example 5: Choosing file formats\n",
    "glob.glob('people/**/*.png', recursive=True)"
   ]
  },
  {
   "cell_type": "markdown",
   "id": "a5e78aaf-c8b0-4905-bb1b-09825ff4d57c",
   "metadata": {},
   "source": [
    "In this case, we're asking `glob` to filture through the whole structure of `people` and show me those files with the pattern `anything.png`."
   ]
  },
  {
   "attachments": {},
   "cell_type": "markdown",
   "id": "47929f38",
   "metadata": {},
   "source": [
    "# 7 Extracting file info"
   ]
  },
  {
   "cell_type": "markdown",
   "id": "0b75b177-dcb0-44e8-915c-ef554991f2db",
   "metadata": {},
   "source": [
    "When dealing with files and folders, we might need to extract the file name, folder or extension. We can do this with simple string manipulation."
   ]
  },
  {
   "cell_type": "code",
   "execution_count": 32,
   "id": "a288baa4-70f6-4e60-ad7e-49fcce3db106",
   "metadata": {},
   "outputs": [
    {
     "name": "stdout",
     "output_type": "stream",
     "text": [
      "sp2273_logo.png png\n"
     ]
    }
   ],
   "source": [
    "path = 'people/Ringo/imgs/sp2273_logo.png'\n",
    "filename = path.split(os.path.sep)[-1]\n",
    "extension = filename.split('.')[-1]\n",
    "print(filename, extension)"
   ]
  },
  {
   "cell_type": "markdown",
   "id": "ea23061b-471e-4d5d-900c-7a20bc82d275",
   "metadata": {},
   "source": [
    "`os.path.sep` is the path separator (`/` or `\\`)."
   ]
  },
  {
   "cell_type": "markdown",
   "id": "3ff89d23-2cbf-4c29-9e7a-f52639876990",
   "metadata": {},
   "source": [
    "However, `os` provides simple functions for these tasks."
   ]
  },
  {
   "cell_type": "code",
   "execution_count": 33,
   "id": "c835ccde-7ff8-4a14-afb8-9345f89bfe60",
   "metadata": {},
   "outputs": [],
   "source": [
    "path = 'people/Ringo/imgs/sp2273_logo.png'"
   ]
  },
  {
   "cell_type": "code",
   "execution_count": 34,
   "id": "2da4e89b-e36f-4005-b236-8c9004af1c2c",
   "metadata": {},
   "outputs": [
    {
     "data": {
      "text/plain": [
       "('people/Ringo/imgs', 'sp2273_logo.png')"
      ]
     },
     "execution_count": 34,
     "metadata": {},
     "output_type": "execute_result"
    }
   ],
   "source": [
    "os.path.split(path)      # Split filename from the rest"
   ]
  },
  {
   "cell_type": "code",
   "execution_count": 35,
   "id": "e16a90f8-eff4-4e28-a6b3-c38247671927",
   "metadata": {},
   "outputs": [
    {
     "data": {
      "text/plain": [
       "('people/Ringo/imgs/sp2273_logo', '.png')"
      ]
     },
     "execution_count": 35,
     "metadata": {},
     "output_type": "execute_result"
    }
   ],
   "source": [
    "os.path.splitext(path)   # Split extension"
   ]
  },
  {
   "cell_type": "code",
   "execution_count": 36,
   "id": "9a69e018-dd26-492a-8edc-5f1b5e5a1f1c",
   "metadata": {},
   "outputs": [
    {
     "data": {
      "text/plain": [
       "'people/Ringo/imgs'"
      ]
     },
     "execution_count": 36,
     "metadata": {},
     "output_type": "execute_result"
    }
   ],
   "source": [
    "os.path.dirname(path)    # Show the directory"
   ]
  },
  {
   "attachments": {},
   "cell_type": "markdown",
   "id": "d038f24c",
   "metadata": {},
   "source": [
    "# 8 Deleting stuff"
   ]
  },
  {
   "cell_type": "markdown",
   "id": "935faa59-3c57-40d0-bbee-8c83a31f4c26",
   "metadata": {},
   "source": [
    "Lastly, we learn how to **delete** stuff. "
   ]
  },
  {
   "cell_type": "code",
   "execution_count": 37,
   "id": "8eed98da-7764-4dc3-a932-eb89293bec11",
   "metadata": {},
   "outputs": [],
   "source": [
    "os.remove('people/Ringo/imgs/sp2273_logo.png')"
   ]
  },
  {
   "cell_type": "code",
   "execution_count": 38,
   "id": "acaac73d-0c80-466b-8386-591deb994187",
   "metadata": {},
   "outputs": [
    {
     "ename": "OSError",
     "evalue": "[Errno 66] Directory not empty: 'people/Ringo'",
     "output_type": "error",
     "traceback": [
      "\u001b[0;31m---------------------------------------------------------------------------\u001b[0m",
      "\u001b[0;31mOSError\u001b[0m                                   Traceback (most recent call last)",
      "Cell \u001b[0;32mIn[38], line 2\u001b[0m\n\u001b[1;32m      1\u001b[0m \u001b[38;5;66;03m#The above code does not work with directories, for an empty directory use:\u001b[39;00m\n\u001b[0;32m----> 2\u001b[0m \u001b[43mos\u001b[49m\u001b[38;5;241;43m.\u001b[39;49m\u001b[43mrmdir\u001b[49m\u001b[43m(\u001b[49m\u001b[38;5;124;43m'\u001b[39;49m\u001b[38;5;124;43mpeople/Ringo\u001b[39;49m\u001b[38;5;124;43m'\u001b[39;49m\u001b[43m)\u001b[49m\n",
      "\u001b[0;31mOSError\u001b[0m: [Errno 66] Directory not empty: 'people/Ringo'"
     ]
    }
   ],
   "source": [
    "#The above code does not work with directories, for an empty directory use:\n",
    "os.rmdir('people/Ringo')"
   ]
  },
  {
   "cell_type": "code",
   "execution_count": 40,
   "id": "47d0baec-0a61-4fb1-8b6b-59f5fcc94a86",
   "metadata": {},
   "outputs": [],
   "source": [
    "#For directories with files:\n",
    "shutil.rmtree('people/Ringo')"
   ]
  },
  {
   "cell_type": "markdown",
   "id": "3156f91f-b163-4e3e-8ccb-a88adacd0f48",
   "metadata": {},
   "source": [
    "<span style='color:red'> **BE CAREFUL WHEN USING THESE FUNCTIONS!!!** </span>"
   ]
  },
  {
   "cell_type": "code",
   "execution_count": null,
   "id": "d587b2d4-f35c-47d7-a0f0-dfdf4c7d013e",
   "metadata": {},
   "outputs": [],
   "source": []
  }
 ],
 "metadata": {
  "kernelspec": {
   "display_name": "Python 3 (ipykernel)",
   "language": "python",
   "name": "python3"
  },
  "language_info": {
   "codemirror_mode": {
    "name": "ipython",
    "version": 3
   },
   "file_extension": ".py",
   "mimetype": "text/x-python",
   "name": "python",
   "nbconvert_exporter": "python",
   "pygments_lexer": "ipython3",
   "version": "3.11.5"
  },
  "toc": {
   "base_numbering": 1,
   "nav_menu": {},
   "number_sections": true,
   "sideBar": true,
   "skip_h1_title": false,
   "title_cell": "Table of Contents",
   "title_sidebar": "Contents",
   "toc_cell": false,
   "toc_position": {},
   "toc_section_display": true,
   "toc_window_display": false
  },
  "vscode": {
   "interpreter": {
    "hash": "31f2aee4e71d21fbe5cf8b01ff0e069b9275f58929596ceb00d14d90e3e16cd6"
   }
  }
 },
 "nbformat": 4,
 "nbformat_minor": 5
}
