{
 "cells": [
  {
   "attachments": {},
   "cell_type": "markdown",
   "id": "123456",
   "metadata": {},
   "source": [
    "<div style=\"text-align:left;font-size:2em\"><span style=\"font-weight:bolder;font-size:1.25em\">SP2273 | Learning Portfolio</span><br><br><span style=\"font-weight:bold;color:darkred\">Loops (Good)</span></div>"
   ]
  },
  {
   "attachments": {},
   "cell_type": "markdown",
   "id": "6505005e",
   "metadata": {},
   "source": [
    "# What to expect in this chapter"
   ]
  },
  {
   "cell_type": "markdown",
   "id": "6b536ebc-d02e-4890-b68c-e1855e0b4445",
   "metadata": {},
   "source": [
    "We will learn how to control what happens in loops by using `continue` and `break` statements. \n",
    "We are also introduced to `list comprehension` a super-optimised variant of the `for` loop. We can use this to create list from other list. "
   ]
  },
  {
   "attachments": {},
   "cell_type": "markdown",
   "id": "a5ba2cfe",
   "metadata": {},
   "source": [
    "# 1 Interrupting the flow\n",
    "____"
   ]
  },
  {
   "cell_type": "markdown",
   "id": "0226a6a6-8cdc-4c74-8458-4b3a6cb9664f",
   "metadata": {},
   "source": [
    "There are instances where we would want to change the flow of a loop from within. The 2 commands `break` and `continue` allows us to do just that. Here is an example:"
   ]
  },
  {
   "cell_type": "code",
   "execution_count": 3,
   "id": "2e880834-d91d-410a-bedd-6ce50811cde6",
   "metadata": {},
   "outputs": [
    {
     "name": "stdout",
     "output_type": "stream",
     "text": [
      "0 1\n",
      "1 10\n",
      "2 100\n",
      "3 1000\n"
     ]
    }
   ],
   "source": [
    "# Example 1\n",
    "for power in range(5):\n",
    "    number=10**power\n",
    "    if number>5000:\n",
    "        break\n",
    "    print(power, number)"
   ]
  },
  {
   "cell_type": "markdown",
   "id": "a8a52cf8-a2c4-42a8-a331-482be065b38e",
   "metadata": {},
   "source": [
    "In this case, we used `break` to break out of the loop and terminate it. \n",
    "We typically use `if` so that we break out if a certain condition is met. This also works with a `while` loop. "
   ]
  },
  {
   "cell_type": "code",
   "execution_count": 22,
   "id": "7d2d1f2e-1435-43c6-8180-fa994d9f7d6c",
   "metadata": {},
   "outputs": [
    {
     "name": "stdout",
     "output_type": "stream",
     "text": [
      "0 1\n",
      "1 10\n",
      "2 100\n",
      "4 10000\n"
     ]
    }
   ],
   "source": [
    "#Example 2\n",
    "for power in range(5):\n",
    "    if power == 3:\n",
    "        continue\n",
    "    number = 10**power\n",
    "    print(power, number)"
   ]
  },
  {
   "cell_type": "markdown",
   "id": "0bbdf51e-3b78-445f-ae42-aa87bd0e76e9",
   "metadata": {},
   "source": [
    "In this case, we want to skip the iteration for power 3, `continue` allows us to do this by skipping everything after it. Notice how there is no print out for `power=3`\n",
    "<br> Continue is typically used with `if` and works with `while` loops too."
   ]
  },
  {
   "cell_type": "code",
   "execution_count": 5,
   "id": "956a4389-9629-4283-a8cf-aee1e3941009",
   "metadata": {},
   "outputs": [
    {
     "name": "stdout",
     "output_type": "stream",
     "text": [
      "0\n",
      "1\n",
      "2\n",
      "3\n",
      "4\n"
     ]
    }
   ],
   "source": [
    "# Example 4: Using break to stop a while loop\n",
    "number = 0 \n",
    "while True:\n",
    "    print(number)\n",
    "    number += 1\n",
    "    if number>4: break"
   ]
  },
  {
   "attachments": {},
   "cell_type": "markdown",
   "id": "af2459f7",
   "metadata": {},
   "source": [
    "# 2 List comprehension!"
   ]
  },
  {
   "cell_type": "markdown",
   "id": "a1f3bf4b-71f7-451d-a7ce-71e59fb1bc4a",
   "metadata": {},
   "source": [
    "The exercises of the previous chapter had us using loops to create lists. Since creating new lists from other lists is so common. Python has an optimised Syntax called <span style='color:orange'>list comprehension</span> to just do that. \n",
    "<br>Here is how it works! "
   ]
  },
  {
   "attachments": {},
   "cell_type": "markdown",
   "id": "d7b8e425",
   "metadata": {},
   "source": [
    "## Basic syntax\n",
    "____"
   ]
  },
  {
   "cell_type": "code",
   "execution_count": 7,
   "id": "51f4dbb1-9e3c-4a05-b32a-5ae61a2e898e",
   "metadata": {},
   "outputs": [
    {
     "data": {
      "text/plain": [
       "[0, 1, 2, 3, 4]"
      ]
     },
     "execution_count": 7,
     "metadata": {},
     "output_type": "execute_result"
    }
   ],
   "source": [
    "[number for number in range(5)]\n",
    "#This create a simple list from 0-4. The syntax is similar to a for loop."
   ]
  },
  {
   "cell_type": "code",
   "execution_count": 9,
   "id": "c965f4c5-3fc6-4d72-b9c9-f09fa46a21b8",
   "metadata": {},
   "outputs": [
    {
     "data": {
      "text/plain": [
       "[0, 1, 4, 9, 16]"
      ]
     },
     "execution_count": 9,
     "metadata": {},
     "output_type": "execute_result"
    }
   ],
   "source": [
    "[number**2 for number in range(5)]\n",
    "#This creates a list of squared number"
   ]
  },
  {
   "attachments": {},
   "cell_type": "markdown",
   "id": "2527e5ec",
   "metadata": {},
   "source": [
    "## List comprehension with conditions"
   ]
  },
  {
   "cell_type": "code",
   "execution_count": 15,
   "id": "ebe0c0f8-afe6-4f48-91f3-b71b76721f15",
   "metadata": {},
   "outputs": [
    {
     "data": {
      "text/plain": [
       "[0, 2, 4, 6, 8]"
      ]
     },
     "execution_count": 15,
     "metadata": {},
     "output_type": "execute_result"
    }
   ],
   "source": [
    "#List comprehension allows ys to specify conditions.\n",
    "[number for number in range(10) if number %2== 0]\n",
    "#This creates a list with even number between 0-9"
   ]
  },
  {
   "attachments": {},
   "cell_type": "markdown",
   "id": "0db8d9ac",
   "metadata": {},
   "source": [
    "# Other useful stuff"
   ]
  },
  {
   "attachments": {},
   "cell_type": "markdown",
   "id": "bd81aa8a",
   "metadata": {},
   "source": [
    "## for with unpacking"
   ]
  },
  {
   "cell_type": "markdown",
   "id": "5d1eb1d4-b1a6-479b-8ab3-7a3ca1e511da",
   "metadata": {},
   "source": [
    "Python allows a neat trick called <span style='color:orange'>unpacking</span>, which works like this:"
   ]
  },
  {
   "cell_type": "code",
   "execution_count": 16,
   "id": "e7554134-f9ea-4f00-9aed-e1761feae84b",
   "metadata": {},
   "outputs": [
    {
     "name": "stdout",
     "output_type": "stream",
     "text": [
      "x=1,y=2,z=3\n"
     ]
    }
   ],
   "source": [
    "x,y,z=[1,2,3]\n",
    "print(f'x={x},y={y},z={z}')"
   ]
  },
  {
   "cell_type": "markdown",
   "id": "0d574d88-27d6-4aba-9c39-731c551bb84d",
   "metadata": {},
   "source": [
    "Unpacking is particularly useful when dealing with 2D lists. We can combine unpacking with a `for` loop to extract elements as follows:"
   ]
  },
  {
   "cell_type": "code",
   "execution_count": 18,
   "id": "7cc04867-ce12-49f2-b3b0-32eaf7f29af4",
   "metadata": {},
   "outputs": [
    {
     "name": "stdout",
     "output_type": "stream",
     "text": [
      "Natasha Romanoff is Marvel's Black Widow!\n",
      "Tony Stark is Marvel's Iron Man!\n",
      "Stephen Strange is Marvel's Doctor Strange!\n"
     ]
    }
   ],
   "source": [
    "py_superhero_info = [['Natasha Romanoff', 'Black Widow'],\n",
    "                     ['Tony Stark', 'Iron Man'],\n",
    "                     ['Stephen Strange', 'Doctor Strange']]\n",
    "\n",
    "for real_name, super_name in py_superhero_info:\n",
    "    print(f\"{real_name} is Marvel's {super_name}!\")"
   ]
  },
  {
   "attachments": {},
   "cell_type": "markdown",
   "id": "b4266377",
   "metadata": {},
   "source": [
    "## `for` with `zip()`\n",
    "___"
   ]
  },
  {
   "cell_type": "code",
   "execution_count": 19,
   "id": "6e2fb7ba-e380-4d93-b8c0-f267a966b8b9",
   "metadata": {},
   "outputs": [
    {
     "name": "stdout",
     "output_type": "stream",
     "text": [
      "Natasha Romanoff is Marvel's Black Widow!\n",
      "Tony Stark is Marvel's Iron Man!\n",
      "Stephen Strange is Marvel's Doctor Strange!\n"
     ]
    }
   ],
   "source": [
    "#Example 1: How zip() can combine two lists\n",
    "super_names = [\"Black Widow\", \"Iron Man\", \"Doctor Strange\"]\n",
    "real_names = [\"Natasha Romanoff\", \"Tony Stark\", \"Stephen Strange\"]\n",
    "\n",
    "for real_name, super_name in zip(real_names,super_names):\n",
    "    print(f\"{real_name} is Marvel's {super_name}!\")"
   ]
  },
  {
   "attachments": {},
   "cell_type": "markdown",
   "id": "26c8572d",
   "metadata": {},
   "source": [
    "## `for` with dictionaries"
   ]
  },
  {
   "cell_type": "markdown",
   "id": "17df51e5-3443-49ce-b206-3fb6322184a1",
   "metadata": {},
   "source": [
    "We will need to loop through dictionaries in our programming career (or maybe other careers).\n",
    "<br>This is how we can do it with a `for` loop."
   ]
  },
  {
   "cell_type": "code",
   "execution_count": 20,
   "id": "9a1a226b-9098-4aee-ab2b-34f25d403448",
   "metadata": {},
   "outputs": [
    {
     "name": "stdout",
     "output_type": "stream",
     "text": [
      "Natasha Romanoff is Marvel's Black Widow!\n",
      "Tony Stark is Marvel's Iron Man!\n",
      "Stephen Strange is Marvel's Doctor Strange!\n"
     ]
    }
   ],
   "source": [
    "superhero_info={\"Natasha Romanoff\": \"Black Widow\",\n",
    "                \"Tony Stark\": \"Iron Man\",\n",
    "                \"Stephen Strange\": \"Doctor Strange\"}\n",
    "\n",
    "for key, value in superhero_info.items():\n",
    "    print(f\"{key} is Marvel's {value}!\")"
   ]
  },
  {
   "cell_type": "markdown",
   "id": "989b0e32-eb1b-419d-a419-7c8ec3ec4375",
   "metadata": {},
   "source": [
    "The hidden function `items()` spits both the key and the corresponding value out.\n",
    "<br> We can also directly assess the keys as follows:"
   ]
  },
  {
   "cell_type": "code",
   "execution_count": 21,
   "id": "fc76e7b6-a7c1-48b1-b23f-f9edd31b79f0",
   "metadata": {},
   "outputs": [
    {
     "name": "stdout",
     "output_type": "stream",
     "text": [
      "Natasha Romanoff is Marvel's Black Widow!\n",
      "Tony Stark is Marvel's Iron Man!\n",
      "Stephen Strange is Marvel's Doctor Strange!\n"
     ]
    }
   ],
   "source": [
    "for key in superhero_info.keys():\n",
    "    value=superhero_info[key]\n",
    "    print(f\"{key} is Marvel's {value}!\")"
   ]
  },
  {
   "cell_type": "markdown",
   "id": "9d0505d1-c882-46b0-9574-984d8d31bd4f",
   "metadata": {},
   "source": [
    "## Additional Coding"
   ]
  },
  {
   "cell_type": "code",
   "execution_count": 2,
   "id": "a72c7d11-7885-420d-b098-8514310f8b90",
   "metadata": {},
   "outputs": [
    {
     "name": "stdout",
     "output_type": "stream",
     "text": [
      "The molar mass of C6H12O6 is: 180.156 g/mol\n"
     ]
    }
   ],
   "source": [
    "#Calculating Molar Mass:\n",
    "\n",
    "def calculate_molar_mass(formula):\n",
    "    atomic_masses = {\n",
    "        'H': 1.008, 'C': 12.011, 'O': 15.999, 'N': 14.007,\n",
    "        'S': 32.06, 'Cl': 35.453\n",
    "    }\n",
    "    \n",
    "    import re\n",
    "    element_pattern = re.compile(r'([A-Z][a-z]*)(\\d*)')\n",
    "    \n",
    "    molar_mass = 0\n",
    "    for element, count in element_pattern.findall(formula):\n",
    "        if count == '':\n",
    "            count = 1\n",
    "        else:\n",
    "            count = int(count)\n",
    "        molar_mass += atomic_masses[element] * count\n",
    "    \n",
    "    return round(molar_mass, 3)\n",
    "\n",
    "compound = 'C6H12O6'  # Glucose\n",
    "print(f\"The molar mass of {compound} is: {calculate_molar_mass(compound)} g/mol\")\n"
   ]
  },
  {
   "cell_type": "code",
   "execution_count": null,
   "id": "cb014051-5102-4cf1-a6f8-2d9ad239b42e",
   "metadata": {},
   "outputs": [],
   "source": []
  }
 ],
 "metadata": {
  "kernelspec": {
   "display_name": "Python 3 (ipykernel)",
   "language": "python",
   "name": "python3"
  },
  "language_info": {
   "codemirror_mode": {
    "name": "ipython",
    "version": 3
   },
   "file_extension": ".py",
   "mimetype": "text/x-python",
   "name": "python",
   "nbconvert_exporter": "python",
   "pygments_lexer": "ipython3",
   "version": "3.11.5"
  },
  "toc": {
   "base_numbering": 1,
   "nav_menu": {},
   "number_sections": true,
   "sideBar": true,
   "skip_h1_title": false,
   "title_cell": "Table of Contents",
   "title_sidebar": "Contents",
   "toc_cell": false,
   "toc_position": {},
   "toc_section_display": true,
   "toc_window_display": false
  },
  "vscode": {
   "interpreter": {
    "hash": "31f2aee4e71d21fbe5cf8b01ff0e069b9275f58929596ceb00d14d90e3e16cd6"
   }
  }
 },
 "nbformat": 4,
 "nbformat_minor": 5
}
