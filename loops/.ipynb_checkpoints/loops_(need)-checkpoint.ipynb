{
 "cells": [
  {
   "attachments": {},
   "cell_type": "markdown",
   "id": "123456",
   "metadata": {},
   "source": [
    "<div style=\"text-align:left;font-size:2em\"><span style=\"font-weight:bolder;font-size:1.25em\">SP2273 | Learning Portfolio</span><br><br><span style=\"font-weight:bold;color:darkred\">Loops (Need)</span></div>"
   ]
  },
  {
   "attachments": {},
   "cell_type": "markdown",
   "id": "82cc8658",
   "metadata": {},
   "source": [
    "# What to expect in this chapter"
   ]
  },
  {
   "cell_type": "markdown",
   "id": "34759908-1e8a-40d2-85db-116d4f18de29",
   "metadata": {},
   "source": [
    "An important feature of programming is the ability to repeat a task over and over again. This section, we will learn how to repeat things in Python. This is called <span style='color:orange'> loops</span> or <span style='color:orange'>iterations</span>!\n",
    "<br>Python offers 2 mechanisms for looping, one is the `for` statement and the other is the `while` statement. The `for` statement is more used out of the 2. "
   ]
  },
  {
   "attachments": {},
   "cell_type": "markdown",
   "id": "947ca51c",
   "metadata": {},
   "source": [
    "## 1 The `for` iterator\n",
    "___"
   ]
  },
  {
   "cell_type": "markdown",
   "id": "66b49839-8549-4551-b46e-2ded02bf9c66",
   "metadata": {},
   "source": [
    "Here is an example on how to use the `for` loop. "
   ]
  },
  {
   "cell_type": "code",
   "execution_count": 7,
   "id": "c9c901e6-ba16-4d18-9313-e4939c6e8ce3",
   "metadata": {},
   "outputs": [
    {
     "name": "stdout",
     "output_type": "stream",
     "text": [
      "Natasha Romanoff is a Marvel Superhero\n",
      "Tony Stark is a Marvel Superhero\n",
      "Stephen Strange is a Marvel Superhero\n"
     ]
    }
   ],
   "source": [
    "#Example 1: Let's say we want to print a message corresponding to every superhero in the following list.\n",
    "real_names = [\"Natasha Romanoff\", \"Tony Stark\", \"Stephen Strange\"]\n",
    "\n",
    "#This is a poor way od doing it:\n",
    "name=real_names[0]\n",
    "print(f\"{name} is a Marvel Superhero\")\n",
    "\n",
    "name=real_names[1]\n",
    "print(f\"{name} is a Marvel Superhero\")\n",
    "\n",
    "name=real_names[2]\n",
    "print(f\"{name} is a Marvel Superhero\")"
   ]
  },
  {
   "cell_type": "markdown",
   "id": "96371f87-643d-4895-a3c6-f5e4a1315fa1",
   "metadata": {},
   "source": [
    "This is a **bad** way to programme because it:\n",
    "1. Does not scale well \n",
    "2. Cumbersome to make changes\n",
    "3. Highly error prone"
   ]
  },
  {
   "attachments": {},
   "cell_type": "markdown",
   "id": "3139902e",
   "metadata": {},
   "source": [
    "## `for` with a list\n",
    "____"
   ]
  },
  {
   "cell_type": "markdown",
   "id": "cd2f8d43-2599-46c9-bd7a-b3e059453788",
   "metadata": {},
   "source": [
    "We can achieve the same result (as above) using a `for` loop. "
   ]
  },
  {
   "cell_type": "code",
   "execution_count": 9,
   "id": "f2c77af1-3bb8-45dc-8c49-7ec108476fa8",
   "metadata": {},
   "outputs": [
    {
     "name": "stdout",
     "output_type": "stream",
     "text": [
      "Natasha Romanoff is a Marvel Superhero!\n",
      "Tony Stark is a Marvel Superhero!\n",
      "Stephen Strange is a Marvel Superhero!\n"
     ]
    }
   ],
   "source": [
    "for name in real_names:\n",
    "    print(f\"{name} is a Marvel Superhero!\")"
   ]
  },
  {
   "cell_type": "markdown",
   "id": "2b88c854-87ce-472b-b4f3-e704634a67a0",
   "metadata": {},
   "source": [
    "In the `for` loop structure: \n",
    "1. It foes through the list an assigns `name` the value of each element of the list.\n",
    "2. It then runs the code-block using this value of `name`\n",
    "3. The code block is deginted by using `:` ad tabs like with `if`."
   ]
  },
  {
   "cell_type": "markdown",
   "id": "43949936-dcde-4374-836d-753eda8bca72",
   "metadata": {},
   "source": [
    "We can also use x or another name for the variable: "
   ]
  },
  {
   "cell_type": "code",
   "execution_count": 11,
   "id": "a09313cc-bec3-4ae1-810c-7dcec5c3ca6e",
   "metadata": {},
   "outputs": [
    {
     "name": "stdout",
     "output_type": "stream",
     "text": [
      "Natasha Romanoff is a Marvel Superhero!\n",
      "Tony Stark is a Marvel Superhero!\n",
      "Stephen Strange is a Marvel Superhero!\n"
     ]
    }
   ],
   "source": [
    "for x in real_names:\n",
    "    print(f'{x} is a Marvel Superhero!')"
   ]
  },
  {
   "attachments": {},
   "cell_type": "markdown",
   "id": "4c3963a8",
   "metadata": {},
   "source": [
    "## `for` with `enumerate`"
   ]
  },
  {
   "cell_type": "code",
   "execution_count": 12,
   "id": "15460c6c-9984-4cc5-8d16-2c9a0cbcbb69",
   "metadata": {},
   "outputs": [],
   "source": [
    "#Assuming we want to do abit more like use information in both of the following lists:\n",
    "super_names = [\"Black Widow\", \"Iron Man\", \"Doctor Strange\"]\n",
    "real_names = [\"Natasha Romanoff\", \"Tony Stark\", \"Stephen Strange\"]"
   ]
  },
  {
   "cell_type": "markdown",
   "id": "3a18f69b-4ef6-4ad9-888e-f26d2ea42629",
   "metadata": {},
   "source": [
    "Since the `for` loop only accepts one list, we need to do something else to access the data in both lists. One option is to use `enumerate()`. \n",
    "<br> Here is how to use `enumerate()`."
   ]
  },
  {
   "cell_type": "code",
   "execution_count": 14,
   "id": "5527103b-61fc-48b1-be20-9aded3a52fa4",
   "metadata": {},
   "outputs": [
    {
     "name": "stdout",
     "output_type": "stream",
     "text": [
      "0:Natasha Romanoff is a Marvel superhero!\n",
      "1:Tony Stark is a Marvel superhero!\n",
      "2:Stephen Strange is a Marvel superhero!\n"
     ]
    }
   ],
   "source": [
    "for count, name in enumerate(real_names):\n",
    "    print(f'{count}:{name} is a Marvel superhero!')"
   ]
  },
  {
   "cell_type": "markdown",
   "id": "50e510c2-2487-4df5-b9b6-4ec273e7b4ab",
   "metadata": {},
   "source": [
    "We can think of `enumerate()` as something that keeps count. In the above sample, enumnerate() not only gives the elements of the list, it also gives us a number (that is stored in `count`). "
   ]
  },
  {
   "cell_type": "markdown",
   "id": "ab48b3e1-268c-4856-80e5-c5395a1d86ba",
   "metadata": {},
   "source": [
    "Other than counting, `enumerate()` count canbe used to index other lists. "
   ]
  },
  {
   "cell_type": "code",
   "execution_count": 16,
   "id": "9133f46c-9f87-41f2-86fd-eb9071ff8b1a",
   "metadata": {},
   "outputs": [
    {
     "name": "stdout",
     "output_type": "stream",
     "text": [
      "Natasha Romanoff is Black Widow!\n",
      "Tony Stark is Iron Man!\n",
      "Stephen Strange is Doctor Strange!\n"
     ]
    }
   ],
   "source": [
    "for index, name in enumerate(real_names):\n",
    "    superhero_name=super_names[index]\n",
    "    print(f'{name} is {superhero_name}!')"
   ]
  },
  {
   "cell_type": "markdown",
   "id": "1c0f3b3b-895a-4563-a97e-1e5dfba6b59f",
   "metadata": {},
   "source": [
    "Important: \n",
    "1. Changing the name *count* to *index* matches their logical use. Although python doesn't care about, it's good to be clear!\n",
    "2. By default `enumerate()` starts counting from 0, we can easily change it to start at another value!"
   ]
  },
  {
   "cell_type": "code",
   "execution_count": 17,
   "id": "7077cea6-9996-4dcb-937d-17385b008216",
   "metadata": {},
   "outputs": [
    {
     "name": "stdout",
     "output_type": "stream",
     "text": [
      "100:Natasha Romanoff is a Marvel superhero!\n",
      "101:Tony Stark is a Marvel superhero!\n",
      "102:Stephen Strange is a Marvel superhero!\n"
     ]
    }
   ],
   "source": [
    "#Make enumerate() start from 100:\n",
    "for count, name in enumerate(real_names,100):\n",
    "    print(f'{count}:{name} is a Marvel superhero!')"
   ]
  },
  {
   "cell_type": "markdown",
   "id": "e80b60b4-cc19-463c-91ac-2203bc973c46",
   "metadata": {},
   "source": [
    "<span style='color:red'>Remeber that `for` can be combined with `enumerate()` to count while looping through a list </span>"
   ]
  },
  {
   "attachments": {},
   "cell_type": "markdown",
   "id": "d0d6072a",
   "metadata": {},
   "source": [
    "## `for` with range"
   ]
  },
  {
   "cell_type": "markdown",
   "id": "15a83a0e-b6f7-48f5-b8f4-4d404244c173",
   "metadata": {},
   "source": [
    "Another way to achieve the aboce results is by using the function `range()`. But first lets see what `range()` can do."
   ]
  },
  {
   "cell_type": "code",
   "execution_count": 19,
   "id": "3c1badcb-7b33-412b-90a8-f3f76c2a321d",
   "metadata": {},
   "outputs": [
    {
     "name": "stdout",
     "output_type": "stream",
     "text": [
      "0\n",
      "1\n",
      "2\n",
      "3\n",
      "4\n"
     ]
    }
   ],
   "source": [
    "#Example 1:\n",
    "for i in range(5):\n",
    "    print(i)\n",
    "\n",
    "#Here we used range() to get the for loop to rin a given number of loops (5 in this example)"
   ]
  },
  {
   "cell_type": "code",
   "execution_count": 20,
   "id": "16e497a4-c4ba-4990-a715-54e12d89f99b",
   "metadata": {},
   "outputs": [
    {
     "name": "stdout",
     "output_type": "stream",
     "text": [
      "5\n",
      "6\n",
      "7\n",
      "8\n",
      "9\n"
     ]
    }
   ],
   "source": [
    "#Example 2: \n",
    "for i in range(5,10):\n",
    "    print(i)"
   ]
  },
  {
   "cell_type": "markdown",
   "id": "09d7eb20-b61d-4f64-951b-982d47f23d8f",
   "metadata": {},
   "source": [
    "<span style='color:red'>Note:</span>\n",
    "<br>\n",
    "- Functions like `range()` and `enumerate()` only work with looping structures\n",
    "- `range()` always ends one short of the ending number (i.e. n-1)"
   ]
  },
  {
   "cell_type": "code",
   "execution_count": 22,
   "id": "8a921044-0fe0-48c3-a651-4e7866d0c1ea",
   "metadata": {},
   "outputs": [
    {
     "name": "stdout",
     "output_type": "stream",
     "text": [
      "Natasha Romanoff is Marvel's Black Widow!\n",
      "Tony Stark is Marvel's Iron Man!\n",
      "Stephen Strange is Marvel's Doctor Strange!\n"
     ]
    }
   ],
   "source": [
    "for i in range(len(real_names)):\n",
    "    real_name=real_names[i]\n",
    "    super_name=super_names[i]\n",
    "    print(f'{real_name} is Marvel\\'s {super_name}!')"
   ]
  },
  {
   "attachments": {},
   "cell_type": "markdown",
   "id": "d91cbad0",
   "metadata": {},
   "source": [
    "# 2 while"
   ]
  },
  {
   "cell_type": "code",
   "execution_count": 23,
   "id": "89490315-5410-42ed-8c7e-ea8c293f1b4c",
   "metadata": {},
   "outputs": [
    {
     "name": "stdout",
     "output_type": "stream",
     "text": [
      "0\n",
      "1\n",
      "2\n",
      "3\n",
      "4\n"
     ]
    }
   ],
   "source": [
    "number=0\n",
    "while number<5:\n",
    "    print(number)\n",
    "    number+=1"
   ]
  },
  {
   "cell_type": "markdown",
   "id": "114ff58f-f266-4e0a-9308-af483c8b5b8f",
   "metadata": {},
   "source": [
    "A `while` loop is set up so that it keeps on running **while** a conditon is `true`. So the `while` loop checks the condition at the start and begins another loop if its `true`.\n",
    "<br> A good feature of `while` is that you do not need to know beforehand how many iterations are needed. "
   ]
  },
  {
   "cell_type": "code",
   "execution_count": null,
   "id": "8c884df0-2242-44a4-a95c-5186a23035b2",
   "metadata": {},
   "outputs": [],
   "source": []
  }
 ],
 "metadata": {
  "kernelspec": {
   "display_name": "Python 3 (ipykernel)",
   "language": "python",
   "name": "python3"
  },
  "language_info": {
   "codemirror_mode": {
    "name": "ipython",
    "version": 3
   },
   "file_extension": ".py",
   "mimetype": "text/x-python",
   "name": "python",
   "nbconvert_exporter": "python",
   "pygments_lexer": "ipython3",
   "version": "3.11.5"
  },
  "toc": {
   "base_numbering": 1,
   "nav_menu": {},
   "number_sections": true,
   "sideBar": true,
   "skip_h1_title": false,
   "title_cell": "Table of Contents",
   "title_sidebar": "Contents",
   "toc_cell": false,
   "toc_position": {},
   "toc_section_display": true,
   "toc_window_display": false
  },
  "vscode": {
   "interpreter": {
    "hash": "31f2aee4e71d21fbe5cf8b01ff0e069b9275f58929596ceb00d14d90e3e16cd6"
   }
  }
 },
 "nbformat": 4,
 "nbformat_minor": 5
}
