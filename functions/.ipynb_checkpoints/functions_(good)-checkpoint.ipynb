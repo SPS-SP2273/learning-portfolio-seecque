{
 "cells": [
  {
   "attachments": {},
   "cell_type": "markdown",
   "id": "123456",
   "metadata": {},
   "source": [
    "<div style=\"text-align:left;font-size:2em\"><span style=\"font-weight:bolder;font-size:1.25em\">SP2273 | Learning Portfolio</span><br><br><span style=\"font-weight:bold;color:darkred\">Functions (Good)</span></div>"
   ]
  },
  {
   "attachments": {},
   "cell_type": "markdown",
   "id": "07b3e6bb",
   "metadata": {},
   "source": [
    "# What to expect in this chapter"
   ]
  },
  {
   "cell_type": "markdown",
   "id": "cf24d0d2-cc03-4ab6-b48b-20d9dea6cb67",
   "metadata": {},
   "source": [
    "In this chapter, we will learn more about functions. Like arguments and docstrings. I will also discuss exception handling so that we can better understand how to deal with errors. \n",
    "<br>We will learn the difference between positional, keyword and default arguments of functions. We can also write codes that checks and handle potential problems. "
   ]
  },
  {
   "attachments": {},
   "cell_type": "markdown",
   "id": "9243c189",
   "metadata": {},
   "source": [
    "# 1 Checks, balances, and contingencies"
   ]
  },
  {
   "cell_type": "markdown",
   "id": "db83d52a-4c71-40d1-8d8f-8ffbe023e64f",
   "metadata": {},
   "source": [
    "Having checks, balances and contingenics in our code is a good idea. Here we talk about pre-empting problems. This topic applies to more than just functions. \n",
    "<br>There are 2 standard ways that Python allows us to incorporate checks :`assert` and `try-except`."
   ]
  },
  {
   "attachments": {},
   "cell_type": "markdown",
   "id": "b9d44daa",
   "metadata": {},
   "source": [
    "## assert\n",
    "______"
   ]
  },
  {
   "cell_type": "markdown",
   "id": "a7623d41-d073-4cca-a0dc-615c19ae7806",
   "metadata": {},
   "source": [
    "`assert` is a command that can check a condition and halt executon of necessary. It also gives an option of printing a message."
   ]
  },
  {
   "cell_type": "code",
   "execution_count": 1,
   "id": "6d12fd33-658d-4fe5-a788-cd87d312b73a",
   "metadata": {},
   "outputs": [
    {
     "ename": "NameError",
     "evalue": "name 'condition' is not defined",
     "output_type": "error",
     "traceback": [
      "\u001b[0;31m---------------------------------------------------------------------------\u001b[0m",
      "\u001b[0;31mNameError\u001b[0m                                 Traceback (most recent call last)",
      "Cell \u001b[0;32mIn[1], line 2\u001b[0m\n\u001b[1;32m      1\u001b[0m \u001b[38;5;66;03m#Assert basic syntax:\u001b[39;00m\n\u001b[0;32m----> 2\u001b[0m \u001b[38;5;28;01massert\u001b[39;00m \u001b[43mcondition\u001b[49m\u001b[38;5;241m-\u001b[39mto\u001b[38;5;241m-\u001b[39mcheck, message\n",
      "\u001b[0;31mNameError\u001b[0m: name 'condition' is not defined"
     ]
    }
   ],
   "source": [
    "#Assert basic syntax:\n",
    "assert condition-to-check, message"
   ]
  },
  {
   "cell_type": "code",
   "execution_count": 2,
   "id": "78520887-d60c-472e-911c-e24d4e352fb8",
   "metadata": {},
   "outputs": [
    {
     "ename": "NameError",
     "evalue": "name 'x' is not defined",
     "output_type": "error",
     "traceback": [
      "\u001b[0;31m---------------------------------------------------------------------------\u001b[0m",
      "\u001b[0;31mNameError\u001b[0m                                 Traceback (most recent call last)",
      "Cell \u001b[0;32mIn[2], line 2\u001b[0m\n\u001b[1;32m      1\u001b[0m \u001b[38;5;66;03m#assert stops the flow if the condition fails. Here is an example:\u001b[39;00m\n\u001b[0;32m----> 2\u001b[0m \u001b[38;5;28;01massert\u001b[39;00m \u001b[43mx\u001b[49m \u001b[38;5;241m>\u001b[39m\u001b[38;5;241m=\u001b[39m\u001b[38;5;241m0\u001b[39m, \u001b[38;5;124m'\u001b[39m\u001b[38;5;124mx is becoming negative!\u001b[39m\u001b[38;5;124m'\u001b[39m\n",
      "\u001b[0;31mNameError\u001b[0m: name 'x' is not defined"
     ]
    }
   ],
   "source": [
    "#assert stops the flow if the condition fails. Here is an example:\n",
    "assert x >=0, 'x is becoming negative!'"
   ]
  },
  {
   "cell_type": "markdown",
   "id": "516a9ac9-5306-4d96-b856-9aa4827a0448",
   "metadata": {},
   "source": [
    "The program will run for as long as the condition is `True`. If it fails, then an `AssertationError` is raised, and the program stops running!"
   ]
  },
  {
   "cell_type": "code",
   "execution_count": 3,
   "id": "99154187-e353-46ca-8507-8d91cdc6f89b",
   "metadata": {},
   "outputs": [],
   "source": [
    "#Example: Will run without a problem\n",
    "x=10\n",
    "assert x>=0, 'x is becoming negative!'"
   ]
  },
  {
   "cell_type": "code",
   "execution_count": 5,
   "id": "754bcc19-0c15-4143-8a99-5f49cf89b575",
   "metadata": {},
   "outputs": [
    {
     "ename": "AssertionError",
     "evalue": "x is becoming negative!",
     "output_type": "error",
     "traceback": [
      "\u001b[0;31m---------------------------------------------------------------------------\u001b[0m",
      "\u001b[0;31mAssertionError\u001b[0m                            Traceback (most recent call last)",
      "Cell \u001b[0;32mIn[5], line 3\u001b[0m\n\u001b[1;32m      1\u001b[0m \u001b[38;5;66;03m#Example: Will encounter and error and stop\u001b[39;00m\n\u001b[1;32m      2\u001b[0m x\u001b[38;5;241m=\u001b[39m\u001b[38;5;241m-\u001b[39m\u001b[38;5;241m1\u001b[39m\n\u001b[0;32m----> 3\u001b[0m \u001b[38;5;28;01massert\u001b[39;00m x\u001b[38;5;241m>\u001b[39m\u001b[38;5;241m=\u001b[39m\u001b[38;5;241m0\u001b[39m, \u001b[38;5;124m'\u001b[39m\u001b[38;5;124mx is becoming negative!\u001b[39m\u001b[38;5;124m'\u001b[39m\n",
      "\u001b[0;31mAssertionError\u001b[0m: x is becoming negative!"
     ]
    }
   ],
   "source": [
    "#Example: Will encounter and error and stop\n",
    "x=-1\n",
    "assert x>=0, 'x is becoming negative!'"
   ]
  },
  {
   "attachments": {},
   "cell_type": "markdown",
   "id": "774c0024",
   "metadata": {},
   "source": [
    "## try-except\n",
    "_____"
   ]
  },
  {
   "cell_type": "markdown",
   "id": "92d06d30-6617-4f53-b008-1db4ab988977",
   "metadata": {},
   "source": [
    "<span style='color:orange'>Exceptions</span>: A technical name for things going wrong.\n",
    "<br> For example, division by zero will raise a `ZeroDivisionError`. \n",
    "<br> The `try-except` syntax can also ensure that your programme can handle some situations beyond our control. \n",
    "<br> Here is an example of using `try-except` in a flow statement. "
   ]
  },
  {
   "cell_type": "code",
   "execution_count": 8,
   "id": "d2fe83ed-7caa-44cc-9a12-a7193d085a45",
   "metadata": {},
   "outputs": [
    {
     "name": "stdin",
     "output_type": "stream",
     "text": [
      "Give me a number and I will calculate its square 40\n"
     ]
    },
    {
     "name": "stdout",
     "output_type": "stream",
     "text": [
      "The square of 40 is 1600!\n"
     ]
    }
   ],
   "source": [
    "#Example:\n",
    "number=input(\"Give me a number and I will calculate its square\")\n",
    "square=int(number)**2\n",
    "print(f'The square of {number} is {square}!')\n",
    "#This will work fine if the input is an integer, what if the input is not a number but something else? "
   ]
  },
  {
   "cell_type": "code",
   "execution_count": 7,
   "id": "71e388d6-4cb3-4d67-9e8b-160fa6cb949a",
   "metadata": {},
   "outputs": [
    {
     "name": "stdin",
     "output_type": "stream",
     "text": [
      "Give me a number and I will calculate its square heheh\n"
     ]
    },
    {
     "name": "stdout",
     "output_type": "stream",
     "text": [
      "Oh oh! I cannot square heheh!\n"
     ]
    }
   ],
   "source": [
    "#Example: \n",
    "try:\n",
    "    number=input(\"Give me a number and I will calculate its square\")\n",
    "    square=int(number)**2\n",
    "    print(f'The square of {number} is {square}!')\n",
    "except:\n",
    "    print(f'Oh oh! I cannot square {number}!')"
   ]
  },
  {
   "cell_type": "markdown",
   "id": "fd1cd913-0880-4659-b014-3fd784751c08",
   "metadata": {},
   "source": [
    "If anything goes wrong, Python will ignore the error and run the code in the `except` block\n",
    "<br> We can now have more control over how the exceptions are handl with a `try-except` block."
   ]
  },
  {
   "attachments": {},
   "cell_type": "markdown",
   "id": "2e17cb1b",
   "metadata": {},
   "source": [
    "## A simple suggestion\n",
    "____"
   ]
  },
  {
   "attachments": {},
   "cell_type": "markdown",
   "id": "30a01d39",
   "metadata": {},
   "source": [
    "# 2 Some loose ends"
   ]
  },
  {
   "attachments": {},
   "cell_type": "markdown",
   "id": "7b086424",
   "metadata": {},
   "source": [
    "## Positional, keyword and default arguments"
   ]
  },
  {
   "cell_type": "markdown",
   "id": "6365391c-780d-4c3a-a744-66b5d6b9591f",
   "metadata": {},
   "source": [
    "There are three 'ways' to pass a value into an argument. They are:\n",
    "1. Positional\n",
    "2. Keyword\n",
    "3. Default"
   ]
  },
  {
   "cell_type": "code",
   "execution_count": 12,
   "id": "5ce58598-e995-498f-a955-fad6fa5eea5f",
   "metadata": {},
   "outputs": [],
   "source": [
    "def side_by_side(a,b,c=42):\n",
    "    return f'{a:2d}|{b: 2d}|{c: 2d}'\n"
   ]
  },
  {
   "cell_type": "code",
   "execution_count": 13,
   "id": "eba14623-720e-4126-982a-7a8002ecff12",
   "metadata": {},
   "outputs": [
    {
     "data": {
      "text/plain": [
       "' 1| 2| 3'"
      ]
     },
     "execution_count": 13,
     "metadata": {},
     "output_type": "execute_result"
    }
   ],
   "source": [
    "#Example: Positional\n",
    "side_by_side(1,2,3)"
   ]
  },
  {
   "cell_type": "code",
   "execution_count": 15,
   "id": "047e1a77-2371-44ef-9025-abc65ff8e83f",
   "metadata": {},
   "outputs": [
    {
     "data": {
      "text/plain": [
       "' 2| 1| 3'"
      ]
     },
     "execution_count": 15,
     "metadata": {},
     "output_type": "execute_result"
    }
   ],
   "source": [
    "#Example: Keywords\n",
    "side_by_side(c=3, b=1, a=2)\n",
    "#The order does not matter"
   ]
  },
  {
   "cell_type": "code",
   "execution_count": 17,
   "id": "eeadb0ea-5cce-4229-aa95-3230061dddec",
   "metadata": {},
   "outputs": [
    {
     "data": {
      "text/plain": [
       "' 1| 2| 42'"
      ]
     },
     "execution_count": 17,
     "metadata": {},
     "output_type": "execute_result"
    }
   ],
   "source": [
    "#Example: Default\n",
    "side_by_side(1, b=2)\n",
    "#because c is optional, we can choose to not specify it. "
   ]
  },
  {
   "cell_type": "code",
   "execution_count": 18,
   "id": "de9fabe5-60d3-4993-b472-b8d3761dc6bd",
   "metadata": {},
   "outputs": [
    {
     "data": {
      "text/plain": [
       "' 1| 2| 42'"
      ]
     },
     "execution_count": 18,
     "metadata": {},
     "output_type": "execute_result"
    }
   ],
   "source": [
    "side_by_side(1, 2)           # Two positional, 1 default\n",
    "## ' 1| 2| 42'\n",
    "side_by_side(1, 2, 3)        # Three positional\n",
    "## ' 1| 2| 3'\n",
    "side_by_side(a=1, b=2)       # Two keyword, 1 default\n",
    "## ' 1| 2| 42'\n",
    "side_by_side(c=3, b=1, a=2)  # Three keyword\n",
    "## ' 2| 1| 3'\n",
    "side_by_side(1, c=3, b=2)    # One positional, 2 keyword\n",
    "## ' 1| 2| 3'\n",
    "side_by_side(1, b=2)         # One positional, 1 keyword, 1 default\n",
    "## ' 1| 2| 42'"
   ]
  },
  {
   "cell_type": "code",
   "execution_count": 19,
   "id": "9d62d7ca-3319-4211-8fc6-576c390c5b14",
   "metadata": {},
   "outputs": [
    {
     "ename": "SyntaxError",
     "evalue": "positional argument follows keyword argument (430746627.py, line 2)",
     "output_type": "error",
     "traceback": [
      "\u001b[0;36m  Cell \u001b[0;32mIn[19], line 2\u001b[0;36m\u001b[0m\n\u001b[0;31m    side_by_side(a=2,1)\u001b[0m\n\u001b[0m                      ^\u001b[0m\n\u001b[0;31mSyntaxError\u001b[0m\u001b[0;31m:\u001b[0m positional argument follows keyword argument\n"
     ]
    }
   ],
   "source": [
    "#Need to determine the position of these values, hence the following would not work\n",
    "side_by_side(a=2,1)"
   ]
  },
  {
   "attachments": {},
   "cell_type": "markdown",
   "id": "0f95d66a",
   "metadata": {},
   "source": [
    "## 2.2 Docstrings"
   ]
  },
  {
   "cell_type": "markdown",
   "id": "b462f9e3-918a-41ff-80b5-24d4128d8847",
   "metadata": {},
   "source": [
    "Python has a <span style='color:orange'>docstring</span> feature that allows us to dociment what a function does inside the function. \n",
    "This documentation is displayed wnen we ask Python to show us the help info using `help()`"
   ]
  },
  {
   "cell_type": "code",
   "execution_count": 22,
   "id": "cd02edcb-cd47-4f2c-b68b-ec5d36cbb3c2",
   "metadata": {},
   "outputs": [],
   "source": [
    "#Example:\n",
    "def side_by_side(a,b,c=42):\n",
    "    '''\n",
    "    A test function to demonstrate how positional, keyword and default arguments work.\n",
    "    '''\n",
    "    return f'{a:2d}|{b: 2d}|{c: 2d}'"
   ]
  },
  {
   "cell_type": "markdown",
   "id": "4e20af9f-c21d-496c-8afb-fb3f93898ba7",
   "metadata": {},
   "source": [
    "A docstring needs to be between a pair of ''' or \"\"\" and can span mulitple lines. "
   ]
  },
  {
   "cell_type": "code",
   "execution_count": 23,
   "id": "253c315e-9302-4f31-af75-407074195b7e",
   "metadata": {},
   "outputs": [
    {
     "name": "stdout",
     "output_type": "stream",
     "text": [
      "Help on function side_by_side in module __main__:\n",
      "\n",
      "side_by_side(a, b, c=42)\n",
      "    A test function to demonstrate how positional, keyword and default arguments work.\n",
      "\n"
     ]
    }
   ],
   "source": [
    "help(side_by_side)"
   ]
  },
  {
   "attachments": {},
   "cell_type": "markdown",
   "id": "3c79e460",
   "metadata": {},
   "source": [
    "## Function are first-class citizens"
   ]
  },
  {
   "cell_type": "markdown",
   "id": "4d118a94-7ae5-4b2f-b751-26f8c2d8cfb0",
   "metadata": {},
   "source": [
    "They're called *first-class citizens* because they have same privileges as variables. We can then pass a function as an argument to another function!"
   ]
  },
  {
   "cell_type": "code",
   "execution_count": 25,
   "id": "2608df50-8ff4-4d48-8c2d-4127c2231175",
   "metadata": {},
   "outputs": [
    {
     "data": {
      "text/plain": [
       "-1.0"
      ]
     },
     "execution_count": 25,
     "metadata": {},
     "output_type": "execute_result"
    }
   ],
   "source": [
    "#Example:\n",
    "import numpy as np\n",
    "def my_function(angle, trig_function):\n",
    "        return trig_function(angle)\n",
    "\n",
    "# Let's use the function\n",
    "my_function(np.pi/2, np.sin)        \n",
    "## 1.0\n",
    "my_function(np.pi/2, np.cos)        \n",
    "## 6.123233995736766e-17\n",
    "my_function(np.pi/2, lambda x: np.cos(2*x))  \n",
    "## -1.0"
   ]
  },
  {
   "attachments": {},
   "cell_type": "markdown",
   "id": "a5d4bdff",
   "metadata": {},
   "source": [
    "## More about unpacking"
   ]
  },
  {
   "cell_type": "markdown",
   "id": "cbd8e690-37dd-43e6-9725-a50cace01eb2",
   "metadata": {},
   "source": [
    "Unpacking can make extracting information from lists and arrays a breeze. Here are some examples:"
   ]
  },
  {
   "cell_type": "code",
   "execution_count": 26,
   "id": "482668a6-a23d-497a-9147-dc0d3abae960",
   "metadata": {},
   "outputs": [
    {
     "data": {
      "text/plain": [
       "(1, 2, 3)"
      ]
     },
     "execution_count": 26,
     "metadata": {},
     "output_type": "execute_result"
    }
   ],
   "source": [
    "#Example 1:\n",
    "x,y,z=[1,2,3]\n",
    "x,y,z"
   ]
  },
  {
   "cell_type": "code",
   "execution_count": 28,
   "id": "3663f42f-0401-468f-8846-9d2183788da2",
   "metadata": {},
   "outputs": [
    {
     "data": {
      "text/plain": [
       "(1, 2, 3)"
      ]
     },
     "execution_count": 28,
     "metadata": {},
     "output_type": "execute_result"
    }
   ],
   "source": [
    "#Example 2:\n",
    "x,y,z=np.array([1,2,3])\n",
    "x,y,z"
   ]
  },
  {
   "cell_type": "code",
   "execution_count": 29,
   "id": "c3fd9c39-c942-40c0-a2f5-e66eb3303e00",
   "metadata": {},
   "outputs": [
    {
     "data": {
      "text/plain": [
       "(1, [2, 3, 4], 5)"
      ]
     },
     "execution_count": 29,
     "metadata": {},
     "output_type": "execute_result"
    }
   ],
   "source": [
    "#Example 3:\n",
    "x,*y,z=np.array([1,2,3,4,5])\n",
    "x,y,z\n",
    "#*y: * tells python to assign all the middle variables to y"
   ]
  },
  {
   "cell_type": "code",
   "execution_count": 32,
   "id": "b0b04a52-cf37-4e58-99b5-17cfd21d0ecd",
   "metadata": {},
   "outputs": [
    {
     "data": {
      "text/plain": [
       "(1, 5)"
      ]
     },
     "execution_count": 32,
     "metadata": {},
     "output_type": "execute_result"
    }
   ],
   "source": [
    "#Example 4:\n",
    "x, *_, y=[1,2,3,4,5]\n",
    "x,y\n",
    "#*_ is used to ignore the middle elements of the list. The asterisk tells Python to assign any remaining elements to the variable after it."
   ]
  },
  {
   "cell_type": "code",
   "execution_count": null,
   "id": "fc75907e-6802-4c1a-a48b-4a0fdb23b339",
   "metadata": {},
   "outputs": [],
   "source": []
  }
 ],
 "metadata": {
  "kernelspec": {
   "display_name": "Python 3 (ipykernel)",
   "language": "python",
   "name": "python3"
  },
  "language_info": {
   "codemirror_mode": {
    "name": "ipython",
    "version": 3
   },
   "file_extension": ".py",
   "mimetype": "text/x-python",
   "name": "python",
   "nbconvert_exporter": "python",
   "pygments_lexer": "ipython3",
   "version": "3.11.5"
  },
  "toc": {
   "base_numbering": 1,
   "nav_menu": {},
   "number_sections": true,
   "sideBar": true,
   "skip_h1_title": false,
   "title_cell": "Table of Contents",
   "title_sidebar": "Contents",
   "toc_cell": false,
   "toc_position": {},
   "toc_section_display": true,
   "toc_window_display": false
  },
  "vscode": {
   "interpreter": {
    "hash": "31f2aee4e71d21fbe5cf8b01ff0e069b9275f58929596ceb00d14d90e3e16cd6"
   }
  }
 },
 "nbformat": 4,
 "nbformat_minor": 5
}
