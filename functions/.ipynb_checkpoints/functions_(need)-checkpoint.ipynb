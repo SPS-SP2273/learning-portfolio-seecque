{
 "cells": [
  {
   "attachments": {},
   "cell_type": "markdown",
   "id": "123456",
   "metadata": {},
   "source": [
    "<div style=\"text-align:left;font-size:2em\"><span style=\"font-weight:bolder;font-size:1.25em\">SP2273 | Learning Portfolio</span><br><br><span style=\"font-weight:bold;color:darkred\">Functions (Need)</span></div>"
   ]
  },
  {
   "attachments": {},
   "cell_type": "markdown",
   "id": "d5813a75",
   "metadata": {},
   "source": [
    "# What to expect in this chapter"
   ]
  },
  {
   "cell_type": "markdown",
   "id": "2bf5ab83-055e-4e4b-bf22-242b38135c0f",
   "metadata": {},
   "source": [
    "At this point, we should be comfortable using functions such as `print()` and `enumnerate()`. In this chapter, we learnt how to craft out own functions and the modularity of functions prompts us to think of solutions about modular solutions to problems. "
   ]
  },
  {
   "attachments": {},
   "cell_type": "markdown",
   "id": "9b1fc8ea",
   "metadata": {},
   "source": [
    "# 1 User-defined functions"
   ]
  },
  {
   "cell_type": "markdown",
   "id": "84473397-a556-40b3-a848-f534f82d40a5",
   "metadata": {},
   "source": [
    "`print()` is an example of an internal function in Python. We can also create our own functions.\n",
    "<br> There are 2 ways to create functions:\n",
    "1. Named\n",
    "2. Annonymous "
   ]
  },
  {
   "attachments": {},
   "cell_type": "markdown",
   "id": "613e397e",
   "metadata": {},
   "source": [
    "## Named Functions\n",
    "________"
   ]
  },
  {
   "cell_type": "markdown",
   "id": "3b5cc814-00be-4290-9544-ad399dfd77e7",
   "metadata": {},
   "source": [
    "Named functions that return \n",
    "We define a function by using the keyword `def` as follows:"
   ]
  },
  {
   "cell_type": "code",
   "execution_count": 2,
   "id": "0b361d3c-11ec-4f26-87b5-72ac3afa3533",
   "metadata": {},
   "outputs": [],
   "source": [
    "#Defining a function \n",
    "def greeting(name):\n",
    "    if name == 'Batman':\n",
    "        return 'Hello Batman! So nice to meet you!'\n",
    "    else:\n",
    "        return f'Hello {name}!'\n",
    "\n",
    "#The function name is greeting and it accepts the argument called name. "
   ]
  },
  {
   "cell_type": "code",
   "execution_count": 3,
   "id": "568620aa-9cbf-4b50-9e1e-85598dcd70ef",
   "metadata": {},
   "outputs": [
    {
     "data": {
      "text/plain": [
       "'Hello Superman!'"
      ]
     },
     "execution_count": 3,
     "metadata": {},
     "output_type": "execute_result"
    }
   ],
   "source": [
    "greeting('Superman')"
   ]
  },
  {
   "cell_type": "code",
   "execution_count": 4,
   "id": "feed2bc7-0951-4e0f-8621-2d82ff9864ca",
   "metadata": {},
   "outputs": [
    {
     "data": {
      "text/plain": [
       "'Hello Superman!'"
      ]
     },
     "execution_count": 4,
     "metadata": {},
     "output_type": "execute_result"
    }
   ],
   "source": [
    "greeting(name='Superman')"
   ]
  },
  {
   "cell_type": "markdown",
   "id": "7f5f03b2-2196-4c59-bd6d-6ff33d66c063",
   "metadata": {},
   "source": [
    "Notice the key word `def` and the colon `(:)` and the <span style='color:red'>indentations</span> that demarcates the functions code block! \n",
    "<br>The keyword `return` gets an output from the function. When python sees a `reutn` keyword it jumps out of the function with the return value. We can pick up the returned value by assigning it to a variable:"
   ]
  },
  {
   "cell_type": "code",
   "execution_count": 5,
   "id": "e36b0245-ef0b-47a8-a8de-54c1bcd9d730",
   "metadata": {},
   "outputs": [
    {
     "name": "stdout",
     "output_type": "stream",
     "text": [
      "Hello Super Man!\n"
     ]
    }
   ],
   "source": [
    "#Example:\n",
    "greet=greeting(name='Super Man')\n",
    "print(greet)"
   ]
  },
  {
   "cell_type": "code",
   "execution_count": 7,
   "id": "4ea9cbc0-3c61-40f2-8a8a-525984aadfd2",
   "metadata": {},
   "outputs": [
    {
     "name": "stdout",
     "output_type": "stream",
     "text": [
      "Hello Super Man!\n"
     ]
    }
   ],
   "source": [
    "#Example: This works too\n",
    "print(greeting(name='Super Man'))"
   ]
  },
  {
   "cell_type": "markdown",
   "id": "bad1b884-7216-4f19-8979-607eb546d7bc",
   "metadata": {},
   "source": [
    "We can also use `return` only with a function\n",
    "<br> We can practically return almost anything;"
   ]
  },
  {
   "cell_type": "code",
   "execution_count": 17,
   "id": "91ce317d-f42b-4b8f-90bf-e0f43b719e1d",
   "metadata": {},
   "outputs": [],
   "source": [
    "#Example: Returns maximum, minimum and mean\n",
    "import numpy as np\n",
    "#First step: We define the function, in this case it's called 'basic_stats'\n",
    "def basic_stats(numbers):\n",
    "    np_numbers=np.array(numbers)\n",
    "    my_max=np_numbers.max()\n",
    "    my_min=np_numbers.min()\n",
    "    my_mean=np_numbers.mean()\n",
    "    return my_max, my_min, my_mean"
   ]
  },
  {
   "cell_type": "code",
   "execution_count": 15,
   "id": "13180bff-8ab8-40e9-a77d-a5ec8a578eac",
   "metadata": {},
   "outputs": [],
   "source": [
    "list_min, list_max, list_mean = basic_stats([1,2,3,4,5])"
   ]
  },
  {
   "cell_type": "code",
   "execution_count": 16,
   "id": "927173e1-d373-4a2f-8e1a-ab58286723a8",
   "metadata": {},
   "outputs": [
    {
     "name": "stdout",
     "output_type": "stream",
     "text": [
      "Maximum: 5\n",
      "Minimum: 1\n",
      "Mean: 3.0\n"
     ]
    }
   ],
   "source": [
    "import numpy as np\n",
    "\n",
    "# Defining our function\n",
    "def basic_stats(numbers):\n",
    "    np_numbers = np.array(numbers)\n",
    "    my_max = np_numbers.max()\n",
    "    my_min = np_numbers.min()\n",
    "    my_mean = np_numbers.mean()\n",
    "    return my_max, my_min, my_mean\n",
    "\n",
    "list_max, list_min, list_mean = basic_stats([1,2,3,4,5])\n",
    "\n",
    "# Printing the results\n",
    "print(\"Maximum:\", list_max)\n",
    "print(\"Minimum:\", list_min)\n",
    "print(\"Mean:\", list_mean)"
   ]
  },
  {
   "attachments": {},
   "cell_type": "markdown",
   "id": "8c2e4b9a",
   "metadata": {},
   "source": [
    "**Named functions that return**"
   ]
  },
  {
   "cell_type": "markdown",
   "id": "21001fe2-0c4b-481e-90c3-a6f21b70e227",
   "metadata": {},
   "source": [
    "A function does not have to return anything. A good example is `print()`, which does something but does not return a value. "
   ]
  },
  {
   "attachments": {},
   "cell_type": "markdown",
   "id": "eee4dc97",
   "metadata": {},
   "source": [
    "## Anonymous functions\n",
    "______"
   ]
  },
  {
   "cell_type": "markdown",
   "id": "1b548c85-9057-4a52-aa85-a591fa50fa9c",
   "metadata": {},
   "source": [
    "Annoymous or <span style='color:orange'>lambda</span> functions are suitable for short one-liners. Here are 2 examples:"
   ]
  },
  {
   "cell_type": "code",
   "execution_count": 20,
   "id": "456af5a8-011a-4fc9-a5ad-e0b58183da5c",
   "metadata": {},
   "outputs": [
    {
     "data": {
      "text/plain": [
       "'Hello Super Man!'"
      ]
     },
     "execution_count": 20,
     "metadata": {},
     "output_type": "execute_result"
    }
   ],
   "source": [
    "#Example 1: This function accepts a single arugment called name\n",
    "said_function=lambda name:f'Hello {name}!'\n",
    "\n",
    "#Here is how we use it:\n",
    "said_function(name='Super Man')"
   ]
  },
  {
   "cell_type": "markdown",
   "id": "2034495c-95e2-4702-b148-e9fa4e29dc80",
   "metadata": {},
   "source": [
    "A `lambda` function always returns the value of the last statement"
   ]
  },
  {
   "cell_type": "code",
   "execution_count": 27,
   "id": "98525aa7-beda-4e15-a406-14fea0f18fa5",
   "metadata": {},
   "outputs": [
    {
     "name": "stdout",
     "output_type": "stream",
     "text": [
      "[[0, 9, -19], [1, 8, -18], [2, 7, -17], [3, 6, -16], [4, 5, -15], [5, 4, -14], [6, 3, -13], [7, 2, -12], [8, 1, -11], [9, 0, -10]]\n",
      "[[9, 0, -10], [8, 1, -11], [7, 2, -12], [6, 3, -13], [5, 4, -14], [4, 5, -15], [3, 6, -16], [2, 7, -17], [1, 8, -18], [0, 9, -19]]\n",
      "[[0, 9, -19], [1, 8, -18], [2, 7, -17], [3, 6, -16], [4, 5, -15], [5, 4, -14], [6, 3, -13], [7, 2, -12], [8, 1, -11], [9, 0, -10]]\n"
     ]
    }
   ],
   "source": [
    "#Example 2: A really annoymous example \n",
    "numbers=[[9, 0, -10],\n",
    "         [8, 1, -11],\n",
    "         [7, 2, -12],\n",
    "         [6, 3, -13],\n",
    "         [5, 4, -14],\n",
    "         [4, 5, -15],\n",
    "         [3, 6, -16],\n",
    "         [2, 7, -17],\n",
    "         [1, 8, -18],\n",
    "         [0, 9, -19]]\n",
    "\n",
    "#Here we can use the sorted() function\n",
    "#1. Sort by comparing default key \n",
    "print(sorted(numbers))\n",
    "\n",
    "#Sort by comparing a custom key, that uses the 2nd element (index=1)\n",
    "print(sorted(numbers, key=lambda x:x[1]))\n",
    "\n",
    "#Sort by comparing a custom key, that uses the sum of the elements\n",
    "print(sorted(numbers, key=lambda x:sum(x)))"
   ]
  },
  {
   "attachments": {},
   "cell_type": "markdown",
   "id": "a6fa22ef",
   "metadata": {},
   "source": [
    "## Optional arguments\n",
    "_____"
   ]
  },
  {
   "cell_type": "markdown",
   "id": "75b31242-02ef-4c34-a4ab-a82ed16c304e",
   "metadata": {},
   "source": [
    "Python allows us to make arguments to our function <span style='color:orange'>optional</span>. To do this, we need to give the argumenent a <span style='color:orange'>default</span> value so that it always has something to work with. "
   ]
  },
  {
   "cell_type": "code",
   "execution_count": 31,
   "id": "84620511-050d-422d-8791-af4ee8821498",
   "metadata": {},
   "outputs": [
    {
     "data": {
      "text/plain": [
       "'Hello Braden'"
      ]
     },
     "execution_count": 31,
     "metadata": {},
     "output_type": "execute_result"
    }
   ],
   "source": [
    "def greeting(name='no one'):\n",
    "    if name=='Batman':\n",
    "        return 'Hello Batman! So nice to meet you!'\n",
    "    else:\n",
    "        return f'Hello {name}'\n",
    "\n",
    "#Using it\n",
    "greeting()\n",
    "\n",
    "#Using it \n",
    "greeting('Braden')"
   ]
  },
  {
   "cell_type": "code",
   "execution_count": 32,
   "id": "90122365-1a34-4d07-958c-f917e49f9147",
   "metadata": {},
   "outputs": [
    {
     "data": {
      "text/plain": [
       "\u001b[0;31mSignature:\u001b[0m \u001b[0mprint\u001b[0m\u001b[0;34m(\u001b[0m\u001b[0;34m*\u001b[0m\u001b[0margs\u001b[0m\u001b[0;34m,\u001b[0m \u001b[0msep\u001b[0m\u001b[0;34m=\u001b[0m\u001b[0;34m' '\u001b[0m\u001b[0;34m,\u001b[0m \u001b[0mend\u001b[0m\u001b[0;34m=\u001b[0m\u001b[0;34m'\\n'\u001b[0m\u001b[0;34m,\u001b[0m \u001b[0mfile\u001b[0m\u001b[0;34m=\u001b[0m\u001b[0;32mNone\u001b[0m\u001b[0;34m,\u001b[0m \u001b[0mflush\u001b[0m\u001b[0;34m=\u001b[0m\u001b[0;32mFalse\u001b[0m\u001b[0;34m)\u001b[0m\u001b[0;34m\u001b[0m\u001b[0;34m\u001b[0m\u001b[0m\n",
       "\u001b[0;31mDocstring:\u001b[0m\n",
       "Prints the values to a stream, or to sys.stdout by default.\n",
       "\n",
       "sep\n",
       "  string inserted between values, default a space.\n",
       "end\n",
       "  string appended after the last value, default a newline.\n",
       "file\n",
       "  a file-like object (stream); defaults to the current sys.stdout.\n",
       "flush\n",
       "  whether to forcibly flush the stream.\n",
       "\u001b[0;31mType:\u001b[0m      builtin_function_or_method"
      ]
     },
     "metadata": {},
     "output_type": "display_data"
    }
   ],
   "source": [
    "?print"
   ]
  },
  {
   "cell_type": "code",
   "execution_count": 33,
   "id": "4f9388a9-ffb1-439d-bd3e-f75348bd7e53",
   "metadata": {},
   "outputs": [
    {
     "name": "stdout",
     "output_type": "stream",
     "text": [
      "I am Batman\n"
     ]
    }
   ],
   "source": [
    "#using default values \n",
    "print('I', 'am', 'Batman')"
   ]
  },
  {
   "cell_type": "code",
   "execution_count": 34,
   "id": "d909bccf-6a0c-45e7-ae74-59023b52c822",
   "metadata": {},
   "outputs": [
    {
     "name": "stdout",
     "output_type": "stream",
     "text": [
      "I-------am-------Batman!\n"
     ]
    }
   ],
   "source": [
    "#Specifying an Optional argument \n",
    "print('I', 'am', 'Batman!', sep='-------')"
   ]
  },
  {
   "attachments": {},
   "cell_type": "markdown",
   "id": "b92c2c0a",
   "metadata": {},
   "source": [
    "## The importance of functions?"
   ]
  },
  {
   "attachments": {},
   "cell_type": "markdown",
   "id": "69aee061",
   "metadata": {},
   "source": [
    "### An argument for functions"
   ]
  },
  {
   "cell_type": "markdown",
   "id": "d61f0384-cf58-42f8-95d5-ad12b5357573",
   "metadata": {},
   "source": [
    "Now that we know a bit about creating functions, here are a few reasons why functions are a good idea. \n",
    "**<u>Abstraction of details</u>**\n",
    "<br>If we break up a complicated solution into modular chunks (i.e. functions) then it becomes easier to think about it because we are not dealing with all the details at once. \n",
    "<br>As a result, it becomes easier to focus on our overall function because we are not distracted by unnecessary information. This hiding of 'stuff' is called <span style='color:orange'>abstraction</span>\n",
    "<br>\n",
    "**<u>Reusability of code</u>**\n",
    "<br> If we encapsulate a chunk of code in a function, it becomes straightforward to reuse it instead of copying and pasting at different places. Making out code more compact and short.\n",
    "<br>\n",
    "**<u>Maintainability of Code</u>**\n",
    "<br>With functions, our code is easier to change and maintain because we only need to make changes in one place, at the function definition"
   ]
  },
  {
   "attachments": {},
   "cell_type": "markdown",
   "id": "68679e11",
   "metadata": {},
   "source": [
    "## A word of caution"
   ]
  },
  {
   "cell_type": "markdown",
   "id": "8b7bd769-c917-4648-85ea-60d3317392b3",
   "metadata": {},
   "source": [
    "Do not:\n",
    "1. *Abuse it*: Have it do too many things or have too many arguments\n",
    "2. *Overuse it*: Have too many functions, makes our code harder to read and increases computational overheads. "
   ]
  }
 ],
 "metadata": {
  "kernelspec": {
   "display_name": "Python 3 (ipykernel)",
   "language": "python",
   "name": "python3"
  },
  "language_info": {
   "codemirror_mode": {
    "name": "ipython",
    "version": 3
   },
   "file_extension": ".py",
   "mimetype": "text/x-python",
   "name": "python",
   "nbconvert_exporter": "python",
   "pygments_lexer": "ipython3",
   "version": "3.11.5"
  },
  "toc": {
   "base_numbering": 1,
   "nav_menu": {},
   "number_sections": true,
   "sideBar": true,
   "skip_h1_title": false,
   "title_cell": "Table of Contents",
   "title_sidebar": "Contents",
   "toc_cell": false,
   "toc_position": {},
   "toc_section_display": true,
   "toc_window_display": false
  },
  "vscode": {
   "interpreter": {
    "hash": "31f2aee4e71d21fbe5cf8b01ff0e069b9275f58929596ceb00d14d90e3e16cd6"
   }
  }
 },
 "nbformat": 4,
 "nbformat_minor": 5
}
