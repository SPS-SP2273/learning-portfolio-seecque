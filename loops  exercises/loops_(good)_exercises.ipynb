{
 "cells": [
  {
   "attachments": {},
   "cell_type": "markdown",
   "id": "123456",
   "metadata": {},
   "source": [
    "<div style=\"text-align:left;font-size:2em\"><span style=\"font-weight:bolder;font-size:1.25em\">SP2273 | Learning Portfolio</span><br><br><span style=\"font-weight:bold;color:darkred\">Loops (Good) Exercises</span></div>"
   ]
  },
  {
   "cell_type": "markdown",
   "id": "724a9b64-feae-4718-bfe2-e46487198e19",
   "metadata": {},
   "source": [
    "# Exercise 1 (Make me an odd list)"
   ]
  },
  {
   "cell_type": "code",
   "execution_count": 26,
   "id": "781508c2-70ab-429e-a3bd-643092bdb6af",
   "metadata": {},
   "outputs": [
    {
     "name": "stdout",
     "output_type": "stream",
     "text": [
      "1\n",
      "9\n",
      "25\n",
      "49\n",
      "81\n"
     ]
    }
   ],
   "source": [
    "for number in range(10):\n",
    "    if number%2==0:\n",
    "        continue\n",
    "    number=number**2\n",
    "    print(number)"
   ]
  },
  {
   "cell_type": "markdown",
   "id": "8daea399-3436-4811-b82d-074611b3e68b",
   "metadata": {},
   "source": [
    "# Exercise 2 (Make me another odd list)\n",
    "Redo exercise 1 using list comprehension"
   ]
  },
  {
   "cell_type": "code",
   "execution_count": 28,
   "id": "7546f223-7fb2-4953-b9ba-3c82907ad2f4",
   "metadata": {},
   "outputs": [
    {
     "data": {
      "text/plain": [
       "[1, 9, 25, 49, 81]"
      ]
     },
     "execution_count": 28,
     "metadata": {},
     "output_type": "execute_result"
    }
   ],
   "source": [
    "[number**2 for number in range(10) if number%2!=0]"
   ]
  },
  {
   "cell_type": "markdown",
   "id": "661c148d-984a-41f4-bb28-f51443c739ac",
   "metadata": {},
   "source": [
    "# Exercise 3 (Time me!)"
   ]
  },
  {
   "cell_type": "code",
   "execution_count": 55,
   "id": "5af44b9b-e9b5-465a-8dbe-bdb01d89c083",
   "metadata": {},
   "outputs": [
    {
     "name": "stdout",
     "output_type": "stream",
     "text": [
      "973 ns ± 9.91 ns per loop (mean ± std. dev. of 7 runs, 1,000,000 loops each)\n"
     ]
    }
   ],
   "source": [
    "%%timeit\n",
    "for number in range(10):\n",
    "    if number % 2 == 0:\n",
    "        continue\n",
    "    number = number ** 2"
   ]
  },
  {
   "cell_type": "code",
   "execution_count": 56,
   "id": "3f3caf0e-6e00-46d8-92d7-26a079598482",
   "metadata": {},
   "outputs": [
    {
     "name": "stdout",
     "output_type": "stream",
     "text": [
      "1.16 µs ± 5.56 ns per loop (mean ± std. dev. of 7 runs, 1,000,000 loops each)\n"
     ]
    }
   ],
   "source": [
    "%%timeit\n",
    "[number ** 2 for number in range(10) if number % 2 != 0]\n"
   ]
  },
  {
   "cell_type": "markdown",
   "id": "1c801469-c606-463e-90bc-19f130d237bb",
   "metadata": {},
   "source": [
    "<span style='color:red'>Solution 2 is faster!</span>"
   ]
  },
  {
   "cell_type": "markdown",
   "id": "e7921193-ed35-4576-95ba-9cf6d721652f",
   "metadata": {},
   "source": [
    "# Exercise 4 (A problem of decay)"
   ]
  },
  {
   "cell_type": "code",
   "execution_count": 78,
   "id": "e0a5fffa-e5fa-4f7d-9d31-af6b5c6e7497",
   "metadata": {},
   "outputs": [
    {
     "name": "stdout",
     "output_type": "stream",
     "text": [
      "It will take 14 years for the sample to reduce to half its original amount!\n"
     ]
    }
   ],
   "source": [
    "initial_sample=100\n",
    "threshold=50\n",
    "decay_rate=0.05\n",
    "total_years=0\n",
    "\n",
    "while initial_sample>threshold:\n",
    "    initial_sample-=initial_sample*decay_rate\n",
    "    total_years+=1\n",
    "    #print(initial_sample)\n",
    "\n",
    "total_years=(total_years)\n",
    "print(f'It will take {total_years} years for the sample to reduce to half its original amount!')"
   ]
  },
  {
   "cell_type": "markdown",
   "id": "4af12f95-7e21-4b8c-b82b-24fc3723b874",
   "metadata": {},
   "source": [
    "# Exercise 5 (Changes in CO2)"
   ]
  },
  {
   "cell_type": "code",
   "execution_count": 2,
   "id": "5e2f3027-0bda-4282-acf4-ec1e27351aae",
   "metadata": {},
   "outputs": [],
   "source": [
    "co2_data = [\n",
    "    (2000, 369.55), (2001, 371.14), (2002, 373.28), \n",
    "    (2003, 375.80), (2004, 377.52), (2005, 379.80), \n",
    "    (2006, 381.90), (2007, 383.79), (2008, 385.60), \n",
    "    (2009, 387.43), (2010, 389.90), (2011, 391.65), \n",
    "    (2012, 393.85), (2013, 396.52), (2014, 398.65),\n",
    "    (2015, 400.83), (2016, 404.24), (2017, 406.55), \n",
    "    (2018, 408.52), (2019, 411.44), (2020, 414.24)\n",
    "]"
   ]
  },
  {
   "cell_type": "code",
   "execution_count": 119,
   "id": "923a509b-2628-4dd3-9c4d-75dea24c1a06",
   "metadata": {},
   "outputs": [
    {
     "name": "stdout",
     "output_type": "stream",
     "text": [
      "2002 showed an increase of 3.73ppm as compared to 2001\n",
      "2003 showed an increase of 6.25ppm as compared to 2001\n",
      "2004 showed an increase of 7.97ppm as compared to 2001\n",
      "2005 showed an increase of 10.25ppm as compared to 2001\n",
      "2006 showed an increase of 12.35ppm as compared to 2001\n",
      "2007 showed an increase of 14.24ppm as compared to 2001\n",
      "2008 showed an increase of 16.05ppm as compared to 2001\n",
      "2009 showed an increase of 17.88ppm as compared to 2001\n",
      "2010 showed an increase of 20.35ppm as compared to 2001\n",
      "2011 showed an increase of 22.10ppm as compared to 2001\n",
      "2012 showed an increase of 24.30ppm as compared to 2001\n",
      "2013 showed an increase of 26.97ppm as compared to 2001\n",
      "2014 showed an increase of 29.10ppm as compared to 2001\n",
      "2015 showed an increase of 31.28ppm as compared to 2001\n",
      "2016 showed an increase of 34.69ppm as compared to 2001\n",
      "2017 showed an increase of 37.00ppm as compared to 2001\n",
      "2018 showed an increase of 38.97ppm as compared to 2001\n",
      "2019 showed an increase of 41.89ppm as compared to 2001\n",
      "2020 showed an increase of 44.69ppm as compared to 2001\n"
     ]
    }
   ],
   "source": [
    "first_co2_level=co2_data[0][1]\n",
    "#print(first_co2_level)\n",
    "\n",
    "for year, co2_level in co2_data[1:]:\n",
    "    increase=co2_level-first_co2_level\n",
    "    if increase>=3:\n",
    "        #print(year)\n",
    "        print(f'{year} showed an increase of {increase:.2f}ppm as compared to 2001')\n",
    "        #2f is 2 decimal places"
   ]
  },
  {
   "cell_type": "code",
   "execution_count": 5,
   "id": "bb61cb51-14c7-4522-8fd4-66113bc3eea3",
   "metadata": {},
   "outputs": [
    {
     "name": "stdout",
     "output_type": "stream",
     "text": [
      "2001 showed an increase of 1.59ppm as compared to 2000\n",
      "2002 showed an increase of 2.14ppm as compared to 2001\n",
      "2003 showed an increase of 2.52ppm as compared to 2002\n",
      "2004 showed an increase of 1.72ppm as compared to 2003\n",
      "2005 showed an increase of 2.28ppm as compared to 2004\n",
      "2006 showed an increase of 2.10ppm as compared to 2005\n",
      "2007 showed an increase of 1.89ppm as compared to 2006\n",
      "2008 showed an increase of 1.81ppm as compared to 2007\n",
      "2009 showed an increase of 1.83ppm as compared to 2008\n",
      "2010 showed an increase of 2.47ppm as compared to 2009\n",
      "2011 showed an increase of 1.75ppm as compared to 2010\n",
      "2012 showed an increase of 2.20ppm as compared to 2011\n",
      "2013 showed an increase of 2.67ppm as compared to 2012\n",
      "2014 showed an increase of 2.13ppm as compared to 2013\n",
      "2015 showed an increase of 2.18ppm as compared to 2014\n",
      "2016 showed an increase of 3.41ppm as compared to 2015\n",
      "2017 showed an increase of 2.31ppm as compared to 2016\n",
      "2018 showed an increase of 1.97ppm as compared to 2017\n",
      "2019 showed an increase of 2.92ppm as compared to 2018\n",
      "2020 showed an increase of 2.80ppm as compared to 2019\n"
     ]
    }
   ],
   "source": [
    "previous_year, previous_co2_level = co2_data[0]\n",
    "\n",
    "for year, co2_level in co2_data[1:]:\n",
    "    increase = co2_level - previous_co2_level\n",
    "    print(f'{year} showed an increase of {increase:.2f}ppm as compared to {previous_year}')\n",
    "\n",
    "    previous_year, previous_co2_level = year, co2_level"
   ]
  },
  {
   "cell_type": "code",
   "execution_count": null,
   "id": "611a3bc5-61aa-4ca0-9a7a-75a9bce0a374",
   "metadata": {},
   "outputs": [],
   "source": []
  }
 ],
 "metadata": {
  "kernelspec": {
   "display_name": "Python 3 (ipykernel)",
   "language": "python",
   "name": "python3"
  },
  "language_info": {
   "codemirror_mode": {
    "name": "ipython",
    "version": 3
   },
   "file_extension": ".py",
   "mimetype": "text/x-python",
   "name": "python",
   "nbconvert_exporter": "python",
   "pygments_lexer": "ipython3",
   "version": "3.11.5"
  },
  "toc": {
   "base_numbering": 1,
   "nav_menu": {},
   "number_sections": true,
   "sideBar": true,
   "skip_h1_title": false,
   "title_cell": "Table of Contents",
   "title_sidebar": "Contents",
   "toc_cell": false,
   "toc_position": {},
   "toc_section_display": true,
   "toc_window_display": false
  },
  "vscode": {
   "interpreter": {
    "hash": "31f2aee4e71d21fbe5cf8b01ff0e069b9275f58929596ceb00d14d90e3e16cd6"
   }
  }
 },
 "nbformat": 4,
 "nbformat_minor": 5
}
