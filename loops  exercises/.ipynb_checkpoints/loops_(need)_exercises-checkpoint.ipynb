{
 "cells": [
  {
   "attachments": {},
   "cell_type": "markdown",
   "id": "123456",
   "metadata": {},
   "source": [
    "<div style=\"text-align:left;font-size:2em\"><span style=\"font-weight:bolder;font-size:1.25em\">SP2273 | Learning Portfolio</span><br><br><span style=\"font-weight:bold;color:darkred\">Loops (Need) Exercises</span></div>"
   ]
  },
  {
   "cell_type": "markdown",
   "id": "54de609f-f5ec-444d-83b4-272f71fad895",
   "metadata": {},
   "source": [
    "## Exercise 1 (Celcius to Farenheit)\n",
    "_____\n",
    "Write a quick python snippet that converts each temperature to Farenheit and prints both temperatures"
   ]
  },
  {
   "cell_type": "code",
   "execution_count": 32,
   "id": "a1e37d0b-81dc-4109-8e30-579c92e4a5a0",
   "metadata": {},
   "outputs": [
    {
     "name": "stdout",
     "output_type": "stream",
     "text": [
      "The temperature in celsius is 0 and the temperature in Fahrenheit is 32.0\n",
      "The temperature in celsius is 5 and the temperature in Fahrenheit is 41.0\n",
      "The temperature in celsius is 10 and the temperature in Fahrenheit is 50.0\n",
      "The temperature in celsius is 15 and the temperature in Fahrenheit is 59.0\n",
      "The temperature in celsius is 20 and the temperature in Fahrenheit is 68.0\n",
      "The temperature in celsius is 25 and the temperature in Fahrenheit is 77.0\n",
      "The temperature in celsius is 30 and the temperature in Fahrenheit is 86.0\n",
      "The temperature in celsius is 35 and the temperature in Fahrenheit is 95.0\n",
      "The temperature in celsius is 40 and the temperature in Fahrenheit is 104.0\n",
      "The temperature in celsius is 45 and the temperature in Fahrenheit is 113.0\n",
      "The temperature in celsius is 50 and the temperature in Fahrenheit is 122.0\n"
     ]
    }
   ],
   "source": [
    "temperatures_celsius = [\n",
    "    0, 5, 10, 15, 20, 25,\n",
    "    30, 35, 40, 45, 50\n",
    "]\n",
    "for temperature in temperatures_celsius:\n",
    "    temperature_farenheit=(temperature*(9/5)+32)\n",
    "    print(f'The temperature in celsius is {temperature} and the temperature in Fahrenheit is {temperature_farenheit}')\n"
   ]
  },
  {
   "cell_type": "markdown",
   "id": "37613294-e373-4b91-9f24-1f404bfb7f25",
   "metadata": {},
   "source": [
    "## Exercise 2 (Multiplication Table)\n",
    "_____\n",
    "Write a quick python snippet that prints a multiplication table (up to 5) for numbers 1 through 5 using nested `for` loops."
   ]
  },
  {
   "cell_type": "code",
   "execution_count": 31,
   "id": "08fce0ed-dd80-482b-9e6c-0fae12504886",
   "metadata": {},
   "outputs": [
    {
     "name": "stdout",
     "output_type": "stream",
     "text": [
      "1 : 1  \t2  \t3  \t4  \t5  \t\n",
      "2 : 2  \t4  \t6  \t8  \t10  \t\n",
      "3 : 3  \t6  \t9  \t12  \t15  \t\n",
      "4 : 4  \t8  \t12  \t16  \t20  \t\n",
      "5 : 5  \t10  \t15  \t20  \t25  \t\n"
     ]
    }
   ],
   "source": [
    "numbers = ['1', '2', '3', '4', '5']\n",
    "numbers_int = [int(number) for number in numbers]\n",
    "\n",
    "for i in numbers_int:\n",
    "    print(f'{i} :', end=' ')\n",
    "    for j in numbers_int:\n",
    "        multiplied_number = i * j\n",
    "        print(f'{multiplied_number}', end='  \\t')\n",
    "    print()"
   ]
  },
  {
   "cell_type": "code",
   "execution_count": null,
   "id": "953086dd-72e2-491b-a03e-4b10c9a154e9",
   "metadata": {},
   "outputs": [],
   "source": []
  }
 ],
 "metadata": {
  "kernelspec": {
   "display_name": "Python 3 (ipykernel)",
   "language": "python",
   "name": "python3"
  },
  "language_info": {
   "codemirror_mode": {
    "name": "ipython",
    "version": 3
   },
   "file_extension": ".py",
   "mimetype": "text/x-python",
   "name": "python",
   "nbconvert_exporter": "python",
   "pygments_lexer": "ipython3",
   "version": "3.11.5"
  },
  "toc": {
   "base_numbering": 1,
   "nav_menu": {},
   "number_sections": true,
   "sideBar": true,
   "skip_h1_title": false,
   "title_cell": "Table of Contents",
   "title_sidebar": "Contents",
   "toc_cell": false,
   "toc_position": {},
   "toc_section_display": true,
   "toc_window_display": false
  },
  "vscode": {
   "interpreter": {
    "hash": "31f2aee4e71d21fbe5cf8b01ff0e069b9275f58929596ceb00d14d90e3e16cd6"
   }
  }
 },
 "nbformat": 4,
 "nbformat_minor": 5
}
