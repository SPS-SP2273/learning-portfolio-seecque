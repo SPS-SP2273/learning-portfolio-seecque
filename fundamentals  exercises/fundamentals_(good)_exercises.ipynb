{
 "cells": [
  {
   "attachments": {},
   "cell_type": "markdown",
   "id": "123456",
   "metadata": {},
   "source": [
    "<div style=\"text-align:left;font-size:2em\"><span style=\"font-weight:bolder;font-size:1.25em\">SP2273 | Learning Portfolio</span><br><br><span style=\"font-weight:bold;color:darkred\">Fundamentals(Good), Exercises</span></div>"
   ]
  },
  {
   "cell_type": "markdown",
   "id": "45f00a09-adba-450d-b2f1-d5cd2b1ea607",
   "metadata": {},
   "source": [
    "# **Exercise 1 (What is your grade?)**"
   ]
  },
  {
   "cell_type": "code",
   "execution_count": 3,
   "id": "828d429c-a202-4aed-b4bb-42478d101b4a",
   "metadata": {},
   "outputs": [
    {
     "name": "stdin",
     "output_type": "stream",
     "text": [
      "Give me a number?  20\n"
     ]
    },
    {
     "name": "stdout",
     "output_type": "stream",
     "text": [
      "You entered 20.0\n"
     ]
    }
   ],
   "source": [
    "try:\n",
    "    user_input = input('Give me a number? ')\n",
    "    num = float(user_input)\n",
    "    print('You entered', num)\n",
    "except ValueError:\n",
    "    print('The input is not a valid number. Please enter a number value.')"
   ]
  },
  {
   "cell_type": "code",
   "execution_count": 5,
   "id": "b433c01f-acc5-430f-8956-424bee87d2e0",
   "metadata": {},
   "outputs": [
    {
     "name": "stdin",
     "output_type": "stream",
     "text": [
      "Enter the student's score:  90\n"
     ]
    },
    {
     "name": "stdout",
     "output_type": "stream",
     "text": [
      "A\n"
     ]
    }
   ],
   "source": [
    "try:\n",
    "    student_score = int(input(\"Enter the student's score: \"))\n",
    "    \n",
    "    if 0 <= student_score <= 100:\n",
    "        if student_score > 70:\n",
    "            print('A')\n",
    "        elif 50 < student_score <= 70:\n",
    "            print('B')\n",
    "        elif 35 < student_score <= 50:\n",
    "            print('C')\n",
    "        else:\n",
    "            print('Fail')\n",
    "    else:\n",
    "        print(\"Please enter a score between 0 and 100.\")\n",
    "except ValueError:\n",
    "    print(\"Please enter a valid score.\")\n"
   ]
  },
  {
   "cell_type": "code",
   "execution_count": null,
   "id": "b3d80c31-b253-4fed-9679-56caac656beb",
   "metadata": {},
   "outputs": [],
   "source": []
  }
 ],
 "metadata": {
  "kernelspec": {
   "display_name": "Python 3 (ipykernel)",
   "language": "python",
   "name": "python3"
  },
  "language_info": {
   "codemirror_mode": {
    "name": "ipython",
    "version": 3
   },
   "file_extension": ".py",
   "mimetype": "text/x-python",
   "name": "python",
   "nbconvert_exporter": "python",
   "pygments_lexer": "ipython3",
   "version": "3.11.5"
  },
  "toc": {
   "base_numbering": 1,
   "nav_menu": {},
   "number_sections": true,
   "sideBar": true,
   "skip_h1_title": false,
   "title_cell": "Table of Contents",
   "title_sidebar": "Contents",
   "toc_cell": false,
   "toc_position": {},
   "toc_section_display": true,
   "toc_window_display": false
  },
  "vscode": {
   "interpreter": {
    "hash": "31f2aee4e71d21fbe5cf8b01ff0e069b9275f58929596ceb00d14d90e3e16cd6"
   }
  }
 },
 "nbformat": 4,
 "nbformat_minor": 5
}
