{
 "cells": [
  {
   "cell_type": "markdown",
   "id": "ed4645b6-4f33-43c0-97ec-0d62a486cfa3",
   "metadata": {},
   "source": [
    "<div style=\"text-align:left;font-size:2em\"><span style=\"font-weight:bolder;font-size:1.25em\">SP2273 | Learning Portfolio</span><br><br><span style=\"font-weight:bold;color:darkred\">Storing Data (good)</span></div>"
   ]
  },
  {
   "cell_type": "markdown",
   "id": "d9235d53-a02e-4166-a7e8-50d82bc63637",
   "metadata": {},
   "source": [
    "## What to expect in this chapter"
   ]
  },
  {
   "cell_type": "markdown",
   "id": "82964de0-8ee4-4999-844a-2b16b886322e",
   "metadata": {},
   "source": [
    "We should now know how to store data using lists, arrays and dictionaries. Now we will access and modify these structures. This is important because most of what we do with programming is related to accessing and changing data. We will also gain a better understanding of the differences and similarities between lists, NumPy arrays and dictionaries."
   ]
  },
  {
   "cell_type": "markdown",
   "id": "ca77c669-9ef8-43da-90d3-4878fb306a99",
   "metadata": {},
   "source": [
    "## Subsetting: Indexing and Slicing"
   ]
  },
  {
   "cell_type": "markdown",
   "id": "561edb13-656e-463f-9af5-395d00dd10f6",
   "metadata": {},
   "source": [
    "We often need to select a subset of the data in a list or an array, this is called <span style='color:orange'>subsetting</span>. One form of this is called indexing and another is called slicing.\n",
    "<br>Slicing: Select a range of elements. "
   ]
  },
  {
   "cell_type": "markdown",
   "id": "3ff765fe-69f0-4796-b228-77be79db2b58",
   "metadata": {},
   "source": [
    "*In summary:*\n",
    "|Term|Explanation|\n",
    "|:--:|:--|\n",
    "|Subsetting|Means to 'select'|\n",
    "|Indexing|Refers to selecting one element|\n",
    "|Slicing|Refers to selecting a range of elements|"
   ]
  },
  {
   "cell_type": "markdown",
   "id": "3d770210-b959-48e6-b93c-bb3909b95d22",
   "metadata": {},
   "source": [
    "### Lists & Arrays in 1D | Subsetting & Indexing\n",
    "___"
   ]
  },
  {
   "cell_type": "markdown",
   "id": "24f13267-eee7-4e0a-81fe-04f9f3845fe2",
   "metadata": {},
   "source": [
    "Slicing gives us a range of elements, hence we have to specify two indices to indicate where to start and where to end. The various syntaxes for these are:"
   ]
  },
  {
   "cell_type": "code",
   "execution_count": 4,
   "id": "63753a39-781a-49c5-9ae0-e24b9c7d3b2e",
   "metadata": {},
   "outputs": [],
   "source": [
    "import numpy as np\n",
    "py_list=[\"a1\", \"b2\", \"c3\", \"d4\", \"e5\",\n",
    "         \"f6\", \"g7\", \"h8\", \"i9\", \"j10\"]\n",
    "np_array=np.array(py_list)\n",
    "\n",
    "# Pick one\n",
    "x = py_list  # OR\n",
    "x = np_array"
   ]
  },
  {
   "cell_type": "markdown",
   "id": "7ed34fbd-b94f-47e6-9355-bfc98648eeb8",
   "metadata": {},
   "source": [
    "|Syntax|Result|Note|\n",
    "|:-----|:-----|:---|\n",
    "|`x[0]`| First element| 'a1'|\n",
    "|`x[-1]`| Last element | 'j10'|\n",
    "|`x[0:3]`| Index 0 to 2 | `['a1','b2','c3']`| Gives elements|\n",
    "|`x[1:6]`| Index 1 to 5 | `['b2','c3','d4','e5','f6']` | Gives elements |\n",
    "|`x[1:6:2]`| Index 1 to 5 in steps of 2| `['b2','d4','f6']`| Gives every other of elements |\n",
    "|`x[5:]`| Index 5 to the end | `['f6','g7','h8','i9','j10']`| Gives len(x) elements|\n",
    "|`x[:5]`| Index 0 to 5 | `['a1','b2','c3','d4','e5']` | Gives elements|\n",
    "|`x[5:2:-1]`| Index 5 to 3 (i.e., in reverse)  | `['f6','e5','d4']`| Gives elements|\n",
    "|`x[::-1]`| Reverses the list| `['j10','i9','h8',...,'b2','a1']`|"
   ]
  },
  {
   "cell_type": "markdown",
   "id": "897203ce-24a4-42c6-acee-64d10e883789",
   "metadata": {},
   "source": [
    "<span style='color:red'>Remember slicing in Python can be tricky, If you slice with `[i:j]`, the slice will start at i and end at `j-1`, giving you a total of `j-i` elements. </span>"
   ]
  },
  {
   "cell_type": "markdown",
   "id": "5f94d54c-05b7-46fc-85af-04720a70eeb7",
   "metadata": {},
   "source": [
    "### Arrays only | Subsetting by masking\n",
    "____"
   ]
  },
  {
   "cell_type": "markdown",
   "id": "24bbdf8c-b5a4-479a-8b09-a871013728ca",
   "metadata": {},
   "source": [
    "One of the most poweful things to do with NumPy arrays is subsetting by masking. "
   ]
  },
  {
   "cell_type": "code",
   "execution_count": 12,
   "id": "04c84075-28be-4b7b-91de-2759396cab4e",
   "metadata": {},
   "outputs": [
    {
     "data": {
      "text/plain": [
       "array([False, False, False,  True,  True,  True,  True,  True,  True,\n",
       "        True])"
      ]
     },
     "execution_count": 12,
     "metadata": {},
     "output_type": "execute_result"
    }
   ],
   "source": [
    "#Let's consider this code:\n",
    "np_array = np.array([1, 2, 3, 4, 5, 6, 7, 8, 9, 10])\n",
    "my_mask = np_array > 3\n",
    "my_mask"
   ]
  },
  {
   "cell_type": "code",
   "execution_count": 13,
   "id": "71af99c7-a28a-4622-90e0-d6fbcec31754",
   "metadata": {},
   "outputs": [
    {
     "data": {
      "text/plain": [
       "array([ 4,  5,  6,  7,  8,  9, 10])"
      ]
     },
     "execution_count": 13,
     "metadata": {},
     "output_type": "execute_result"
    }
   ],
   "source": [
    "np_array[my_mask]"
   ]
  },
  {
   "cell_type": "markdown",
   "id": "f53ead95-387e-4338-bb11-5a712e5f475f",
   "metadata": {},
   "source": [
    "This is why it's called masking, `True/False` answer acts like a mask, only allowing the `True` subset to be seen"
   ]
  },
  {
   "cell_type": "markdown",
   "id": "7621a4df-fa13-41f2-8efe-3480bbc30a29",
   "metadata": {},
   "source": [
    "Instead of creating another variable, we can do this succintly as;"
   ]
  },
  {
   "cell_type": "code",
   "execution_count": 14,
   "id": "913a8c99-8e1d-4758-bd96-562086f443d8",
   "metadata": {},
   "outputs": [
    {
     "data": {
      "text/plain": [
       "array([ 4,  5,  6,  7,  8,  9, 10])"
      ]
     },
     "execution_count": 14,
     "metadata": {},
     "output_type": "execute_result"
    }
   ],
   "source": [
    "np_array[np_array>3]"
   ]
  },
  {
   "cell_type": "code",
   "execution_count": 19,
   "id": "95967334-4364-46d2-bd85-5c389aad0528",
   "metadata": {},
   "outputs": [
    {
     "data": {
      "text/plain": [
       "array([1, 2, 3])"
      ]
     },
     "execution_count": 19,
     "metadata": {},
     "output_type": "execute_result"
    }
   ],
   "source": [
    "#Example 1\n",
    "np_array[~(np_array>3)] #~ means 'NOT' '~' is called the Bitwise Not Operator."
   ]
  },
  {
   "cell_type": "code",
   "execution_count": 20,
   "id": "d9c6253c-0528-4c52-b504-7ebd88dc8d01",
   "metadata": {},
   "outputs": [
    {
     "data": {
      "text/plain": [
       "array([4, 5, 6, 7])"
      ]
     },
     "execution_count": 20,
     "metadata": {},
     "output_type": "execute_result"
    }
   ],
   "source": [
    "#Example 2\n",
    "np_array[(np_array>3)&(np_array<8)] #we can combine one mask and another mask!"
   ]
  },
  {
   "cell_type": "code",
   "execution_count": 22,
   "id": "0d62b0f5-a693-45af-a7d8-d913ebb4095c",
   "metadata": {},
   "outputs": [
    {
     "data": {
      "text/plain": [
       "array([ 1,  2,  9, 10])"
      ]
     },
     "execution_count": 22,
     "metadata": {},
     "output_type": "execute_result"
    }
   ],
   "source": [
    "#Example 3\n",
    "np_array[(np_array < 3) | (np_array > 8)] # '|' means 'OR'\n",
    "#We can combine one mask OR another mask"
   ]
  },
  {
   "cell_type": "markdown",
   "id": "1201d1ae-feae-4dde-a19a-0a99ee5bacf6",
   "metadata": {},
   "source": [
    "### Lists & Arrays in 2D | Indexing and Slicing\n",
    "_____"
   ]
  },
  {
   "cell_type": "markdown",
   "id": "2d53b4b3-9386-45da-9e69-faf75b7f1f02",
   "metadata": {},
   "source": [
    "The differences between lists and arrays are more apparrent with higher dimensional lists and arrays. Especially when indexing and slicing in higher dimensions"
   ]
  },
  {
   "cell_type": "code",
   "execution_count": 23,
   "id": "d61662ca-ef2c-4493-af90-493f031ffffe",
   "metadata": {},
   "outputs": [],
   "source": [
    "#Let's consider the following 2D lists\n",
    "py_list_2d = [[1, \"A\"], [2, \"B\"], [3, \"C\"], [4, \"D\"],\n",
    "              [5, \"E\"], [6, \"F\"], [7, \"G\"], [8, \"H\"],\n",
    "              [9, \"I\"], [10, \"J\"]]\n",
    "\n",
    "np_array_2d = np.array(py_list_2d)"
   ]
  },
  {
   "cell_type": "code",
   "execution_count": 25,
   "id": "045a0948-d8d7-4d1f-81c8-462657043299",
   "metadata": {},
   "outputs": [
    {
     "name": "stdout",
     "output_type": "stream",
     "text": [
      "[4, 'D']\n",
      "['4' 'D']\n"
     ]
    }
   ],
   "source": [
    "#Example 1: What is at position 4 (index 3)\n",
    "print(py_list_2d[3])\n",
    "print(np_array_2d[3])"
   ]
  },
  {
   "cell_type": "code",
   "execution_count": 26,
   "id": "078d630c-8d92-456d-a637-ef7845677596",
   "metadata": {},
   "outputs": [
    {
     "name": "stdout",
     "output_type": "stream",
     "text": [
      "4\n",
      "4\n"
     ]
    }
   ],
   "source": [
    "#Example 2: What is the FIRST element at position 4 (index 3)\n",
    "print(py_list_2d[3][0])\n",
    "print(np_array_2d[3, 0])"
   ]
  },
  {
   "cell_type": "code",
   "execution_count": 28,
   "id": "36ed82f2-b842-4b4d-9b38-f31d3931f7f7",
   "metadata": {},
   "outputs": [
    {
     "name": "stdout",
     "output_type": "stream",
     "text": [
      "[[1, 'A'], [2, 'B'], [3, 'C']]\n"
     ]
    },
    {
     "data": {
      "text/plain": [
       "array([['1', 'A'],\n",
       "       ['2', 'B'],\n",
       "       ['3', 'C']], dtype='<U21')"
      ]
     },
     "execution_count": 28,
     "metadata": {},
     "output_type": "execute_result"
    }
   ],
   "source": [
    "#Example 3: What are the first three elements?\n",
    "print(py_list_2d[:3])\n",
    "np_array_2d[:3]"
   ]
  },
  {
   "cell_type": "code",
   "execution_count": 29,
   "id": "c0591a8a-b7fe-4225-a416-112941fd9c88",
   "metadata": {},
   "outputs": [
    {
     "name": "stdout",
     "output_type": "stream",
     "text": [
      "[1, 'A']\n"
     ]
    },
    {
     "data": {
      "text/plain": [
       "array(['1', '2', '3'], dtype='<U21')"
      ]
     },
     "execution_count": 29,
     "metadata": {},
     "output_type": "execute_result"
    }
   ],
   "source": [
    "#Example 4: ??\n",
    "print(py_list_2d[:3][0])\n",
    "np_array_2d[:3, 0]"
   ]
  },
  {
   "cell_type": "markdown",
   "id": "374b49d6-5bdf-4959-925b-91597cc63264",
   "metadata": {},
   "source": [
    "From Example 4, py_list_2d[:3][0] gives us the first element of the list but NumPy array works differently. "
   ]
  },
  {
   "cell_type": "code",
   "execution_count": 32,
   "id": "9fe374a8-b059-4bd2-9a10-4b1a79092c1d",
   "metadata": {},
   "outputs": [
    {
     "name": "stdout",
     "output_type": "stream",
     "text": [
      "[4, 'D']\n",
      "['4' '5' '6']\n"
     ]
    },
    {
     "data": {
      "text/plain": [
       "array(['1', '2', '3', '4', '5', '6', '7', '8', '9', '10'], dtype='<U21')"
      ]
     },
     "execution_count": 32,
     "metadata": {},
     "output_type": "execute_result"
    }
   ],
   "source": [
    "#Example 5\n",
    "print(py_list_2d[3:6][0])\n",
    "print(np_array_2d[3:6, 0])\n",
    "np_array_2d[:, 0]"
   ]
  },
  {
   "cell_type": "markdown",
   "id": "af1d64a3-6e80-455f-aa0c-c0c938039e1e",
   "metadata": {},
   "source": [
    "### Growing Lists\n",
    "____"
   ]
  },
  {
   "cell_type": "markdown",
   "id": "a367a82f-9cf2-402d-9a63-3611b2153b82",
   "metadata": {},
   "source": [
    "NumPy arrays slicing syntax (e.g. [:3,0]) is more intuitive than lists. \n",
    "But one advantage of lists is their ease and efficiency in growing. NumPy arrays are good for fast math operations. \n",
    "Here we learn how to grow a list. This will be useful later; for instance when you try to solve differential equations numerically."
   ]
  },
  {
   "cell_type": "code",
   "execution_count": 34,
   "id": "14b96714-0c4c-4dcb-90fd-d644aa24265f",
   "metadata": {},
   "outputs": [
    {
     "data": {
      "text/plain": [
       "[1, 2, 1, 2, 1, 2, 1, 2, 1, 2]"
      ]
     },
     "execution_count": 34,
     "metadata": {},
     "output_type": "execute_result"
    }
   ],
   "source": [
    "#Example 1: Creating a larger list from a smaller one \n",
    "x=[1, 2]*5\n",
    "x"
   ]
  },
  {
   "cell_type": "code",
   "execution_count": 36,
   "id": "27f6892b-3cd3-490a-aaeb-77e1423bffec",
   "metadata": {},
   "outputs": [
    {
     "name": "stdout",
     "output_type": "stream",
     "text": [
      "[1, 2, 3, 4]\n",
      "[1, 2, 3, 4]\n"
     ]
    },
    {
     "data": {
      "text/plain": [
       "[1, 2, 3, 4]"
      ]
     },
     "execution_count": 36,
     "metadata": {},
     "output_type": "execute_result"
    }
   ],
   "source": [
    "#Example 2: Three ways to grow a list by appending one element at a time \n",
    "x=[1]\n",
    "x= x + [2]\n",
    "x= x + [3]\n",
    "x= x + [4]\n",
    "print(x)\n",
    "x=[1]\n",
    "x+= [2]\n",
    "x+= [3]\n",
    "x+= [4]\n",
    "print(x)\n",
    "x=[1]\n",
    "x.append(2)\n",
    "x.append(3)\n",
    "x.append(4)\n",
    "x"
   ]
  },
  {
   "cell_type": "markdown",
   "id": "0f7e3f66-00d4-433d-be7d-2fe56904d196",
   "metadata": {},
   "source": [
    "## Some loose ends"
   ]
  },
  {
   "cell_type": "markdown",
   "id": "b3912f5e-aef1-4cd6-ae25-b165c8845081",
   "metadata": {},
   "source": [
    "### Tuples\n",
    "____"
   ]
  },
  {
   "cell_type": "markdown",
   "id": "c933ea08-0101-442d-bb58-97cbf4da48aa",
   "metadata": {},
   "source": [
    "Tuples are similar to lists, except they use ( ) and cannot be changed after creation (i.e., they are immutable)."
   ]
  },
  {
   "cell_type": "code",
   "execution_count": 37,
   "id": "71f6efda-954a-433c-b119-aa0de12df67b",
   "metadata": {},
   "outputs": [],
   "source": [
    "#Sample Tuple\n",
    "a=(1, 2, 3)     # Define tuple"
   ]
  },
  {
   "cell_type": "code",
   "execution_count": 38,
   "id": "5754e7e8-018d-4070-b9ba-3441eec2f69a",
   "metadata": {},
   "outputs": [
    {
     "name": "stdout",
     "output_type": "stream",
     "text": [
      "1\n"
     ]
    }
   ],
   "source": [
    "#To access its data\n",
    "print(a[0])    # Access data"
   ]
  },
  {
   "cell_type": "code",
   "execution_count": 39,
   "id": "c43b373e-5167-444c-98bc-a030aa7010c1",
   "metadata": {},
   "outputs": [
    {
     "ename": "TypeError",
     "evalue": "'tuple' object does not support item assignment",
     "output_type": "error",
     "traceback": [
      "\u001b[0;31m---------------------------------------------------------------------------\u001b[0m",
      "\u001b[0;31mTypeError\u001b[0m                                 Traceback (most recent call last)",
      "Cell \u001b[0;32mIn[39], line 3\u001b[0m\n\u001b[1;32m      1\u001b[0m \u001b[38;5;66;03m#But! We cannot change data\u001b[39;00m\n\u001b[1;32m      2\u001b[0m \u001b[38;5;66;03m# The following will NOT work\u001b[39;00m\n\u001b[0;32m----> 3\u001b[0m \u001b[43ma\u001b[49m\u001b[43m[\u001b[49m\u001b[38;5;241;43m0\u001b[39;49m\u001b[43m]\u001b[49m\u001b[38;5;241m=\u001b[39m\u001b[38;5;241m-\u001b[39m\u001b[38;5;241m1\u001b[39m\n\u001b[1;32m      4\u001b[0m a[\u001b[38;5;241m0\u001b[39m]\u001b[38;5;241m+\u001b[39m\u001b[38;5;241m=\u001b[39m [\u001b[38;5;241m10\u001b[39m]\n",
      "\u001b[0;31mTypeError\u001b[0m: 'tuple' object does not support item assignment"
     ]
    }
   ],
   "source": [
    "#But! We cannot change data\n",
    "# The following will NOT work\n",
    "a[0]=-1\n",
    "a[0]+= [10]"
   ]
  },
  {
   "cell_type": "markdown",
   "id": "a91ada75-595e-42f9-a741-627b99987395",
   "metadata": {},
   "source": [
    "### Be very careful when copying\n",
    "____"
   ]
  },
  {
   "cell_type": "markdown",
   "id": "8e5a72c1-873c-4fea-98ad-77f729b8955b",
   "metadata": {},
   "source": [
    "Variables in Python have subtle features that might make your life miserable if you are not careful. You should be particularly mindful when making copies of lists and arrays.\n",
    "\n",
    "For example, if you want to copy a list, you might be tempted to do the following; <span style='color:red'>PLEASE DON’T!</span>\n"
   ]
  },
  {
   "cell_type": "code",
   "execution_count": 40,
   "id": "ab4c457b-8843-4790-980f-87f60cc494d2",
   "metadata": {},
   "outputs": [],
   "source": [
    "#WRONG Way\n",
    "x=[1, 2, 3]\n",
    "y=x           # DON'T do this!\n",
    "z=x           # DON'T do this!"
   ]
  },
  {
   "cell_type": "code",
   "execution_count": 41,
   "id": "938cde4b-16d1-4d32-a606-6fd188f4792a",
   "metadata": {},
   "outputs": [],
   "source": [
    "#CORRECT Way\n",
    "x=[1, 2, 3]\n",
    "y=x.copy()\n",
    "z=x.copy()"
   ]
  },
  {
   "cell_type": "code",
   "execution_count": null,
   "id": "d3e15573-56a2-4ca6-8be3-628644551835",
   "metadata": {},
   "outputs": [],
   "source": []
  }
 ],
 "metadata": {
  "kernelspec": {
   "display_name": "Python 3 (ipykernel)",
   "language": "python",
   "name": "python3"
  },
  "language_info": {
   "codemirror_mode": {
    "name": "ipython",
    "version": 3
   },
   "file_extension": ".py",
   "mimetype": "text/x-python",
   "name": "python",
   "nbconvert_exporter": "python",
   "pygments_lexer": "ipython3",
   "version": "3.11.5"
  }
 },
 "nbformat": 4,
 "nbformat_minor": 5
}
