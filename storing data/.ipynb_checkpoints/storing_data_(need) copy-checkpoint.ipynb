{
 "cells": [
  {
   "cell_type": "markdown",
   "id": "65961bb9-ce20-48ef-94ef-8e9b578cc1e4",
   "metadata": {},
   "source": [
    "<div style=\"text-align:left;font-size:2em\"><span style=\"font-weight:bolder;font-size:1.25em\">SP2273 | Learning Portfolio</span><br><br><span style=\"font-weight:bold;color:darkred\">Storing Data (need)</span></div>"
   ]
  },
  {
   "cell_type": "markdown",
   "id": "df415fac-6730-4af8-b8ca-795584ef2d73",
   "metadata": {},
   "source": [
    "# What to expect in this chapter"
   ]
  },
  {
   "cell_type": "markdown",
   "id": "959b1769-7031-491b-9cd7-27cbd0e18c47",
   "metadata": {},
   "source": [
    "To help us understand science and solve problems related to science, we must be able to interact with information/data and transform them to yield solutions. To do so, we have to be able to store and manipulate data easily beyond simple variables. Apart from **lists** and **dictionaries** here are some more ways to store data;"
   ]
  },
  {
   "cell_type": "markdown",
   "id": "50a2203b-177f-4628-a9e2-17adf4fb25aa",
   "metadata": {},
   "source": [
    "1. Lists\n",
    "2. Numpy Arrays\n",
    "3. Dictionaries\n",
    "4. Dataframes\n",
    "5. Classes"
   ]
  },
  {
   "cell_type": "markdown",
   "id": "6787edc2-aac8-4dec-b0d7-5d14289b5832",
   "metadata": {},
   "source": [
    "However, we will only discuss Python `lists`, Numpy `Arrays`, `dictionaries` and `tuples`. \n",
    "<br> <span style='color:Red'> *Dataframes can be accessed in the Data processing basket in the applications part*</span>"
   ]
  },
  {
   "cell_type": "markdown",
   "id": "c1287ed6-79a8-4b09-8f73-06f63a117b22",
   "metadata": {},
   "source": [
    "# Lists, Arrays & Dictionaries"
   ]
  },
  {
   "cell_type": "markdown",
   "id": "28fdb8db-47cf-4a62-959f-7f42f3a85f96",
   "metadata": {},
   "source": [
    "## Let's compare\n",
    "____"
   ]
  },
  {
   "cell_type": "markdown",
   "id": "440d7b24-e267-4e2b-b2f3-20415a30f189",
   "metadata": {},
   "source": [
    "Here are some ways to store information using <span style = 'color: orange'> lists, arrays </span> and <span style='color:orange'>dictionaries </span>.  "
   ]
  },
  {
   "cell_type": "markdown",
   "id": "2e300533-7489-4fbb-ab41-32d0c0f869e7",
   "metadata": {},
   "source": [
    "**Python Lists**"
   ]
  },
  {
   "cell_type": "code",
   "execution_count": 10,
   "id": "23c4efff-18e5-4f36-b4af-9856fa5e5fee",
   "metadata": {},
   "outputs": [],
   "source": [
    "py_super_names = ['Black Widow', 'Iron Man', 'Doctor Strange']\n",
    "py_real_names = ['Natasha Romanoff', 'Tony Stark', 'Stephen Strange']"
   ]
  },
  {
   "cell_type": "markdown",
   "id": "3f8e5bf5-76f0-4e88-9bd9-66aa7179769e",
   "metadata": {},
   "source": [
    "**Numpy Arrays**"
   ]
  },
  {
   "cell_type": "code",
   "execution_count": 4,
   "id": "fe345102-6d00-4206-8a7d-5a5bd810755b",
   "metadata": {},
   "outputs": [
    {
     "ename": "NameError",
     "evalue": "name 'np' is not defined",
     "output_type": "error",
     "traceback": [
      "\u001b[0;31m---------------------------------------------------------------------------\u001b[0m",
      "\u001b[0;31mNameError\u001b[0m                                 Traceback (most recent call last)",
      "Cell \u001b[0;32mIn[4], line 1\u001b[0m\n\u001b[0;32m----> 1\u001b[0m np_super_names \u001b[38;5;241m=\u001b[39m \u001b[43mnp\u001b[49m\u001b[38;5;241m.\u001b[39marray([\u001b[38;5;124m'\u001b[39m\u001b[38;5;124mBlack Widow\u001b[39m\u001b[38;5;124m'\u001b[39m, \u001b[38;5;124m'\u001b[39m\u001b[38;5;124mIron Man\u001b[39m\u001b[38;5;124m'\u001b[39m, \u001b[38;5;124m'\u001b[39m\u001b[38;5;124mDoctor Strange\u001b[39m\u001b[38;5;124m'\u001b[39m])\n\u001b[1;32m      2\u001b[0m np_real_names \u001b[38;5;241m=\u001b[39m np\u001b[38;5;241m.\u001b[39marray([\u001b[38;5;124m'\u001b[39m\u001b[38;5;124mNatasha Romanoff\u001b[39m\u001b[38;5;124m'\u001b[39m, \u001b[38;5;124m'\u001b[39m\u001b[38;5;124mTony Stark\u001b[39m\u001b[38;5;124m'\u001b[39m, \u001b[38;5;124m'\u001b[39m\u001b[38;5;124mStephen Strange\u001b[39m\u001b[38;5;124m'\u001b[39m])\n",
      "\u001b[0;31mNameError\u001b[0m: name 'np' is not defined"
     ]
    }
   ],
   "source": [
    "np_super_names = np.array(['Black Widow', 'Iron Man', 'Doctor Strange'])\n",
    "np_real_names = np.array(['Natasha Romanoff', 'Tony Stark', 'Stephen Strange'])"
   ]
  },
  {
   "cell_type": "code",
   "execution_count": 5,
   "id": "5b8343ed-19ba-446b-818c-801105dfe9f3",
   "metadata": {},
   "outputs": [],
   "source": [
    "import numpy as np"
   ]
  },
  {
   "cell_type": "code",
   "execution_count": 6,
   "id": "399adebd-ba61-45ad-ac74-0f25d631560f",
   "metadata": {},
   "outputs": [],
   "source": [
    "np_super_names = np.array(['Black Widow', 'Iron Man', 'Doctor Strange'])\n",
    "np_real_names = np.array(['Natasha Romanoff', 'Tony Stark', 'Stephen Strange'])"
   ]
  },
  {
   "cell_type": "markdown",
   "id": "ff79fd26-79eb-4f39-ad89-358515ed7186",
   "metadata": {},
   "source": [
    "**Dictionary**"
   ]
  },
  {
   "cell_type": "code",
   "execution_count": 18,
   "id": "c2df7dfe-e4e3-4031-9e06-edc3f5dad403",
   "metadata": {},
   "outputs": [],
   "source": [
    "superhero_info = {\n",
    "    'Natasha Romanoff':'Black Widow',\n",
    "    'Tony Stark':'Iron Man',\n",
    "    'Stephen Strange':'Doctor Strange'\n",
    "}"
   ]
  },
  {
   "cell_type": "markdown",
   "id": "c4bb62c2-a8cf-4d80-8c59-89a56932ca75",
   "metadata": {},
   "source": [
    "Notes: \n",
    "- Dictionaries use a key and an associated value that is separated by a `:`\n",
    "- The dictionary very elegantly holds the real and superhero names in one structure while we need 2 lists (or arrays) for the same data.\n",
    "- For lists and arrays, the order matters. (i.e. \"Iron Man\" must be in the same position as \"Tony Stark\") for things to work. "
   ]
  },
  {
   "cell_type": "markdown",
   "id": "f5672d02-a500-46a4-8c75-475b0da3f2c8",
   "metadata": {},
   "source": [
    "## Accessing Data from a list (or array)\n",
    "_____"
   ]
  },
  {
   "cell_type": "markdown",
   "id": "f685532c-cde3-4c3a-b2a0-f24098187786",
   "metadata": {},
   "source": [
    "We use an index corresponding to the data's position. \n",
    "<br> Python is a zero-induced language, meaning that it starts counting at 0. Hence we start from zero. \n",
    "Here's an image for our reference!"
   ]
  },
  {
   "cell_type": "markdown",
   "id": "7a745c6b-312c-4c91-bddb-8ecb6ca5dcfd",
   "metadata": {},
   "source": [
    "![](https://sps.nus.edu.sg/sp2273/docs/python_basics/03_storing-data/python-zero-indexed-counting.png)"
   ]
  },
  {
   "cell_type": "code",
   "execution_count": 11,
   "id": "3a47df03-1afa-42cf-8b81-70dd21e6ede7",
   "metadata": {},
   "outputs": [],
   "source": [
    "py_super_names = ['Black Widow', 'Iron Man', 'Doctor Strange']\n",
    "py_real_names = ['Natasha Romanoff', 'Tony Stark', 'Stephen Strange']"
   ]
  },
  {
   "cell_type": "code",
   "execution_count": 12,
   "id": "a0a2fecf-8e5a-498a-a8aa-51f7d80695bd",
   "metadata": {},
   "outputs": [
    {
     "data": {
      "text/plain": [
       "'Doctor Strange'"
      ]
     },
     "execution_count": 12,
     "metadata": {},
     "output_type": "execute_result"
    }
   ],
   "source": [
    "#Example 1\n",
    "py_super_names[2]"
   ]
  },
  {
   "cell_type": "code",
   "execution_count": 14,
   "id": "edcfe270-a2a0-47f9-aa0d-c2570adaf365",
   "metadata": {},
   "outputs": [
    {
     "data": {
      "text/plain": [
       "'Black Widow'"
      ]
     },
     "execution_count": 14,
     "metadata": {},
     "output_type": "execute_result"
    }
   ],
   "source": [
    "#Example 2\n",
    "py_super_names[0]"
   ]
  },
  {
   "cell_type": "code",
   "execution_count": 15,
   "id": "7b039e8a-5061-43af-afca-bbb020fb0f3f",
   "metadata": {},
   "outputs": [
    {
     "data": {
      "text/plain": [
       "'Doctor Strange'"
      ]
     },
     "execution_count": 15,
     "metadata": {},
     "output_type": "execute_result"
    }
   ],
   "source": [
    "#Example 3: Using a negative index to count from the back of the list. E.g. -1 gives te last element \n",
    "#This is an example of forward indexing\n",
    "py_super_names[2] "
   ]
  },
  {
   "cell_type": "code",
   "execution_count": 17,
   "id": "70b260b9-52d8-46a9-af05-fc627a2e4060",
   "metadata": {},
   "outputs": [
    {
     "data": {
      "text/plain": [
       "'Doctor Strange'"
      ]
     },
     "execution_count": 17,
     "metadata": {},
     "output_type": "execute_result"
    }
   ],
   "source": [
    "#Example of Negative/Reverse Indexing\n",
    "py_super_names[-1]"
   ]
  },
  {
   "cell_type": "markdown",
   "id": "82397ba4-fcf8-43c6-86b2-018d213e46a8",
   "metadata": {},
   "source": [
    "## Accessing Data from a dictionary\n",
    "____"
   ]
  },
  {
   "cell_type": "markdown",
   "id": "18c9b135-f5a9-43a4-89f6-2d5077e3d9ce",
   "metadata": {},
   "source": [
    "- Dictionaries hold a value with a key, in this case we can access the value using the key. Here is an example of how it works:"
   ]
  },
  {
   "cell_type": "code",
   "execution_count": null,
   "id": "ad45ad43-0380-4020-9b82-ef02b9b26f02",
   "metadata": {},
   "outputs": [],
   "source": [
    "superhero_info = {\n",
    "    'Natasha Romanoff':'Black Widow',\n",
    "    'Tony Stark':'Iron Man',\n",
    "    'Stephen Strange':'Doctor Strange'\n",
    "}"
   ]
  },
  {
   "cell_type": "code",
   "execution_count": 21,
   "id": "035834a3-3e8c-4df0-81ef-0e9df9c50365",
   "metadata": {},
   "outputs": [
    {
     "data": {
      "text/plain": [
       "'Black Widow'"
      ]
     },
     "execution_count": 21,
     "metadata": {},
     "output_type": "execute_result"
    }
   ],
   "source": [
    "superhero_info[\"Natasha Romanoff\"]"
   ]
  },
  {
   "cell_type": "code",
   "execution_count": 22,
   "id": "116065ea-854b-4ee3-9789-f9f13ff252b1",
   "metadata": {},
   "outputs": [
    {
     "ename": "KeyError",
     "evalue": "'Black Widow'",
     "output_type": "error",
     "traceback": [
      "\u001b[0;31m---------------------------------------------------------------------------\u001b[0m",
      "\u001b[0;31mKeyError\u001b[0m                                  Traceback (most recent call last)",
      "Cell \u001b[0;32mIn[22], line 1\u001b[0m\n\u001b[0;32m----> 1\u001b[0m \u001b[43msuperhero_info\u001b[49m\u001b[43m[\u001b[49m\u001b[38;5;124;43m\"\u001b[39;49m\u001b[38;5;124;43mBlack Widow\u001b[39;49m\u001b[38;5;124;43m\"\u001b[39;49m\u001b[43m]\u001b[49m\n",
      "\u001b[0;31mKeyError\u001b[0m: 'Black Widow'"
     ]
    }
   ],
   "source": [
    "superhero_info[\"Black Widow\"]"
   ]
  },
  {
   "cell_type": "markdown",
   "id": "466430e3-793b-4b60-971f-01d4fbb33c6c",
   "metadata": {},
   "source": [
    "<span style='color:red'>*We can only access the values using the keys, not the other way round* </span>"
   ]
  },
  {
   "cell_type": "code",
   "execution_count": 23,
   "id": "7d3905cf-2d9e-4b71-a404-ae13bd0cb03a",
   "metadata": {},
   "outputs": [
    {
     "data": {
      "text/plain": [
       "dict_keys(['Natasha Romanoff', 'Tony Stark', 'Stephen Strange'])"
      ]
     },
     "execution_count": 23,
     "metadata": {},
     "output_type": "execute_result"
    }
   ],
   "source": [
    "superhero_info.keys()"
   ]
  },
  {
   "cell_type": "code",
   "execution_count": 24,
   "id": "0c584be7-a3e7-4500-a5dd-1f19d3f15fb1",
   "metadata": {},
   "outputs": [
    {
     "data": {
      "text/plain": [
       "dict_values(['Black Widow', 'Iron Man', 'Doctor Strange'])"
      ]
     },
     "execution_count": 24,
     "metadata": {},
     "output_type": "execute_result"
    }
   ],
   "source": [
    "superhero_info.values()"
   ]
  },
  {
   "cell_type": "markdown",
   "id": "4be2828a-df8c-44b7-8abf-ff77e8117073",
   "metadata": {},
   "source": [
    "## Higher Dimensional Lists\n",
    "_______"
   ]
  },
  {
   "cell_type": "markdown",
   "id": "14fbe8ab-4855-4cad-babf-6579b7467f5f",
   "metadata": {},
   "source": [
    "A way to get around needing 2 lists, is to have a 2D list (or array) as follows :) "
   ]
  },
  {
   "cell_type": "code",
   "execution_count": 25,
   "id": "182f9592-2cc2-4080-8ffc-eb0f02780c28",
   "metadata": {},
   "outputs": [],
   "source": [
    "py_superhero_info = [['Natasha Romanoff', 'Black Widow'],\n",
    "                     ['Tony Stark', 'Iron Man'],\n",
    "                     ['Stephen Strange', 'Doctor Strange']]"
   ]
  },
  {
   "cell_type": "markdown",
   "id": "4c215943-97b3-437a-be9e-77fd733cd46f",
   "metadata": {},
   "source": [
    "# Lists vs Arrays"
   ]
  },
  {
   "cell_type": "markdown",
   "id": "d5bc89b3-e728-4935-b10f-2b48a41c349c",
   "metadata": {},
   "source": [
    "## Size\n",
    "_____"
   ]
  },
  {
   "cell_type": "markdown",
   "id": "e99b33a4-dabf-40f4-9b85-38c45a73a1e1",
   "metadata": {},
   "source": [
    "We can use the `len( )` function to know how many elements there are in a list or an array"
   ]
  },
  {
   "cell_type": "code",
   "execution_count": 27,
   "id": "e044c97e-d9be-4c04-8a17-1996359dc5bf",
   "metadata": {},
   "outputs": [],
   "source": [
    "py_list_2d = [[1, \"A\"], [2, \"B\"], [3, \"C\"], [4, \"D\"],\n",
    "              [5, \"E\"], [6, \"F\"], [7, \"G\"], [8, \"H\"],\n",
    "              [9, \"I\"], [10, \"J\"]]\n",
    "\n",
    "np_array_2d = np.array(py_list_2d)      # Reusing the Python list \n",
    "                                        # to create a NEW\n",
    "                                        # NumPy array"
   ]
  },
  {
   "cell_type": "code",
   "execution_count": 28,
   "id": "9fe8ff67-d4fc-4beb-8cfe-c734f04e3cf5",
   "metadata": {},
   "outputs": [
    {
     "data": {
      "text/plain": [
       "(10, 2)"
      ]
     },
     "execution_count": 28,
     "metadata": {},
     "output_type": "execute_result"
    }
   ],
   "source": [
    "len(py_list_2d)\n",
    "len(np_array_2d)\n",
    "np_array_2d.shape"
   ]
  },
  {
   "cell_type": "markdown",
   "id": "10c93685-d25c-4cd4-8b3d-684c078be4c3",
   "metadata": {},
   "source": [
    "*Shape is not a function, it is a property or attribute of the NumPy array*"
   ]
  },
  {
   "cell_type": "markdown",
   "id": "72c17099-12d3-4b69-a9c1-4c43ce9eca0c",
   "metadata": {},
   "source": [
    "## Arrays are fussy about type\n",
    "_____"
   ]
  },
  {
   "cell_type": "markdown",
   "id": "e335f957-148d-4fa9-8117-324826c8a83a",
   "metadata": {},
   "source": [
    "data types = `int`, `float`, `str`\n",
    "<br> The difference between lists and arrays is that arrays insist on having a single data type; lists are more accomodating"
   ]
  },
  {
   "cell_type": "code",
   "execution_count": 31,
   "id": "9a9bec2a-3aa8-4dc4-aabb-ebf638fe6942",
   "metadata": {},
   "outputs": [],
   "source": [
    "py_list=[1,1.5,'A']\n",
    "np_array = np.array(py_list)"
   ]
  },
  {
   "cell_type": "code",
   "execution_count": 30,
   "id": "69715375-26c4-494a-a9c6-ecfd3b2218fc",
   "metadata": {},
   "outputs": [
    {
     "data": {
      "text/plain": [
       "array(['1', '1.5', 'A'], dtype='<U32')"
      ]
     },
     "execution_count": 30,
     "metadata": {},
     "output_type": "execute_result"
    }
   ],
   "source": [
    "py_list\n",
    "np_array"
   ]
  },
  {
   "cell_type": "markdown",
   "id": "85648ab5-6b81-4177-b258-8c3b712d5efa",
   "metadata": {},
   "source": [
    "We'll learn about the hidden function `astypes()` in a later chapter"
   ]
  },
  {
   "cell_type": "markdown",
   "id": "31bc0b21-77b7-4c6d-a27d-81511c918fa9",
   "metadata": {},
   "source": [
    "## Adding a number\n",
    "______"
   ]
  },
  {
   "cell_type": "code",
   "execution_count": 36,
   "id": "bbe46416-d429-4fd2-a923-8640d1bb76b0",
   "metadata": {},
   "outputs": [],
   "source": [
    "py_list = [1, 2, 3, 4, 5]\n",
    "np_array = np.array(py_list)         # Reusing the Python list\n",
    "                                     # to create a NEW\n",
    "                                     # NumPy array"
   ]
  },
  {
   "cell_type": "code",
   "execution_count": 37,
   "id": "5f6d7a4b-de37-4c41-9a23-e938e4921353",
   "metadata": {},
   "outputs": [
    {
     "data": {
      "text/plain": [
       "array([11, 12, 13, 14, 15])"
      ]
     },
     "execution_count": 37,
     "metadata": {},
     "output_type": "execute_result"
    }
   ],
   "source": [
    "np_array + 10"
   ]
  },
  {
   "cell_type": "markdown",
   "id": "b4cdff09-b354-4ec9-a830-be8844f8dc59",
   "metadata": {},
   "source": [
    "<span style='color:red'>*py_list + 10 won't work </span>\n",
    "<br> The expression py_list + 10 won't work because it attempts to add an integer (10) to a list (py_list), which is not a valid operation in Python."
   ]
  },
  {
   "cell_type": "markdown",
   "id": "0a44b946-7f88-42d1-83f2-38e99af04441",
   "metadata": {},
   "source": [
    "## Adding another list\n",
    "_______"
   ]
  },
  {
   "cell_type": "code",
   "execution_count": 38,
   "id": "d46e6470-de34-4f8e-8c82-479900fa9fb3",
   "metadata": {},
   "outputs": [],
   "source": [
    "py_list_1 = [1, 2, 3, 4, 5]\n",
    "py_list_2 = [10, 20, 30, 40, 50]\n",
    "\n",
    "np_array_1 = np.array(py_list_1)\n",
    "np_array_2 = np.array(py_list_2)"
   ]
  },
  {
   "cell_type": "code",
   "execution_count": 45,
   "id": "a918388c-107c-4c25-8d83-ac64abf9bc88",
   "metadata": {},
   "outputs": [
    {
     "name": "stdout",
     "output_type": "stream",
     "text": [
      "[1, 2, 3, 4, 5, 10, 20, 30, 40, 50]\n",
      "[11 22 33 44 55]\n"
     ]
    }
   ],
   "source": [
    "print(py_list_1+py_list_2)\n",
    "print(np_array_1+ np_array_2)"
   ]
  },
  {
   "cell_type": "markdown",
   "id": "21215289-3f50-4896-bfc1-ab31c850ea38",
   "metadata": {},
   "source": [
    "## Multiplying by a Number\n",
    "____"
   ]
  },
  {
   "cell_type": "code",
   "execution_count": 41,
   "id": "a7bd34cd-c336-498c-8e09-149b806d4871",
   "metadata": {},
   "outputs": [],
   "source": [
    "py_list = [1, 2, 3, 4, 5]\n",
    "np_array = np.array(py_list)         "
   ]
  },
  {
   "cell_type": "code",
   "execution_count": 44,
   "id": "cbae3dba-d448-4d37-bc8f-6b4a3915991c",
   "metadata": {},
   "outputs": [
    {
     "name": "stdout",
     "output_type": "stream",
     "text": [
      "[1, 2, 3, 4, 5, 1, 2, 3, 4, 5]\n",
      "[ 2  4  6  8 10]\n"
     ]
    }
   ],
   "source": [
    "print(py_list*2)\n",
    "print(np_array*2)\n"
   ]
  },
  {
   "cell_type": "markdown",
   "id": "578af69b-5bfd-400d-a588-2e54131c48e0",
   "metadata": {},
   "source": [
    "*Multiplying by a number makes a list grow, but when an array multiplies it multiplies its elements by the number*"
   ]
  },
  {
   "cell_type": "markdown",
   "id": "f19db842-c58c-4d83-877b-f60e69432377",
   "metadata": {},
   "source": [
    "## Squaring\n",
    "_____"
   ]
  },
  {
   "cell_type": "code",
   "execution_count": 46,
   "id": "99294eb2-08b3-4e09-b4e2-557ec6a8de69",
   "metadata": {},
   "outputs": [],
   "source": [
    "py_list = [1, 2, 3, 4, 5]\n",
    "np_array = np.array(py_list)"
   ]
  },
  {
   "cell_type": "code",
   "execution_count": 48,
   "id": "4fd8079f-bb01-4a45-b9bc-66f3bef29a97",
   "metadata": {},
   "outputs": [
    {
     "name": "stdout",
     "output_type": "stream",
     "text": [
      "[ 1  4  9 16 25]\n"
     ]
    }
   ],
   "source": [
    "\n",
    "print(np_array **2)"
   ]
  },
  {
   "cell_type": "code",
   "execution_count": 51,
   "id": "16e19d30-6462-4269-b0c0-2746ca4a13be",
   "metadata": {},
   "outputs": [
    {
     "ename": "TypeError",
     "evalue": "unsupported operand type(s) for ** or pow(): 'list' and 'int'",
     "output_type": "error",
     "traceback": [
      "\u001b[0;31m---------------------------------------------------------------------------\u001b[0m",
      "\u001b[0;31mTypeError\u001b[0m                                 Traceback (most recent call last)",
      "Cell \u001b[0;32mIn[51], line 1\u001b[0m\n\u001b[0;32m----> 1\u001b[0m \u001b[38;5;28mprint\u001b[39m(\u001b[43mpy_list\u001b[49m\u001b[43m \u001b[49m\u001b[38;5;241;43m*\u001b[39;49m\u001b[38;5;241;43m*\u001b[39;49m\u001b[38;5;241;43m2\u001b[39;49m)\n",
      "\u001b[0;31mTypeError\u001b[0m: unsupported operand type(s) for ** or pow(): 'list' and 'int'"
     ]
    }
   ],
   "source": [
    "print(py_list **2)"
   ]
  },
  {
   "cell_type": "markdown",
   "id": "2a97f920-b46d-48c2-8a00-51f00846a6c6",
   "metadata": {},
   "source": [
    "*py_list ** 2 won't work!*"
   ]
  },
  {
   "cell_type": "markdown",
   "id": "6532deca-0de2-4732-9894-b80874257cec",
   "metadata": {},
   "source": [
    "## Asking questions\n",
    "____"
   ]
  },
  {
   "cell_type": "code",
   "execution_count": 52,
   "id": "b2201eb5-18d6-4d1a-8990-f4c2703b4865",
   "metadata": {},
   "outputs": [],
   "source": [
    "py_list = [1, 2, 3, 4, 5]\n",
    "np_array = np.array(py_list)         "
   ]
  },
  {
   "cell_type": "code",
   "execution_count": 53,
   "id": "574a71d2-a0f2-4baf-8502-d17fc7ea16bf",
   "metadata": {},
   "outputs": [
    {
     "data": {
      "text/plain": [
       "array([False, False, False,  True,  True])"
      ]
     },
     "execution_count": 53,
     "metadata": {},
     "output_type": "execute_result"
    }
   ],
   "source": [
    "py_list == 3     # Works, but what IS the question?\n",
    "np_array == 3  \n",
    "np_array > 3  "
   ]
  },
  {
   "cell_type": "code",
   "execution_count": 56,
   "id": "f36fa6d1-6047-41af-91f1-6fc3c3af9b04",
   "metadata": {},
   "outputs": [
    {
     "data": {
      "text/plain": [
       "array([False, False, False,  True,  True])"
      ]
     },
     "execution_count": 56,
     "metadata": {},
     "output_type": "execute_result"
    }
   ],
   "source": [
    "py_list == 3     # checks if the list equals to 3?\n",
    "np_array == 3    #checks if the array equal to 3?\n",
    "np_array > 3     #checks if the values in the array is more than 3? "
   ]
  },
  {
   "cell_type": "markdown",
   "id": "794bb9b3-da67-4acf-a398-30ad038b8c7d",
   "metadata": {},
   "source": [
    "## Mathematics\n",
    "_____"
   ]
  },
  {
   "cell_type": "code",
   "execution_count": 57,
   "id": "c15bbe48-51b3-4d9d-af49-0ab141aa834c",
   "metadata": {},
   "outputs": [],
   "source": [
    "py_list = [1, 2, 3, 4, 5]\n",
    "np_array = np.array(py_list)         "
   ]
  },
  {
   "cell_type": "code",
   "execution_count": 61,
   "id": "1411edb7-ebdc-43d0-8f34-9f30bf8ac90e",
   "metadata": {},
   "outputs": [
    {
     "name": "stdout",
     "output_type": "stream",
     "text": [
      "15\n",
      "5\n",
      "1\n",
      "15\n",
      "5\n",
      "1\n",
      "3.0\n",
      "1.4142135623730951\n"
     ]
    }
   ],
   "source": [
    "print(sum(py_list))     # sum() is a base Python function\n",
    "print(max(py_list))     # max() is a base Python function\n",
    "print(min(py_list))     # min() is a base Python function\n",
    "print(np_array.sum())\n",
    "print(np_array.max())\n",
    "print(np_array.min())\n",
    "print(np_array.mean())\n",
    "print(np_array.std())"
   ]
  },
  {
   "cell_type": "markdown",
   "id": "d416406e-ab0f-480c-82cf-3685f0d8318d",
   "metadata": {},
   "source": [
    "**<span style='color:green'>(roughly speaking) an operation on a list works on the whole list. In contrast, an operation on an array works on the individual elements of the array.**</span>"
   ]
  },
  {
   "cell_type": "code",
   "execution_count": null,
   "id": "2f7ada31-af47-4f9f-b77c-8718e65239ee",
   "metadata": {},
   "outputs": [],
   "source": []
  }
 ],
 "metadata": {
  "kernelspec": {
   "display_name": "Python 3 (ipykernel)",
   "language": "python",
   "name": "python3"
  },
  "language_info": {
   "codemirror_mode": {
    "name": "ipython",
    "version": 3
   },
   "file_extension": ".py",
   "mimetype": "text/x-python",
   "name": "python",
   "nbconvert_exporter": "python",
   "pygments_lexer": "ipython3",
   "version": "3.11.5"
  }
 },
 "nbformat": 4,
 "nbformat_minor": 5
}
